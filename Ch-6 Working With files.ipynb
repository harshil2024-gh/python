{
 "cells": [
  {
   "cell_type": "markdown",
   "metadata": {},
   "source": [
    "# Chapter 6 Working With FILES"
   ]
  },
  {
   "cell_type": "markdown",
   "metadata": {},
   "source": [
    "**Python inbuilt function\n",
    "\n",
    "        -create\n",
    "        \n",
    "        -Read\n",
    "        \n",
    "        -write\n",
    "#Types of files:-\n",
    "\n",
    "    1)Text files\n",
    "    \n",
    "    2)Binary files\n",
    "    \n",
    "    terminate line with: '\\n'    \n",
    "    \n",
    "    read,write and append operation\n",
    "    \n",
    "    r or rt-->read only mode(Default mode)  -->Error if file not exists\n",
    "    \n",
    "    r+ -->read and write both writing start from beginning\n",
    "    \n",
    "    w or wt-->write only mode. After opening file it will clear out text written previous and \n",
    "    if file not exists then file will created\n",
    "    \n",
    "    w+ -->read and write both file will be clear out while opening\n",
    "    \n",
    "    a or at -->append only mode. After opening file it will not erase previous data andd add data in end of file and \n",
    "    if file not exists then file will created\n",
    "    \n",
    "    a+ -->read and append both writing start from end"
   ]
  },
  {
   "cell_type": "code",
   "execution_count": 17,
   "metadata": {},
   "outputs": [
    {
     "name": "stdout",
     "output_type": "stream",
     "text": [
      "This a sample text file.\n",
      "This is demo.txt file\n",
      "\n",
      "False\n",
      "True\n"
     ]
    }
   ],
   "source": [
    "#opening a file\n",
    "#  f=open(filename,mode)\n",
    "f=open(\"demo.txt\",\"r\")\n",
    "print(f.read())  #read a file\n",
    "print(f.closed)\n",
    "f.close()  #closing file\n",
    "print(f.closed)"
   ]
  },
  {
   "cell_type": "code",
   "execution_count": 15,
   "metadata": {},
   "outputs": [
    {
     "name": "stdout",
     "output_type": "stream",
     "text": [
      "This a sample text file.\n",
      "This is demo.txt file\n",
      "\n",
      "False\n",
      "True\n"
     ]
    }
   ],
   "source": [
    "with open(\"demo.txt\",\"r\") as f:\n",
    "    print(f.read())\n",
    "    print(f.closed)\n",
    "print(f.closed) #file will be automatically closed    "
   ]
  },
  {
   "cell_type": "code",
   "execution_count": 28,
   "metadata": {},
   "outputs": [],
   "source": [
    "f=open(\"demo.txt\",\"r+\")\n",
    "f.write(\"This is java xyz bcds\")\n",
    "f.close()"
   ]
  },
  {
   "cell_type": "code",
   "execution_count": 56,
   "metadata": {},
   "outputs": [
    {
     "name": "stdout",
     "output_type": "stream",
     "text": [
      "This is Python 1\n",
      "This is Python 2\n",
      "This is Python 3\n",
      "This is Python 4\n",
      "67\n",
      "0\n",
      "This is Python 1\n",
      "This is Python 2\n",
      "This is Python 3\n",
      "This is Python 4\n"
     ]
    }
   ],
   "source": [
    "#read operations\n",
    "'''\n",
    "1)read()\n",
    "2)readline()\n",
    "3)readlines()\n",
    "\n",
    "'''\n",
    "f=open(\"demo.txt\",\"rt\")\n",
    "print(f.read())\n",
    "print(f.tell())\n",
    "f.seek(0)\n",
    "print(f.tell())\n",
    "print(f.read())"
   ]
  },
  {
   "cell_type": "code",
   "execution_count": 57,
   "metadata": {},
   "outputs": [
    {
     "name": "stdout",
     "output_type": "stream",
     "text": [
      "This \n",
      "5\n",
      "is Python \n",
      "15\n",
      "1\n",
      "T\n",
      "18\n",
      "his is Python 2\n",
      "This\n"
     ]
    }
   ],
   "source": [
    "#read(size) by default size=-1 i.e whole file\n",
    "f=open(\"demo.txt\",\"rt\")\n",
    "print(f.read(5))\n",
    "print(f.tell())\n",
    "print(f.read(10))\n",
    "print(f.tell())\n",
    "print(f.read(3))\n",
    "print(f.tell())\n",
    "print(f.read(20))"
   ]
  },
  {
   "cell_type": "code",
   "execution_count": 60,
   "metadata": {},
   "outputs": [
    {
     "name": "stdout",
     "output_type": "stream",
     "text": [
      "This is Python 1\n",
      "\n",
      "This is Python 2\n",
      "\n",
      "This is Python 3\n",
      "\n",
      "0\n",
      "This is Python 1\n",
      "\n"
     ]
    }
   ],
   "source": [
    "f=open(\"demo.txt\",\"r\")\n",
    "print(f.readline())\n",
    "print(f.readline())\n",
    "print(f.readline())\n",
    "print(f.seek(0))\n",
    "print(f.readline())"
   ]
  },
  {
   "cell_type": "code",
   "execution_count": 68,
   "metadata": {},
   "outputs": [
    {
     "name": "stdout",
     "output_type": "stream",
     "text": [
      "This \n",
      "is Pytho\n",
      "n 1\n",
      "\n",
      "This is Python 2\n",
      "\n",
      "This \n",
      "is Python 3\n",
      "\n"
     ]
    }
   ],
   "source": [
    "'''\n",
    "\n",
    "file f:\n",
    "This is Python 1\n",
    "This is Python 2\n",
    "This is Python 3\n",
    "This is Python 4\n",
    "'''\n",
    "f=open(\"demo.txt\",\"r\")\n",
    "print(f.readline(5))\n",
    "print(f.readline(8))\n",
    "print(f.readline(10))\n",
    "print(f.readline(20))\n",
    "print(f.readline(5))\n",
    "print(f.readline(50))"
   ]
  },
  {
   "cell_type": "code",
   "execution_count": 71,
   "metadata": {},
   "outputs": [
    {
     "name": "stdout",
     "output_type": "stream",
     "text": [
      "['This is Python 1\\n', 'This is Python 2\\n']\n"
     ]
    }
   ],
   "source": [
    "#readlines()\n",
    "f=open(\"demo.txt\",\"r\")\n",
    "print(f.readlines())"
   ]
  },
  {
   "cell_type": "code",
   "execution_count": 92,
   "metadata": {},
   "outputs": [
    {
     "name": "stdout",
     "output_type": "stream",
     "text": [
      "['This is Python 1\\n', 'This is Python 2\\n']\n"
     ]
    },
    {
     "data": {
      "text/plain": [
       "0"
      ]
     },
     "execution_count": 92,
     "metadata": {},
     "output_type": "execute_result"
    }
   ],
   "source": [
    "f=open(\"demo.txt\",\"r\")\n",
    "print(f.readlines(30))\n",
    "f.seek(0)"
   ]
  },
  {
   "cell_type": "code",
   "execution_count": 93,
   "metadata": {},
   "outputs": [
    {
     "name": "stdout",
     "output_type": "stream",
     "text": [
      "['This is Python 1\\n']\n"
     ]
    },
    {
     "data": {
      "text/plain": [
       "0"
      ]
     },
     "execution_count": 93,
     "metadata": {},
     "output_type": "execute_result"
    }
   ],
   "source": [
    "print(f.readlines(12))\n",
    "f.seek(0)"
   ]
  },
  {
   "cell_type": "code",
   "execution_count": 91,
   "metadata": {},
   "outputs": [
    {
     "name": "stdout",
     "output_type": "stream",
     "text": [
      "['This is Python 1\\n', 'This is Python 2\\n']\n"
     ]
    }
   ],
   "source": [
    "print(f.readlines(17))\n",
    "# print(f.tell()) -->OSERROR"
   ]
  },
  {
   "cell_type": "code",
   "execution_count": 94,
   "metadata": {},
   "outputs": [
    {
     "name": "stdout",
     "output_type": "stream",
     "text": [
      "['This is Python 1\\n', 'This is Python 2\\n', 'This is Python 3\\n', 'This is Python 4']\n",
      "67\n"
     ]
    }
   ],
   "source": [
    "f.seek(0)\n",
    "print(f.readlines())\n",
    "print(f.tell())"
   ]
  },
  {
   "cell_type": "code",
   "execution_count": 105,
   "metadata": {},
   "outputs": [],
   "source": [
    "#writting the files\n",
    "f=open(\"b2.txt\",\"w\")\n",
    "f.write(\"This is test2 file\")\n",
    "f.close()"
   ]
  },
  {
   "cell_type": "code",
   "execution_count": 107,
   "metadata": {},
   "outputs": [],
   "source": [
    "with open (\"b2.txt\",\"w\") as f:\n",
    "    f.write(\"This is alternate method\")"
   ]
  },
  {
   "cell_type": "code",
   "execution_count": 113,
   "metadata": {},
   "outputs": [],
   "source": [
    "f=open(\"b2.txt\",\"w\")\n",
    "f.write(\"This is line 1\\nThis is Line 2\\nThis is Line 3\")\n",
    "f.close()"
   ]
  },
  {
   "cell_type": "code",
   "execution_count": 112,
   "metadata": {},
   "outputs": [
    {
     "name": "stdout",
     "output_type": "stream",
     "text": [
      "Enter Name-1:max\n",
      "Enter Name-2:lucus\n",
      "Enter Name-3:kabir\n",
      "Enter Name-4:ram\n",
      "Enter Name-5:shyam\n"
     ]
    }
   ],
   "source": [
    "f=open(\"test.txt\",\"w\")\n",
    "for i in range(5):\n",
    "    name=input(f\"Enter Name-{i+1}:\")\n",
    "    f.write(name+\"\\n\")\n",
    "f.close()    "
   ]
  },
  {
   "cell_type": "code",
   "execution_count": 119,
   "metadata": {},
   "outputs": [
    {
     "data": {
      "text/plain": [
       "'\\nA\\nB\\nC\\nD\\nE\\n'"
      ]
     },
     "execution_count": 119,
     "metadata": {},
     "output_type": "execute_result"
    }
   ],
   "source": [
    "f=open(\"b2.txt\",\"w\")\n",
    "l=[\"A\\n\",\"B\\n\",\"C\\n\",\"D\\n\",\"E\"]\n",
    "f.writelines(l)\n",
    "f.close()\n",
    "\n",
    "#b2.txt file:\n",
    "'''\n",
    "A\n",
    "B\n",
    "C\n",
    "D\n",
    "E\n",
    "'''"
   ]
  },
  {
   "cell_type": "code",
   "execution_count": 117,
   "metadata": {},
   "outputs": [],
   "source": [
    "f=open(\"test.txt\",\"w\")\n",
    "l=[\"A\",\"B\",\"C\",\"D\",\"E\"]\n",
    "f.writelines(l)\n",
    "f.close()\n",
    "\n",
    "#test.txt file: ABCDE"
   ]
  },
  {
   "cell_type": "code",
   "execution_count": 1,
   "metadata": {},
   "outputs": [
    {
     "name": "stdout",
     "output_type": "stream",
     "text": [
      "Enter Name-1:aman\n",
      "Enter Name-2:yash\n",
      "Enter Name-3:raj\n",
      "Enter Name-4:kuldeep\n",
      "Enter Name-5:ravi\n"
     ]
    }
   ],
   "source": [
    "f=open(\"test.txt\",\"w\")\n",
    "l=[]\n",
    "for i in range(5):\n",
    "    name=input(f\"Enter Name-{i+1}:\")\n",
    "    l.append(name+\"\\n\")\n",
    "f.writelines(l)\n",
    "f.close()    "
   ]
  },
  {
   "cell_type": "code",
   "execution_count": null,
   "metadata": {},
   "outputs": [],
   "source": [
    "#TASK: copy the data of one file into another file\n",
    "f1=open(\"test.txt\",\"r+\")\n",
    "f2=open(\"b2.txt\",\"w+\")\n",
    "line=f1.readline()\n",
    "while(line!=-1):\n",
    "    f2.write(line)\n",
    "    line=f1.readline()\n",
    "    \n",
    "f1.close()\n",
    "f2.close()\n",
    "    "
   ]
  },
  {
   "cell_type": "code",
   "execution_count": 5,
   "metadata": {},
   "outputs": [],
   "source": [
    "#write a dict to a file in python\n",
    "x={'name':\"Alice\",\"Age\":20,\"Degree\":\"CSE\",\"university\":\"Oxford university\"}\n",
    "f=open(\"dict.txt\",\"w\")\n",
    "for i,j in x.items():\n",
    "    f.write(str(i)+\":\"+str(j)+\"\\n\")\n",
    "f.close()    "
   ]
  },
  {
   "cell_type": "code",
   "execution_count": 1,
   "metadata": {},
   "outputs": [],
   "source": [
    "#WAP to copy content of file to another file in upper case\n",
    "f1=open(\"test.txt\",\"r\")\n",
    "f2=open(\"b2.txt\",\"w\")\n",
    "l=f1.read()\n",
    "while l!=\"\":\n",
    "    f2.write(l.upper()+\"\\n\")\n",
    "    l=f1.read()\n",
    "f1.close()\n",
    "f2.close()"
   ]
  },
  {
   "cell_type": "code",
   "execution_count": 8,
   "metadata": {},
   "outputs": [
    {
     "name": "stdout",
     "output_type": "stream",
     "text": [
      "['aman\\n', 'yash\\n', 'raj\\n', 'kuldeep\\n', 'ravi']\n"
     ]
    }
   ],
   "source": [
    "#WAP to reverse  each line of a content of file and store it into another file\n",
    "f1=open(\"test.txt\",\"r\")\n",
    "f2=open(\"rev.txt\",\"w\")\n",
    "\n",
    "l=f1.readlines()\n",
    "print(l)\n",
    "\n",
    "for i in l:\n",
    "    i=i[:-1]\n",
    "    f2.write(i[::-1]+\"\\n\")\n",
    "f2.close()\n",
    "f1.close()"
   ]
  },
  {
   "cell_type": "code",
   "execution_count": 14,
   "metadata": {},
   "outputs": [],
   "source": [
    "#WAP to copy odd lines from one file to another line\n",
    "f1=open(\"test.txt\",\"r\")\n",
    "f2=open(\"oddLines.txt\",\"w\")\n",
    "f3=open(\"evenLines.txt\",\"w\")\n",
    "l=f1.readlines()\n",
    "a=0\n",
    "for i in l:\n",
    "    if a%2==0:\n",
    "        f2.write(i)\n",
    "    else:\n",
    "        if a==len(l)-1 or (a+1)==len(l)-1:\n",
    "            f3.write(i[:-1])\n",
    "        else:\n",
    "            f3.write(i)\n",
    "    a+=1    \n",
    "f3.close()\n",
    "f2.close()\n",
    "f1.close()"
   ]
  },
  {
   "cell_type": "code",
   "execution_count": 4,
   "metadata": {},
   "outputs": [
    {
     "name": "stdout",
     "output_type": "stream",
     "text": [
      "Enter File name:pager.txt\n",
      "This is pager line 1\n",
      "\n",
      "This is pager line 2\n",
      "\n",
      "This is pager line 3\n",
      "\n",
      "This is pager line 4\n",
      "\n",
      "This is pager line 5\n",
      "\n",
      "Press any to see next 5 lines EXCEPT Q PRESS Q for Exit:a\n",
      "This is pager line 6\n",
      "\n",
      "This is pager line 7\n",
      "\n",
      "This is pager line 8\n",
      "\n",
      "This is pager line 9\n",
      "\n",
      "This is pager line 10\n",
      "\n",
      "Press any to see next 5 lines EXCEPT Q PRESS Q for Exit:a\n",
      "This is pager line 11\n",
      "\n",
      "This is pager line 12\n",
      "\n",
      "This is pager line 13\n",
      "\n",
      "This is pager line 14\n",
      "\n",
      "This is pager line 15\n",
      "\n",
      "Press any to see next 5 lines EXCEPT Q PRESS Q for Exit:a\n",
      "This is pager line 16\n",
      "\n",
      "This is pager line 17\n",
      "\n",
      "This is pager line 18\n",
      "\n",
      "This is pager line 19\n",
      "\n",
      "This is pager line 20\n",
      "\n",
      "Press any to see next 5 lines EXCEPT Q PRESS Q for Exit:a\n",
      "This is pager line 21\n",
      "\n",
      "This is pager line 22\n",
      "\n",
      "This is pager line 23\n",
      "\n",
      "This is pager line 24\n",
      "\n",
      "This is pager line 25\n",
      "\n",
      "Press any to see next 5 lines EXCEPT Q PRESS Q for Exit:a\n",
      "This is pager line 26\n",
      "\n",
      "This is pager line 27\n",
      "\n",
      "This is pager line 28\n",
      "\n",
      "This is pager line 29\n",
      "\n",
      "This is pager line 30\n",
      "Press any to see next 5 lines EXCEPT Q PRESS Q for Exit:a\n",
      "No further line remaining!!!\n"
     ]
    }
   ],
   "source": [
    "#Task: Write a pager program your solution should promt for a filename and display the text file 5 lines at a time pausing \n",
    "# each time to ask the user to press any key to continue and press q to quit\n",
    "fname=input(\"Enter File name:\")\n",
    "\n",
    "f=open(fname,\"r\")\n",
    "l=f.readline()\n",
    "a=0\n",
    "while a<5:\n",
    "    print(l)\n",
    "    l=f.readline()\n",
    "    a+=1   \n",
    "inp=input(\"Press any to see next 5 lines EXCEPT Q PRESS Q for Exit:\")        \n",
    "while(inp != \"Q\" and inp!=\"q\"):\n",
    "    b=0\n",
    "    if l==\"\":\n",
    "        print(\"No further line remaining!!!\")\n",
    "        break\n",
    "    while b<5:\n",
    "        print(l)\n",
    "        l=f.readline()\n",
    "        b+=1\n",
    "    inp=input(\"Press any to see next 5 lines EXCEPT Q PRESS Q for Exit:\")\n",
    "            \n",
    "            \n",
    "        "
   ]
  },
  {
   "cell_type": "code",
   "execution_count": 3,
   "metadata": {},
   "outputs": [
    {
     "name": "stdout",
     "output_type": "stream",
     "text": [
      "Enter File name:pager.txt\n",
      "This is pager line 1\n",
      "\n",
      "This is pager line 2\n",
      "\n",
      "This is pager line 3\n",
      "\n",
      "This is pager line 4\n",
      "\n",
      "This is pager line 5\n",
      "\n",
      "Enter any key to continue and press q to quit:a\n",
      "This is pager line 6\n",
      "\n",
      "This is pager line 7\n",
      "\n",
      "This is pager line 8\n",
      "\n",
      "This is pager line 9\n",
      "\n",
      "This is pager line 10\n",
      "\n",
      "Enter any key to continue and press q to quit:s\n",
      "This is pager line 11\n",
      "\n",
      "This is pager line 12\n",
      "\n",
      "This is pager line 13\n",
      "\n",
      "This is pager line 14\n",
      "\n",
      "This is pager line 15\n",
      "\n",
      "Enter any key to continue and press q to quit:8\n",
      "This is pager line 16\n",
      "\n",
      "This is pager line 17\n",
      "\n",
      "This is pager line 18\n",
      "\n",
      "This is pager line 19\n",
      "\n",
      "This is pager line 20\n",
      "\n",
      "Enter any key to continue and press q to quit:q\n"
     ]
    }
   ],
   "source": [
    "#Logic-2\n",
    "fname=open(input(\"Enter File name:\"),\"r\")\n",
    "lines=5\n",
    "for index,line in enumerate(fname,1):\n",
    "    print(line)\n",
    "    if index%lines==0:\n",
    "        x=input(\"Enter any key to continue and press q to quit:\")\n",
    "        if x.lower()==\"q\":\n",
    "            break\n",
    "        else:\n",
    "            continue"
   ]
  },
  {
   "cell_type": "code",
   "execution_count": 61,
   "metadata": {},
   "outputs": [],
   "source": [
    "#WAP to copy the content of two file combined in another file\n",
    "f1=open(\"test.txt\",\"r\")\n",
    "f2=open(\"b2.txt\",\"r\")\n",
    "l=f1.readline()\n",
    "while(l!=\"\"):\n",
    "    f3.write(l)\n",
    "    l=f1.readline()\n",
    "j=f2.readline()\n",
    "f3=open(\"combine.txt\",\"a\")\n",
    "while(j!=\"\"):\n",
    "    f3.write(j)\n",
    "    j=f2.readline()\n"
   ]
  },
  {
   "cell_type": "code",
   "execution_count": 10,
   "metadata": {},
   "outputs": [
    {
     "name": "stdout",
     "output_type": "stream",
     "text": [
      "['#program of addition\\n', 'def sum(a,b): #function defination\\n', '   c=a+b\\n', '   print(c) #printing the output\\n']\n",
      "def sum(a,b):    c=a+b\n",
      "\n",
      "   print(c) \n",
      "\n"
     ]
    }
   ],
   "source": [
    "#WAP to display all lines of a file except those with # sign i.e comment\n",
    "f=open(\"new.txt\",\"r\")\n",
    "f2=open(\"new2.txt\",\"w\")\n",
    "b=f.readlines()\n",
    "print(b)\n",
    "l=f.readline()\n",
    "for i in range(len(b)):\n",
    "    if b[i][0]==\"#\":\n",
    "        continue\n",
    "    elif \"#\" in b[i]:\n",
    "        sp=b[i].split(\"#\")\n",
    "        f2.write(sp[0])\n",
    "    else:\n",
    "        f2.write(b[i])\n",
    "f2.close()\n",
    "f2=open(\"new2.txt\")\n",
    "a=\" \"\n",
    "while(a!=\"\"):\n",
    "    a=f2.readline()\n",
    "    print(a)\n",
    "    "
   ]
  },
  {
   "cell_type": "code",
   "execution_count": 5,
   "metadata": {},
   "outputs": [
    {
     "name": "stdout",
     "output_type": "stream",
     "text": [
      "#program of addition\n",
      "\n",
      "def sum(a,b): #function defination\n",
      "\n",
      "   c=a+b\n",
      "\n",
      "   print(c) #printing the output\n",
      "\n"
     ]
    }
   ],
   "source": [
    "f=open(\"new.txt\",\"r\")\n",
    "x=f.readlines()\n",
    "f.seek(0)\n",
    "y=len(x)\n",
    "for i in range(y):\n",
    "    l=f.readline()\n",
    "    print(l)"
   ]
  },
  {
   "cell_type": "code",
   "execution_count": 18,
   "metadata": {},
   "outputs": [
    {
     "name": "stdout",
     "output_type": "stream",
     "text": [
      "19\n",
      "pos: 3\n",
      "pos: 4\n",
      "pos: 6\n"
     ]
    }
   ],
   "source": [
    "#WAP to compare two files and find the difference in line and character\n",
    "import math\n",
    "f1=open(\"sample1.txt\")\n",
    "f2=open(\"sample2.txt\")\n",
    "l1=f1.readline()\n",
    "l2=f2.readline()\n",
    "i=0\n",
    "l=0\n",
    " #----WRONG------------\n",
    "        "
   ]
  },
  {
   "cell_type": "code",
   "execution_count": 27,
   "metadata": {},
   "outputs": [
    {
     "name": "stdout",
     "output_type": "stream",
     "text": [
      "['name: Alice\\n', 'Age: 20\\n', 'Degree: CSE\\n', 'university: Oxford university\\n']\n",
      "name: Alice\n",
      "\n",
      "Age: 20\n",
      "\n",
      "Degree: CSE\n",
      "\n",
      "university: Oxford university\n",
      "\n",
      "Total numbers of words in file: 9\n",
      "Total numbers of characters in file: 62\n",
      "Total numbers of spaces in file: 5\n"
     ]
    }
   ],
   "source": [
    "#WAP to count words character and spaces from text file\n",
    "f=open(\"dict.txt\")\n",
    "r= f.read()\n",
    "char=f.tell()\n",
    "space=0\n",
    "words=0\n",
    "f.seek(0)\n",
    "rl=f.readlines()\n",
    "print(rl)\n",
    "for i in rl:\n",
    "    print(i)\n",
    "    sp=i.split(\" \")\n",
    "    words+=len(sp)\n",
    "    space+=len(sp)-1\n",
    "print(\"Total numbers of words in file:\",words)\n",
    "print(\"Total numbers of characters in file:\",char)    \n",
    "print(\"Total numbers of spaces in file:\",space)    "
   ]
  },
  {
   "cell_type": "code",
   "execution_count": 46,
   "metadata": {},
   "outputs": [
    {
     "name": "stdout",
     "output_type": "stream",
     "text": [
      "Enter word to replace from file:lines\n",
      "Enter new word to replace :line\n"
     ]
    }
   ],
   "source": [
    "#WAP to replace a word in file\n",
    "f=open(\"pager.txt\",\"r\")\n",
    "l=f.readlines()\n",
    "word=input(\"Enter word to replace from file:\")\n",
    "rep=input(\"Enter new word to replace :\")\n",
    "for i in range(len(l)):\n",
    "    l[i]=l[i].replace(word,rep)\n",
    "\n",
    "f.close()\n",
    "f2=open(\"pager.txt\",\"w\")\n",
    "f2.writelines(l)\n",
    "f2.close()"
   ]
  },
  {
   "cell_type": "code",
   "execution_count": 55,
   "metadata": {},
   "outputs": [
    {
     "name": "stdout",
     "output_type": "stream",
     "text": [
      "3 NOHTYP SI SIHT\n",
      "\n"
     ]
    }
   ],
   "source": [
    "#WAP to reverse the content of one file and store it in second file and also convert the content of second file into upper case\n",
    "# and store it in 3rd file also count the number of vowels in 3rd file and also print 2nd line from the content of third file\n",
    "f1=open(\"demo.txt\")\n",
    "r1=f1.read()\n",
    "f1.close()\n",
    "f2=open(\"reverse.txt\",\"w+\")\n",
    "w=f2.write(r1[::-1])\n",
    "f2.seek(0)\n",
    "r=f2.read()\n",
    "f3=open(\"file3.txt\",\"w+\")\n",
    "f3.write(r.upper())\n",
    "f3.seek(0)\n",
    "f3.readline()\n",
    "print(f3.readline())\n",
    "f3.close()"
   ]
  },
  {
   "cell_type": "code",
   "execution_count": 7,
   "metadata": {
    "scrolled": true
   },
   "outputs": [
    {
     "name": "stdout",
     "output_type": "stream",
     "text": [
      "Enter a sentence:end\n"
     ]
    }
   ],
   "source": [
    "#WAP program  to accept string or sentence from user till the user enters end each string\n",
    "# or sentence entered should be a newline in a file save all the lines in the file \n",
    "# and display all the line which begin with capital letter\n",
    "st=input(\"Enter a sentence(PRESS end to quit):\")\n",
    "f=open(\"sentence.txt\",\"w+\")\n",
    "while ((st).lower()!=\"end\"):\n",
    "    f.write(st+\"\\n\")\n",
    "    st=input(\"Enter a sentence(PRESS end to quit):\")\n",
    "f.seek(0)\n",
    "l=f.readline()\n",
    "while(l!=\"\"):\n",
    "    if l[0].isupper():\n",
    "        print(l)\n",
    "    l=f.readline()"
   ]
  },
  {
   "cell_type": "code",
   "execution_count": 9,
   "metadata": {},
   "outputs": [
    {
     "name": "stdout",
     "output_type": "stream",
     "text": [
      "False\n",
      "demo.txt\n",
      "w\n",
      "True\n",
      "False\n",
      "False\n",
      "True\n"
     ]
    }
   ],
   "source": [
    "f1=open(\"b2.txt\",\"r\")\n",
    "f2=open(\"demo.txt\",\"w\")\n",
    "print(f1.closed)\n",
    "print(f2.name)\n",
    "print(f2.mode)\n",
    "print(f1.readable())\n",
    "print(f1.writable())\n",
    "print(f2.readable())\n",
    "print(f2.writable())"
   ]
  },
  {
   "cell_type": "code",
   "execution_count": 17,
   "metadata": {},
   "outputs": [
    {
     "name": "stdout",
     "output_type": "stream",
     "text": [
      "Enter word to search:1\n",
      "Found at: 15\n"
     ]
    }
   ],
   "source": [
    "#WAP to search for a string entered by user in text file :postion\n",
    "word=input(\"Enter word to search:\")\n",
    "f=open(\"demo.txt\",\"r\")\n",
    "r=f.read()\n",
    "if word in r:\n",
    "    print(\"Found at:\",r.find(word))\n",
    "else:\n",
    "    print(\"word not found!!\")"
   ]
  },
  {
   "cell_type": "code",
   "execution_count": 19,
   "metadata": {},
   "outputs": [
    {
     "name": "stdout",
     "output_type": "stream",
     "text": [
      "False\n"
     ]
    }
   ],
   "source": [
    "import os\n",
    "#To check wheather the file exist or not  *Not in syllabus\n",
    "print(os.path.isfile(\"abc.txt\"))"
   ]
  },
  {
   "cell_type": "code",
   "execution_count": null,
   "metadata": {},
   "outputs": [],
   "source": []
  }
 ],
 "metadata": {
  "kernelspec": {
   "display_name": "Python 3",
   "language": "python",
   "name": "python3"
  },
  "language_info": {
   "codemirror_mode": {
    "name": "ipython",
    "version": 3
   },
   "file_extension": ".py",
   "mimetype": "text/x-python",
   "name": "python",
   "nbconvert_exporter": "python",
   "pygments_lexer": "ipython3",
   "version": "3.8.5"
  }
 },
 "nbformat": 4,
 "nbformat_minor": 4
}
