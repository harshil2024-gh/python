{
 "cells": [
  {
   "cell_type": "markdown",
   "metadata": {},
   "source": [
    "# LIST"
   ]
  },
  {
   "cell_type": "markdown",
   "metadata": {},
   "source": [
    "-->list is dynamic because based on our environment we can increase or decrease the size\n",
    "\n",
    "-->square brackets with comma separator"
   ]
  },
  {
   "cell_type": "code",
   "execution_count": 76,
   "metadata": {},
   "outputs": [
    {
     "name": "stdout",
     "output_type": "stream",
     "text": [
      "Enter list:[23,45,6,7,89]\n",
      "[23, 45, 6, 7, 89]\n"
     ]
    }
   ],
   "source": [
    "l=eval(input(\"Enter list:\"))\n",
    "print(l)"
   ]
  },
  {
   "cell_type": "code",
   "execution_count": 2,
   "metadata": {},
   "outputs": [
    {
     "name": "stdout",
     "output_type": "stream",
     "text": [
      "[1, 2, 10, 4, 5]\n"
     ]
    }
   ],
   "source": [
    "#list mutability\n",
    "l=[1,2,3,4,5]\n",
    "l[2]=10\n",
    "print(l)"
   ]
  },
  {
   "cell_type": "code",
   "execution_count": 3,
   "metadata": {},
   "outputs": [
    {
     "name": "stdout",
     "output_type": "stream",
     "text": [
      "4\n"
     ]
    }
   ],
   "source": [
    "#IMPORTANT functions of list\n",
    "# 1)len()\n",
    "n=[1,2,3,4]\n",
    "print(len(n))"
   ]
  },
  {
   "cell_type": "code",
   "execution_count": 8,
   "metadata": {},
   "outputs": [
    {
     "name": "stdout",
     "output_type": "stream",
     "text": [
      "2\n",
      "3\n",
      "0\n"
     ]
    }
   ],
   "source": [
    "#2)count()\n",
    "n=[1,2,2,3,3,3]\n",
    "print(n.count(2))\n",
    "print(n.count(3))\n",
    "print(n.count(4))#-->Ans:0"
   ]
  },
  {
   "cell_type": "code",
   "execution_count": 11,
   "metadata": {},
   "outputs": [
    {
     "name": "stdout",
     "output_type": "stream",
     "text": [
      "0\n",
      "3\n"
     ]
    }
   ],
   "source": [
    "#3)index()\n",
    "n=[1,2,2,3,3,3]\n",
    "print(n.index(1))\n",
    "print(n.index(3))\n",
    "# print(n.index(5))#Value Error"
   ]
  },
  {
   "cell_type": "code",
   "execution_count": 15,
   "metadata": {},
   "outputs": [
    {
     "name": "stdout",
     "output_type": "stream",
     "text": [
      "['m', 'n', 'A', 'B', 'C']\n"
     ]
    }
   ],
   "source": [
    "#4)append()\n",
    "l=[\"m\",\"n\"]\n",
    "l.append(\"A\")\n",
    "l.append(\"B\")\n",
    "l.append(\"C\")\n",
    "print(l)"
   ]
  },
  {
   "cell_type": "code",
   "execution_count": 16,
   "metadata": {},
   "outputs": [
    {
     "name": "stdout",
     "output_type": "stream",
     "text": [
      "[1, 28, 2, 3, 4, 5]\n",
      "[1, 28, 2, 3, 4, 5, 7]\n",
      "[1, 28, 2, 3, 4, 5, 9, 7]\n"
     ]
    }
   ],
   "source": [
    "#5)insert()\n",
    "n=[1,2,3,4,5]\n",
    "n.insert(1,28)\n",
    "print(n)\n",
    "n.insert(10,7)  # if index is equal or greter than length of n then it insert at last.\n",
    "print(n)\n",
    "n.insert(-1,9) #insert at second last index.\n",
    "print(n)"
   ]
  },
  {
   "cell_type": "code",
   "execution_count": 19,
   "metadata": {},
   "outputs": [
    {
     "name": "stdout",
     "output_type": "stream",
     "text": [
      "['Apple', 'Mango', '2', 'Apple', 'Mango', '2']\n",
      "['Apple', 'Mango', '2', 'Apple', 'Mango', '2', 'Orange', 'watermelon']\n",
      "['Orange', 'watermelon', 'Apple', 'Mango', '2', 'Apple', 'Mango', '2', 'Orange', 'watermelon']\n"
     ]
    }
   ],
   "source": [
    "#6)extend()\n",
    "l1=[\"Apple\",\"Mango\"]\n",
    "l2=[\"Orange\",\"watermelon\"]\n",
    "l1.extend(\"2\")\n",
    "l1.extend(l1)\n",
    "print(l1)\n",
    "l1.extend(l2)\n",
    "l2.extend(l1)\n",
    "print(l1)\n",
    "print(l2)"
   ]
  },
  {
   "cell_type": "code",
   "execution_count": 1,
   "metadata": {},
   "outputs": [
    {
     "name": "stdout",
     "output_type": "stream",
     "text": [
      "[2, 1, 3, 1, 1]\n"
     ]
    }
   ],
   "source": [
    "#7)remove()\n",
    "n=[1,2,1,3,1,1]\n",
    "n.remove(1)\n",
    "print(n)\n",
    "# n.remove(4) #Value Error"
   ]
  },
  {
   "cell_type": "code",
   "execution_count": 2,
   "metadata": {},
   "outputs": [
    {
     "name": "stdout",
     "output_type": "stream",
     "text": [
      "50\n",
      "40\n",
      "[10, 20, 30]\n"
     ]
    }
   ],
   "source": [
    "#8)pop()\n",
    "n=[10,20,30,40,50]\n",
    "print(n.pop())\n",
    "print(n.pop())\n",
    "print(n)"
   ]
  },
  {
   "cell_type": "code",
   "execution_count": 7,
   "metadata": {},
   "outputs": [],
   "source": [
    "y=[]\n",
    "# print(y.pop())  -->IndexError"
   ]
  },
  {
   "cell_type": "code",
   "execution_count": 6,
   "metadata": {},
   "outputs": [
    {
     "name": "stdout",
     "output_type": "stream",
     "text": [
      "50\n",
      "20\n",
      "[10, 30, 40]\n"
     ]
    }
   ],
   "source": [
    "n=[10,20,30,40,50]\n",
    "print(n.pop())\n",
    "print(n.pop(1))\n",
    "print(n)\n",
    "# print(n.pop(10))  -->IndexError"
   ]
  },
  {
   "cell_type": "code",
   "execution_count": 11,
   "metadata": {},
   "outputs": [
    {
     "name": "stdout",
     "output_type": "stream",
     "text": [
      "[]\n"
     ]
    }
   ],
   "source": [
    "#9)clear()\n",
    "n=[1,2,3,4,5]\n",
    "n.clear()\n",
    "print(n)"
   ]
  },
  {
   "cell_type": "code",
   "execution_count": 12,
   "metadata": {},
   "outputs": [
    {
     "name": "stdout",
     "output_type": "stream",
     "text": [
      "[2, 4, 5, 3, 1]\n"
     ]
    }
   ],
   "source": [
    "#10)reverse()\n",
    "n=[1,3,5,4,2]\n",
    "n.reverse()\n",
    "print(n)"
   ]
  },
  {
   "cell_type": "code",
   "execution_count": 13,
   "metadata": {},
   "outputs": [
    {
     "name": "stdout",
     "output_type": "stream",
     "text": [
      "[0, 1, 2, 5, 15]\n"
     ]
    }
   ],
   "source": [
    "#11)sort()\n",
    "n=[2,5,1,15,0]\n",
    "n.sort()\n",
    "print(n)"
   ]
  },
  {
   "cell_type": "code",
   "execution_count": 14,
   "metadata": {},
   "outputs": [
    {
     "name": "stdout",
     "output_type": "stream",
     "text": [
      "[15, 5, 2, 1, 0]\n"
     ]
    }
   ],
   "source": [
    "#For descending order\n",
    "n=[2,5,1,15,0]\n",
    "n.sort(reverse=True)\n",
    "print(n)"
   ]
  },
  {
   "cell_type": "code",
   "execution_count": 15,
   "metadata": {},
   "outputs": [
    {
     "name": "stdout",
     "output_type": "stream",
     "text": [
      "['A', 'B', 'C', 'D']\n"
     ]
    }
   ],
   "source": [
    "x=[\"D\",\"A\",\"B\",\"C\"]\n",
    "x.sort()\n",
    "print(x)"
   ]
  },
  {
   "cell_type": "code",
   "execution_count": 17,
   "metadata": {},
   "outputs": [
    {
     "name": "stdout",
     "output_type": "stream",
     "text": [
      "[1, 2, 3, 4, 5, 6]\n",
      "[1, 2, 3, 4]\n"
     ]
    }
   ],
   "source": [
    "#Mathematicial operation for list\n",
    "\n",
    "# + ->conxcatination\n",
    "# * ->repetation\n",
    "a=[1,2,3]\n",
    "b=[4,5,6]\n",
    "print(a+b)\n",
    "print(a+[4])\n",
    "# print(a+3) -->TypeError"
   ]
  },
  {
   "cell_type": "code",
   "execution_count": 18,
   "metadata": {},
   "outputs": [
    {
     "name": "stdout",
     "output_type": "stream",
     "text": [
      "[1, 2, 3, 1, 2, 3, 1, 2, 3]\n"
     ]
    }
   ],
   "source": [
    "print(a*3)"
   ]
  },
  {
   "cell_type": "code",
   "execution_count": 20,
   "metadata": {},
   "outputs": [
    {
     "name": "stdout",
     "output_type": "stream",
     "text": [
      "True\n",
      "False\n",
      "True\n"
     ]
    }
   ],
   "source": [
    "#comparasion operation for list\n",
    "x=[\"Dog\",\"Cat\",\"Rat\"]\n",
    "y=[\"Dog\",\"Cat\",\"Rat\"]\n",
    "z=[\"DOG\",\"CAT\",\"RAT\"]\n",
    "print(x==y)\n",
    "print(x==z)\n",
    "print(x!=z)"
   ]
  },
  {
   "cell_type": "code",
   "execution_count": 23,
   "metadata": {},
   "outputs": [
    {
     "name": "stdout",
     "output_type": "stream",
     "text": [
      "False\n",
      "False\n",
      "True\n",
      "True\n"
     ]
    }
   ],
   "source": [
    "x=[\"Dog\",\"Cat\",\"Rat\"]\n",
    "y=[\"Rat\",\"Cat\",\"Dog\"]\n",
    "print(x>y)\n",
    "print(x>=y)\n",
    "print(x<y)\n",
    "print(x<=y)"
   ]
  },
  {
   "cell_type": "code",
   "execution_count": 22,
   "metadata": {},
   "outputs": [
    {
     "name": "stdout",
     "output_type": "stream",
     "text": [
      "True\n",
      "True\n",
      "False\n",
      "False\n"
     ]
    }
   ],
   "source": [
    "x=[50,20,30]\n",
    "y=[40,50,60,100,200]\n",
    "print(x>y)\n",
    "print(x>=y)\n",
    "print(x<y)\n",
    "print(x<=y)"
   ]
  },
  {
   "cell_type": "code",
   "execution_count": 24,
   "metadata": {},
   "outputs": [
    {
     "name": "stdout",
     "output_type": "stream",
     "text": [
      "False\n",
      "False\n",
      "True\n",
      "True\n"
     ]
    }
   ],
   "source": [
    "x=[50,20,30]\n",
    "y=[50,20,30,100,200]\n",
    "print(x>y)\n",
    "print(x>=y)\n",
    "print(x<y)\n",
    "print(x<=y)"
   ]
  },
  {
   "cell_type": "code",
   "execution_count": 25,
   "metadata": {},
   "outputs": [
    {
     "name": "stdout",
     "output_type": "stream",
     "text": [
      "True\n",
      "False\n",
      "False\n"
     ]
    }
   ],
   "source": [
    "#membership operator for list\n",
    "#1)in\n",
    "#2)not in\n",
    "n=[10,20,30,40]\n",
    "print(10 in n)\n",
    "print(40 not in n)\n",
    "print(50 in n)"
   ]
  },
  {
   "cell_type": "code",
   "execution_count": 26,
   "metadata": {},
   "outputs": [
    {
     "name": "stdout",
     "output_type": "stream",
     "text": [
      "[10, 20, 100, 40, 50]\n"
     ]
    }
   ],
   "source": [
    "l=[10,20,30,40,50]\n",
    "x=l\n",
    "x[2]=100\n",
    "print(l) #note: if x=l then both have same reference if  x is changed then l will also changed"
   ]
  },
  {
   "cell_type": "code",
   "execution_count": 27,
   "metadata": {},
   "outputs": [
    {
     "name": "stdout",
     "output_type": "stream",
     "text": [
      "[10, 20, 30, 40, 50]\n",
      "[10, 20, 100, 40, 50]\n"
     ]
    }
   ],
   "source": [
    "l=[10,20,30,40,50]\n",
    "x=l[:] # or l.copy()\n",
    "x[2]=100\n",
    "print(l)\n",
    "print(x)"
   ]
  },
  {
   "cell_type": "code",
   "execution_count": 28,
   "metadata": {},
   "outputs": [
    {
     "name": "stdout",
     "output_type": "stream",
     "text": [
      "10\n",
      "[40, 20]\n",
      "40\n",
      "80\n"
     ]
    }
   ],
   "source": [
    "#nested list\n",
    "n=[10,20,30,[40,20],[60,70,80]]\n",
    "print(n[0])\n",
    "print(n[3])\n",
    "print(n[3][0])\n",
    "print(n[4][2])"
   ]
  },
  {
   "cell_type": "code",
   "execution_count": 29,
   "metadata": {},
   "outputs": [
    {
     "name": "stdout",
     "output_type": "stream",
     "text": [
      "200\n"
     ]
    }
   ],
   "source": [
    "n=[10,20,30,[40,20],[60,70,80,[100,200]]]\n",
    "print(n[4][3][1])"
   ]
  },
  {
   "cell_type": "code",
   "execution_count": 34,
   "metadata": {},
   "outputs": [
    {
     "name": "stdout",
     "output_type": "stream",
     "text": [
      "10 20 30 \n",
      "40 50 60 \n",
      "70 80 90 \n"
     ]
    }
   ],
   "source": [
    "#nested list as matrix\n",
    "\n",
    "n=[[10,20,30],[40,50,60],[70,80,90]]\n",
    "for i in range(len(n)):\n",
    "    for j in n[i]:\n",
    "        print(j,end=\" \")\n",
    "    print()    "
   ]
  },
  {
   "cell_type": "code",
   "execution_count": 48,
   "metadata": {},
   "outputs": [
    {
     "name": "stdout",
     "output_type": "stream",
     "text": [
      "Original Matrix:\n",
      "1 2 3 \n",
      "4 5 6 \n",
      "7 8 9 \n",
      "Transposed Matrix:\n",
      "1 \n",
      "5 \n",
      "9 \n"
     ]
    }
   ],
   "source": [
    "#WAP to find transpose of matrix\n",
    "l=[[1,2,3],[4,5,6],[7,8,9]]\n",
    "print(\"Original Matrix:\")\n",
    "for i in range(len(l)):\n",
    "    for j in l[i]:\n",
    "        print(j,end=\" \")\n",
    "    print()\n",
    "print(\"Transposed Matrix:\")\n",
    "for i in range(len(l)):\n",
    "    for j in range(len(l)):\n",
    "        if j==(i+1):\n",
    "            print(l[i][j],end=\" \")\n",
    "    print()"
   ]
  },
  {
   "cell_type": "code",
   "execution_count": 46,
   "metadata": {},
   "outputs": [
    {
     "name": "stdout",
     "output_type": "stream",
     "text": [
      "[1, 4, 9, 16, 25, 36, 49, 64, 81, 100]\n",
      "[2, 4, 8, 16, 32]\n",
      "[1, 9, 25, 49, 81]\n"
     ]
    }
   ],
   "source": [
    "#list comprehensions\n",
    "# l=[expression for item in list if condition]\n",
    "s=[x*x for x in range(1,11)]\n",
    "print(s)\n",
    "v=[2**x for x in range(1,6)]\n",
    "print(v)\n",
    "m=[x for x in s if x%2==1]\n",
    "print(m)"
   ]
  },
  {
   "cell_type": "code",
   "execution_count": 52,
   "metadata": {},
   "outputs": [
    {
     "name": "stdout",
     "output_type": "stream",
     "text": [
      "[10, 40, 70]\n",
      "[20, 50, 80]\n",
      "[30, 60, 90]\n"
     ]
    }
   ],
   "source": [
    "#transpose of matrix using list comprehension\n",
    "l=[[1,2,3],[4,5,6],[7,8,9]]\n",
    "for i in range(len(l[0])):\n",
    "    new=[row[i] for row in l]\n",
    "    print(new)    "
   ]
  },
  {
   "cell_type": "code",
   "execution_count": 54,
   "metadata": {},
   "outputs": [
    {
     "name": "stdout",
     "output_type": "stream",
     "text": [
      "[1, 2, 5]\n"
     ]
    }
   ],
   "source": [
    "#WAP to print numbers whose  freq greater than a given value k\n",
    "l=[1,1,1,1,2,2,2,2,3,3,5,5,5,6,7]\n",
    "n=[]\n",
    "k=2\n",
    "for i in l:\n",
    "    if l.count(i)>k and i not in n:\n",
    "        n.append(i)\n",
    "print(n)        "
   ]
  },
  {
   "cell_type": "markdown",
   "metadata": {},
   "source": [
    "# Dictionary"
   ]
  },
  {
   "cell_type": "markdown",
   "metadata": {},
   "source": [
    "-->represents a group of object as key-value pairs :rollno-name\n",
    "\n",
    "-->Duplicate keys not allowed but value can be duplicated.\n",
    "\n",
    "-->heterogenous objects are allowed for both key and values.\n",
    "\n",
    "-->Insertion order not preserved.\n",
    "\n",
    "-->Mutable\n",
    "\n",
    "-->Index and slicing concept are not applicable\n",
    "\n",
    "   d={10:\"lucky\",20:\"Arman\",30:\"Aryan\"}"
   ]
  },
  {
   "cell_type": "code",
   "execution_count": 56,
   "metadata": {},
   "outputs": [
    {
     "name": "stdout",
     "output_type": "stream",
     "text": [
      "<class 'dict'>\n",
      "{}\n"
     ]
    }
   ],
   "source": [
    "d={}\n",
    "d1=dict()\n",
    "print(type(d))\n",
    "print(d1)"
   ]
  },
  {
   "cell_type": "code",
   "execution_count": 57,
   "metadata": {},
   "outputs": [
    {
     "name": "stdout",
     "output_type": "stream",
     "text": [
      "<class 'set'>\n",
      "set()\n"
     ]
    }
   ],
   "source": [
    "s=set()\n",
    "print(type(s))\n",
    "print(s)"
   ]
  },
  {
   "cell_type": "code",
   "execution_count": 58,
   "metadata": {},
   "outputs": [
    {
     "name": "stdout",
     "output_type": "stream",
     "text": [
      "{10: 'Arman', 20: 'Aryan', 30: 'Lucky'}\n"
     ]
    }
   ],
   "source": [
    "d={}\n",
    "d[10]=\"Arman\"\n",
    "d[20]=\"Aryan\"\n",
    "d[30]=\"Lucky\"\n",
    "print(d)"
   ]
  },
  {
   "cell_type": "code",
   "execution_count": 60,
   "metadata": {},
   "outputs": [
    {
     "name": "stdout",
     "output_type": "stream",
     "text": [
      "{10: 'Arman', 20: 'Aryan', 30: 'Lucky'}\n"
     ]
    }
   ],
   "source": [
    "d=dict([(10,'Arman'), (20,'Aryan'), (30,'Lucky')]) #--> dict(list of tuples)\n",
    "print(d)"
   ]
  },
  {
   "cell_type": "code",
   "execution_count": 73,
   "metadata": {},
   "outputs": [
    {
     "name": "stdout",
     "output_type": "stream",
     "text": [
      "Arman\n",
      "{10: 'Arman', 20: 'Aryan', 30: 'Lucky', 40: 'sumit'}\n",
      "{10: 'sachin', 20: 'Aryan', 30: 'Lucky', 40: 'sumit'}\n",
      "{10: 'sachin', 20: 'Aryan', 30: 'Lucky'}\n",
      "{}\n"
     ]
    }
   ],
   "source": [
    "d={10: 'Arman', 20: 'Aryan', 30: 'Lucky'}\n",
    "print(d[10])\n",
    "# print(d[40]) keyError\n",
    "d[40]=\"sumit\"\n",
    "print(d)\n",
    "d[10]=\"sachin\"\n",
    "print(d)\n",
    "#To delete the element\n",
    "del d[40]\n",
    "print(d)\n",
    "d.clear()\n",
    "print(d)\n",
    "del d\n",
    "# print(d)#NameError"
   ]
  },
  {
   "cell_type": "code",
   "execution_count": 75,
   "metadata": {},
   "outputs": [
    {
     "name": "stdout",
     "output_type": "stream",
     "text": [
      "{1: 1, 2: 4, 3: 9, 4: 16, 5: 25}\n"
     ]
    }
   ],
   "source": [
    "#dictionary comprehensions\n",
    "sqr={x:x*x for x in range(1,6)}\n",
    "print(sqr)"
   ]
  },
  {
   "cell_type": "code",
   "execution_count": 79,
   "metadata": {},
   "outputs": [
    {
     "name": "stdout",
     "output_type": "stream",
     "text": [
      "5\n",
      "{10: 20, 30: 600, 50: 60, 100: 50, 200: 40}\n"
     ]
    }
   ],
   "source": [
    "#Important functions of dictionary\n",
    "#1)dict()\n",
    "\n",
    "#2)len()\n",
    "n=len(sqr)\n",
    "print(n)\n",
    "#3)clear()\n",
    "\n",
    "#4)copy()\n",
    "\n",
    "#5)update()\n",
    "d={10:20,30:40,50:60}\n",
    "x={100:50,200:40,30:600}\n",
    "d.update(x)\n",
    "print(d)"
   ]
  },
  {
   "cell_type": "code",
   "execution_count": 80,
   "metadata": {},
   "outputs": [
    {
     "name": "stdout",
     "output_type": "stream",
     "text": [
      "20\n",
      "20\n",
      "None\n"
     ]
    }
   ],
   "source": [
    "#6)get()\n",
    "'''\n",
    "1)get(key)\n",
    "1)get(key,default value)\n",
    "'''\n",
    "print(d[10])\n",
    "print(d.get(10))\n",
    "print(d.get(40))"
   ]
  },
  {
   "cell_type": "code",
   "execution_count": 81,
   "metadata": {},
   "outputs": [
    {
     "name": "stdout",
     "output_type": "stream",
     "text": [
      "20\n",
      "Guest\n"
     ]
    }
   ],
   "source": [
    "print(d.get(10,\"Guest\"))\n",
    "print(d.get(40,\"Guest\"))"
   ]
  },
  {
   "cell_type": "code",
   "execution_count": 82,
   "metadata": {},
   "outputs": [
    {
     "name": "stdout",
     "output_type": "stream",
     "text": [
      "(200, 40)\n"
     ]
    }
   ],
   "source": [
    "#7)popitem()\n",
    "\n",
    "print(d.popitem())"
   ]
  },
  {
   "cell_type": "code",
   "execution_count": 84,
   "metadata": {},
   "outputs": [],
   "source": [
    "d={}\n",
    "# print(d.popitem()) -->keyError"
   ]
  },
  {
   "cell_type": "code",
   "execution_count": 87,
   "metadata": {},
   "outputs": [
    {
     "name": "stdout",
     "output_type": "stream",
     "text": [
      "dict_keys([10, 20, 30])\n",
      "dict_values(['lucky', 'Arman', 'Aryan'])\n",
      "dict_items([(10, 'lucky'), (20, 'Arman'), (30, 'Aryan')])\n"
     ]
    }
   ],
   "source": [
    "#8)keys()\n",
    "#9)values()\n",
    "#10)items()\n",
    "d={10:\"lucky\",20:\"Arman\",30:\"Aryan\"}\n",
    "print(d.keys())\n",
    "print(d.values())\n",
    "print(d.items())"
   ]
  },
  {
   "cell_type": "code",
   "execution_count": 90,
   "metadata": {},
   "outputs": [
    {
     "name": "stdout",
     "output_type": "stream",
     "text": [
      "keys-1: 10\n",
      "keys-2: 20\n",
      "keys-3: 30\n"
     ]
    }
   ],
   "source": [
    "a=1\n",
    "for i in d.keys():\n",
    "    print(f\"keys-{a}:\",i)\n",
    "    a+=1"
   ]
  },
  {
   "cell_type": "markdown",
   "metadata": {},
   "source": [
    "a=1\n",
    "for i in d.values():\n",
    "    print(f\"values-{a}:\",i)\n",
    "    a+=1"
   ]
  },
  {
   "cell_type": "code",
   "execution_count": 93,
   "metadata": {},
   "outputs": [
    {
     "name": "stdout",
     "output_type": "stream",
     "text": [
      "10 -> lucky\n",
      "20 -> Arman\n",
      "30 -> Aryan\n"
     ]
    }
   ],
   "source": [
    "for k,v in d.items():\n",
    "    print(k,\"->\",v)"
   ]
  },
  {
   "cell_type": "code",
   "execution_count": 94,
   "metadata": {},
   "outputs": [
    {
     "name": "stdout",
     "output_type": "stream",
     "text": [
      "pavan\n",
      "{10: 'lucky', 20: 'Arman', 30: 'Aryan', 40: 'pavan'}\n",
      "lucky\n",
      "{10: 'lucky', 20: 'Arman', 30: 'Aryan', 40: 'pavan'}\n"
     ]
    }
   ],
   "source": [
    "#11)setdefault()\n",
    "print(d.setdefault(40,\"pavan\"))\n",
    "print(d)\n",
    "print(d.setdefault(10,\"sachin\"))\n",
    "print(d)"
   ]
  },
  {
   "cell_type": "markdown",
   "metadata": {},
   "source": [
    "# Tasks"
   ]
  },
  {
   "cell_type": "code",
   "execution_count": 6,
   "metadata": {},
   "outputs": [
    {
     "name": "stdout",
     "output_type": "stream",
     "text": [
      "Enter string:abc\n"
     ]
    }
   ],
   "source": [
    "#WAP that reads the word from paragraph and stores them as key in dictonary and count frequency of word as value\n",
    "st=input(\"Enter string:\")\n",
    "sp=st.split()\n",
    "d={}\n",
    "#LEFT........."
   ]
  },
  {
   "cell_type": "code",
   "execution_count": 21,
   "metadata": {},
   "outputs": [
    {
     "name": "stdout",
     "output_type": "stream",
     "text": [
      "Enter string:Don't wait for your feelings to change to take the action\n",
      "{'d': [\"don't\"], 'w': ['wait'], 'f': ['for', 'feelings'], 'y': ['your'], 't': ['to', 'to', 'take', 'the'], 'c': ['change'], 'a': ['action']}\n"
     ]
    }
   ],
   "source": [
    "#WAP to create a dictonary with the key as the first character and value as list of words starting with that character\n",
    "st=input(\"Enter string:\")\n",
    "st=st.lower()\n",
    "sp=st.split()\n",
    "d={}\n",
    "for i in sp:\n",
    "    key=i[0]\n",
    "    if key in d.keys():\n",
    "        d[key].append(i)\n",
    "    else:\n",
    "        d[key]=[i]\n",
    "print(d)        "
   ]
  },
  {
   "cell_type": "markdown",
   "metadata": {},
   "source": [
    "# --Set--"
   ]
  },
  {
   "cell_type": "markdown",
   "metadata": {},
   "source": [
    "-->Unordered,changable\n",
    "\n",
    "-->reprents a group of unique values as a single entity\n",
    "\n",
    "-->Duplicates are not allowed\n",
    "\n",
    "-->Insertion order is not preserved\n",
    "\n",
    "-->Heterogeneous eleents are allowed\n",
    "\n",
    "-->mutable\n",
    "\n",
    "-->curly braces wit comma seperator\n",
    "\n",
    "-->mathematicl operations like union,intersection,difference,..etc."
   ]
  },
  {
   "cell_type": "code",
   "execution_count": 1,
   "metadata": {},
   "outputs": [
    {
     "name": "stdout",
     "output_type": "stream",
     "text": [
      "{1, 2, 3, 4, 5, 6}\n",
      "<class 'set'>\n"
     ]
    }
   ],
   "source": [
    "s={4,1,2,3,3,4,4,4,4,5,5,6}\n",
    "print(s)\n",
    "print(type(s))"
   ]
  },
  {
   "cell_type": "code",
   "execution_count": 1,
   "metadata": {},
   "outputs": [
    {
     "name": "stdout",
     "output_type": "stream",
     "text": [
      "{1, 4, 7, 8, 10, 20, 22, 24, 25, 26, 28}\n"
     ]
    }
   ],
   "source": [
    "s={20,25,1,4,4,7,8,10,10,22,24,26,28}\n",
    "print(s)"
   ]
  },
  {
   "cell_type": "code",
   "execution_count": 2,
   "metadata": {},
   "outputs": [
    {
     "name": "stdout",
     "output_type": "stream",
     "text": [
      "{1, 2, 3, 4, 5, 6}\n"
     ]
    }
   ],
   "source": [
    "s=set()\n",
    "l=[1,3,6,4,5,2]\n",
    "s=set(l)\n",
    "print(s)"
   ]
  },
  {
   "cell_type": "code",
   "execution_count": 3,
   "metadata": {},
   "outputs": [
    {
     "name": "stdout",
     "output_type": "stream",
     "text": [
      "{'L', 'E', 'I', 'J', 'T'}\n"
     ]
    }
   ],
   "source": [
    "x=\"LJIET\"\n",
    "s=set(x)\n",
    "print(s)"
   ]
  },
  {
   "cell_type": "code",
   "execution_count": 4,
   "metadata": {},
   "outputs": [
    {
     "name": "stdout",
     "output_type": "stream",
     "text": [
      "{0, 1, 2, 3, 4, 5}\n"
     ]
    }
   ],
   "source": [
    "y=range(0,6)\n",
    "s=set(y)\n",
    "print(s)"
   ]
  },
  {
   "cell_type": "code",
   "execution_count": 6,
   "metadata": {},
   "outputs": [
    {
     "name": "stdout",
     "output_type": "stream",
     "text": [
      "{40, 10, 20, 30}\n"
     ]
    }
   ],
   "source": [
    "l=[10,20,30,40,10,20,30]\n",
    "s=set(l)\n",
    "print(s)"
   ]
  },
  {
   "cell_type": "code",
   "execution_count": 8,
   "metadata": {},
   "outputs": [
    {
     "name": "stdout",
     "output_type": "stream",
     "text": [
      "{40, 10, 50, 20, 60, 30}\n",
      "{40, 10, 50, 20, 60, 30}\n",
      "{40, 10, 50, 20, 60, 30}\n"
     ]
    }
   ],
   "source": [
    "#Mathematical operations of set\n",
    "#1)union() symbol: |\n",
    "x={10,20,30,40}\n",
    "y={30,40,50,60}\n",
    "print(x.union(y))\n",
    "print(y.union(x))\n",
    "print(x|y)\n"
   ]
  },
  {
   "cell_type": "code",
   "execution_count": 9,
   "metadata": {},
   "outputs": [
    {
     "name": "stdout",
     "output_type": "stream",
     "text": [
      "{40, 30}\n",
      "{40, 30}\n"
     ]
    }
   ],
   "source": [
    "#2)intersection() symbol: &\n",
    "print(x.intersection(y))\n",
    "print(x & y)"
   ]
  },
  {
   "cell_type": "code",
   "execution_count": 10,
   "metadata": {},
   "outputs": [
    {
     "name": "stdout",
     "output_type": "stream",
     "text": [
      "{10, 20}\n",
      "{50, 60}\n",
      "{10, 20}\n"
     ]
    }
   ],
   "source": [
    "#3)difference() symbol: \"-\" all elem of x except y elem in x\n",
    "print(x.difference(y))\n",
    "print(y.difference(x))\n",
    "print(x-y)"
   ]
  },
  {
   "cell_type": "code",
   "execution_count": 11,
   "metadata": {},
   "outputs": [
    {
     "name": "stdout",
     "output_type": "stream",
     "text": [
      "{10, 50, 20, 60}\n"
     ]
    }
   ],
   "source": [
    "#4)symmetric_difference() symbol: \"^\"  : elements which are not common on both.\n",
    "print(x.symmetric_difference(y))\n",
    "print(x^y)"
   ]
  },
  {
   "cell_type": "code",
   "execution_count": 12,
   "metadata": {},
   "outputs": [
    {
     "name": "stdout",
     "output_type": "stream",
     "text": [
      "True\n",
      "False\n",
      "False\n",
      "True\n"
     ]
    }
   ],
   "source": [
    "#5}issubset()\n",
    "#6)issuperset()\n",
    "x={\"a\",\"b\",\"c\"}\n",
    "y={\"d\",\"f\",\"e\",\"a\",\"b\",\"c\"}\n",
    "print(x.issubset(y))\n",
    "print(y.issubset(x))\n",
    "print(x.issuperset(y))\n",
    "print(y.issuperset(x))"
   ]
  },
  {
   "cell_type": "code",
   "execution_count": 13,
   "metadata": {
    "collapsed": true
   },
   "outputs": [
    {
     "name": "stdout",
     "output_type": "stream",
     "text": [
      "{'L', 'E', 'I', 'J', 'T'}\n",
      "True\n",
      "False\n",
      "False\n"
     ]
    }
   ],
   "source": [
    "#membership operator in set\n",
    "#1)in\n",
    "#2)not in\n",
    "s=set(\"LJIET\")\n",
    "print(s)\n",
    "print(\"L\" in s)\n",
    "print(\"T\" not in s)\n",
    "print(\"X\" in s)"
   ]
  },
  {
   "cell_type": "code",
   "execution_count": 14,
   "metadata": {},
   "outputs": [
    {
     "name": "stdout",
     "output_type": "stream",
     "text": [
      "{40, 10, 20, 30}\n"
     ]
    }
   ],
   "source": [
    "#Important function of set\n",
    "#1)add(X)\n",
    "s={10,20,30}\n",
    "s.add(40)\n",
    "print(s)"
   ]
  },
  {
   "cell_type": "code",
   "execution_count": 16,
   "metadata": {},
   "outputs": [
    {
     "name": "stdout",
     "output_type": "stream",
     "text": [
      "{1, 2, 3, 4, 5, 70, 40, 10, 12, 14, 16, 50, 18, 20, 60, 30}\n"
     ]
    }
   ],
   "source": [
    "# 2)update(x,y,z)\n",
    "s={10,20,30}\n",
    "l=[40,50,60,70]\n",
    "s.update(l,range(10,20,2),range(1,6))\n",
    "print(s)"
   ]
  },
  {
   "cell_type": "code",
   "execution_count": 19,
   "metadata": {},
   "outputs": [
    {
     "name": "stdout",
     "output_type": "stream",
     "text": [
      "{40, 10, 20, 30}\n",
      "{40, 10, 20, 30}\n",
      "{70, 40, 10, 20, 30}\n"
     ]
    }
   ],
   "source": [
    "s={10,20,30,40}\n",
    "print(s)\n",
    "x=s.copy()\n",
    "x.add(70)\n",
    "print(s)\n",
    "print(x)"
   ]
  },
  {
   "cell_type": "code",
   "execution_count": 21,
   "metadata": {},
   "outputs": [
    {
     "name": "stdout",
     "output_type": "stream",
     "text": [
      "{40, 10, 50, 20, 30}\n",
      "40\n",
      "{10, 50, 20, 30}\n"
     ]
    }
   ],
   "source": [
    "#)pop(): randomly delete element\n",
    "s={40,30,20,10,50}\n",
    "print(s)\n",
    "print(s.pop())\n",
    "print(s)"
   ]
  },
  {
   "cell_type": "code",
   "execution_count": 22,
   "metadata": {},
   "outputs": [
    {
     "name": "stdout",
     "output_type": "stream",
     "text": [
      "{40, 10, 50, 20, 30}\n",
      "{40, 10, 50, 20}\n"
     ]
    }
   ],
   "source": [
    "#5)remove(x)\n",
    "s={10,20,30,40,50}\n",
    "print(s)\n",
    "s.remove(30)\n",
    "print(s)\n",
    "# s.remove(60)-->Error"
   ]
  },
  {
   "cell_type": "code",
   "execution_count": 24,
   "metadata": {},
   "outputs": [
    {
     "name": "stdout",
     "output_type": "stream",
     "text": [
      "{40, 10, 50, 20, 30}\n",
      "{40, 10, 50, 20}\n",
      "{40, 10, 50, 20}\n"
     ]
    }
   ],
   "source": [
    "#5)discard(x)\n",
    "s={10,20,30,40,50}\n",
    "print(s)\n",
    "s.discard(30)\n",
    "print(s)\n",
    "s.discard(60)\n",
    "print(s)"
   ]
  },
  {
   "cell_type": "code",
   "execution_count": 25,
   "metadata": {},
   "outputs": [
    {
     "name": "stdout",
     "output_type": "stream",
     "text": [
      "set()\n"
     ]
    }
   ],
   "source": [
    "#5)clear(x)\n",
    "s.clear()\n",
    "print(s)"
   ]
  },
  {
   "cell_type": "code",
   "execution_count": 26,
   "metadata": {},
   "outputs": [
    {
     "name": "stdout",
     "output_type": "stream",
     "text": [
      "{64, 1, 4, 36, 100, 9, 16, 49, 81, 25}\n",
      "{32, 2, 4, 8, 16}\n"
     ]
    }
   ],
   "source": [
    "#set comprehension\n",
    "s={x*x for x in range(1,11)}\n",
    "print(s)\n",
    "s={2**x for x in range(1,6)}\n",
    "print(s)"
   ]
  },
  {
   "cell_type": "code",
   "execution_count": 30,
   "metadata": {},
   "outputs": [
    {
     "name": "stdout",
     "output_type": "stream",
     "text": [
      "{'pineaple', 'cherry', 'Apple', 'Banana'}\n"
     ]
    }
   ],
   "source": [
    "#frozenset()\n",
    "s={\"Apple\",\"Banana\",\"cherry\"}\n",
    "s.add(\"pineaple\")\n",
    "print(s)\n",
    "x=frozenset(s)\n",
    "# x.add(\"grapes\")-->AttributeError"
   ]
  },
  {
   "cell_type": "code",
   "execution_count": 34,
   "metadata": {},
   "outputs": [
    {
     "name": "stdout",
     "output_type": "stream",
     "text": [
      "['Apple', 'Banana', 'cherry']\n"
     ]
    }
   ],
   "source": [
    "s=[\"Apple\",\"Banana\",\"cherry\"]\n",
    "# s.add(\"pineaple\")\n",
    "print(s)\n",
    "x=frozenset(s)\n",
    "# x.add(\"grapes\")-->AttributeError"
   ]
  },
  {
   "cell_type": "markdown",
   "metadata": {},
   "source": [
    "# Tasks"
   ]
  },
  {
   "cell_type": "code",
   "execution_count": 37,
   "metadata": {},
   "outputs": [
    {
     "name": "stdout",
     "output_type": "stream",
     "text": [
      "[1, 3, 4, 6]\n"
     ]
    }
   ],
   "source": [
    "#WAP to find the index at which the elements of two list does not match\n",
    "l1=[1,2,3,4,6,7,8]\n",
    "l2=[1,5,3,6,4,7,3]\n",
    "ind=[]\n",
    "if len(l1)==len(l2):\n",
    "    for i in range(len(l1)):\n",
    "        if l1[i]!=l2[i]:\n",
    "            ind.append(i)\n",
    "    print(ind)\n",
    "else:\n",
    "    print(\"Both list are of different lenghts!!\")"
   ]
  },
  {
   "cell_type": "code",
   "execution_count": 45,
   "metadata": {},
   "outputs": [
    {
     "name": "stdout",
     "output_type": "stream",
     "text": [
      "Original string: CampusX is best for Ds students\n",
      "Updated string: CampusX is the best channel for Data-Science students\n"
     ]
    }
   ],
   "source": [
    "#WAP to replace words from dictonary given a string replace its words from look up dictionary\n",
    "s=\"CampusX is best for Ds students\"\n",
    "d={\"best\":\"the best channel\",\"Ds\":\"Data-Science\"}\n",
    "sp=s.split()\n",
    "a=0\n",
    "for i in sp:\n",
    "    if i in d.keys():\n",
    "        sp[a]=d[i]\n",
    "    a+=1    \n",
    "st=\"\"\n",
    "print(\"Original string:\",s)\n",
    "for i in sp:\n",
    "    st+=i+\" \"\n",
    "st=st.strip()    \n",
    "print(\"Updated string:\",st)"
   ]
  },
  {
   "cell_type": "markdown",
   "metadata": {},
   "source": [
    "## Lambda function"
   ]
  },
  {
   "cell_type": "markdown",
   "metadata": {},
   "source": [
    "syntax: lambda argument_list:expression\n",
    "\n",
    "-->function without any name\n",
    "\n",
    "-->nameless function,anonymous function lambda function.\n",
    "\n",
    "Normal function:\n",
    "\n",
    "def square(n):    \n",
    "   return n*n      \n",
    "print(square(5))   \n",
    "                \n",
    "lambda function:\n",
    "\n",
    "s=lambda n:n*n\n",
    "print(s(4))\n",
    "print(s(5))"
   ]
  },
  {
   "cell_type": "code",
   "execution_count": null,
   "metadata": {},
   "outputs": [],
   "source": []
  },
  {
   "cell_type": "code",
   "execution_count": 2,
   "metadata": {},
   "outputs": [
    {
     "name": "stdout",
     "output_type": "stream",
     "text": [
      "30\n"
     ]
    }
   ],
   "source": [
    "#lambda function to find sum of two number\n",
    "#1)using normal function\n",
    "def sum(a,b):\n",
    "    return a+b\n",
    "print(sum(10,20))"
   ]
  },
  {
   "cell_type": "code",
   "execution_count": 6,
   "metadata": {},
   "outputs": [
    {
     "name": "stdout",
     "output_type": "stream",
     "text": [
      "30\n"
     ]
    }
   ],
   "source": [
    "#2)using lambda function\n",
    "s=lambda a,b:a+b\n",
    "print(s(10,20))    "
   ]
  },
  {
   "cell_type": "markdown",
   "metadata": {},
   "source": [
    "1)map() function:\n",
    "\n",
    "-For every element present in given sequence,apply some functionality\n",
    "and generate new element with required modification.\n",
    "\n",
    "syntax: map(function,sequence)"
   ]
  },
  {
   "cell_type": "code",
   "execution_count": 8,
   "metadata": {},
   "outputs": [
    {
     "name": "stdout",
     "output_type": "stream",
     "text": [
      "[2, 4, 6, 8, 10]\n"
     ]
    }
   ],
   "source": [
    "l=[1,2,3,4,5]\n",
    "def double(x):\n",
    "    return 2*x\n",
    "l1=list(map(double,l))\n",
    "print(l1)"
   ]
  },
  {
   "cell_type": "code",
   "execution_count": 9,
   "metadata": {},
   "outputs": [
    {
     "name": "stdout",
     "output_type": "stream",
     "text": [
      "[2, 4, 6, 8, 10]\n"
     ]
    }
   ],
   "source": [
    "l=[1,2,3,4,5]\n",
    "l1=list(map(lambda x:2*x,l))\n",
    "print(l1)"
   ]
  },
  {
   "cell_type": "code",
   "execution_count": 11,
   "metadata": {},
   "outputs": [
    {
     "name": "stdout",
     "output_type": "stream",
     "text": [
      "[4, 6, 8, 10]\n"
     ]
    }
   ],
   "source": [
    "l1=[1,2,3,4]\n",
    "l2=[3,4,5,6]\n",
    "l3=list(map(lambda x,y:x+y,l1,l2))\n",
    "print(l3)"
   ]
  },
  {
   "cell_type": "markdown",
   "metadata": {},
   "source": [
    "2)reduce() function:\n",
    "\n",
    "-->reduces sequence of element into single elemnet by applying the specified function.\n",
    "\n",
    "Syntax: reduce(function,sequence)\n",
    "\n",
    "-->present in functools module so need to import that module to use reduce() function\n",
    "\n",
    "ex:\n",
    "\n",
    "from functools import *\n",
    "\n",
    "      or\n",
    "      \n",
    "import functools.reduce      "
   ]
  },
  {
   "cell_type": "code",
   "execution_count": 12,
   "metadata": {},
   "outputs": [
    {
     "name": "stdout",
     "output_type": "stream",
     "text": [
      "21\n",
      "720\n"
     ]
    }
   ],
   "source": [
    "from functools import *\n",
    "l1=[1,2,3,4,5,6]\n",
    "sum=reduce(lambda x,y:x+y,l1)\n",
    "print(sum)\n",
    "mul=reduce(lambda x,y:x*y,l1)\n",
    "print(mul)"
   ]
  },
  {
   "cell_type": "markdown",
   "metadata": {},
   "source": [
    "3)filter() function\n",
    "\n",
    "-->filter values from given sequence based on some condition.\n",
    "\n",
    "-->function argument is responsible to check condition.\n",
    "\n"
   ]
  },
  {
   "cell_type": "code",
   "execution_count": 13,
   "metadata": {},
   "outputs": [
    {
     "name": "stdout",
     "output_type": "stream",
     "text": [
      "[0, 2, 4, 6, 8, 10]\n"
     ]
    }
   ],
   "source": [
    "def isEven(x):\n",
    "    if x%2==0:\n",
    "        return True\n",
    "    else:\n",
    "        return False\n",
    "l=[0,1,2,3,4,5,6,7,8,9,10]\n",
    "l1=list(filter(isEven,l))\n",
    "print(l1)"
   ]
  },
  {
   "cell_type": "code",
   "execution_count": 14,
   "metadata": {},
   "outputs": [
    {
     "name": "stdout",
     "output_type": "stream",
     "text": [
      "[0, 2, 4, 6, 8, 10]\n"
     ]
    }
   ],
   "source": [
    "l1=list(filter(lambda x:x%2==0,l))\n",
    "print(l1)"
   ]
  },
  {
   "cell_type": "code",
   "execution_count": 15,
   "metadata": {},
   "outputs": [
    {
     "name": "stdout",
     "output_type": "stream",
     "text": [
      "[4, 6, 8]\n"
     ]
    }
   ],
   "source": [
    "l1=[1,2,3,4,5]\n",
    "l2=[3,4,5]\n",
    "l3=list(map(lambda x,y:x+y,l1,l2))\n",
    "print(l3)"
   ]
  },
  {
   "cell_type": "code",
   "execution_count": 16,
   "metadata": {},
   "outputs": [
    {
     "name": "stdout",
     "output_type": "stream",
     "text": [
      "[]\n"
     ]
    }
   ],
   "source": [
    "l1=[1,2,3,4,5]\n",
    "l2=[3,4,5]\n",
    "l3=[]\n",
    "l4=list(map(lambda x,y,z:x+y+z,l1,l2,l3))\n",
    "print(l4)"
   ]
  },
  {
   "cell_type": "code",
   "execution_count": 17,
   "metadata": {},
   "outputs": [
    {
     "name": "stdout",
     "output_type": "stream",
     "text": [
      "['APPLE', 'BANANA', 'CHERRY']\n"
     ]
    }
   ],
   "source": [
    "coords=[\"apple\",\"banana\",\"cherry\"]\n",
    "l=list(map(lambda x:x.upper(),coords))\n",
    "print(l)"
   ]
  },
  {
   "cell_type": "code",
   "execution_count": 20,
   "metadata": {},
   "outputs": [
    {
     "name": "stdout",
     "output_type": "stream",
     "text": [
      "['APPLE', 'BANANA', 'CHERRY']\n"
     ]
    }
   ],
   "source": [
    "l2=list(map(str.upper,coords))\n",
    "print(l2)"
   ]
  },
  {
   "cell_type": "code",
   "execution_count": 22,
   "metadata": {},
   "outputs": [
    {
     "name": "stdout",
     "output_type": "stream",
     "text": [
      "['banana', 'cherry', 'orange']\n"
     ]
    }
   ],
   "source": [
    "l=[\"apple\",\"banana\",\"cherry\",\"date\",\"kiwi\",\"orange\"]\n",
    "l2=list(filter(lambda x:len(x)>5,l))\n",
    "print(l2)"
   ]
  },
  {
   "cell_type": "code",
   "execution_count": 23,
   "metadata": {},
   "outputs": [
    {
     "name": "stdout",
     "output_type": "stream",
     "text": [
      "9996\n"
     ]
    }
   ],
   "source": [
    "min=lambda x,y:x if x<y else y\n",
    "print(min(101*99,102*98))"
   ]
  },
  {
   "cell_type": "code",
   "execution_count": 1,
   "metadata": {},
   "outputs": [],
   "source": [
    "#WAP to print number div by 19 and 13 from given list using lambda function\n",
    "l=[]\n"
   ]
  },
  {
   "cell_type": "code",
   "execution_count": 2,
   "metadata": {},
   "outputs": [
    {
     "name": "stdout",
     "output_type": "stream",
     "text": [
      "['date', 'apple', 'banana', 'cherry']\n"
     ]
    }
   ],
   "source": [
    "#sorted(key)\n",
    "l=[\"apple\",\"banana\",\"cherry\",\"date\"]\n",
    "l1=sorted(l,key=len)\n",
    "print(l1)"
   ]
  },
  {
   "cell_type": "code",
   "execution_count": 8,
   "metadata": {},
   "outputs": [
    {
     "name": "stdout",
     "output_type": "stream",
     "text": [
      "['apple', 'pineaple', 'kiwi', 'cherry']\n"
     ]
    }
   ],
   "source": [
    "a=[\"apple\",\"kiwi\",\"cherry\",\"pineaple\"]\n",
    "def fun(word):\n",
    "    return word[-1]\n",
    "l2=sorted(a,key=fun)\n",
    "print(l2)"
   ]
  },
  {
   "cell_type": "code",
   "execution_count": 7,
   "metadata": {},
   "outputs": [
    {
     "name": "stdout",
     "output_type": "stream",
     "text": [
      "['pineaple', 'apple', 'kiwi', 'cherry']\n"
     ]
    }
   ],
   "source": [
    "a=[\"kiwi\",\"cherry\",\"pineaple\",\"apple\"]\n",
    "l=sorted(a,key=lambda word:word[-1])\n",
    "print(l)"
   ]
  },
  {
   "cell_type": "code",
   "execution_count": 12,
   "metadata": {},
   "outputs": [
    {
     "name": "stdout",
     "output_type": "stream",
     "text": [
      "[(4, 1), (2, 3), (1, 5), (3, 8)]\n"
     ]
    }
   ],
   "source": [
    "l=[(1,5),(2,3),(3,8),(4,1)]\n",
    "lm=sorted(l,key=lambda x:x[-1])\n",
    "print(lm)"
   ]
  },
  {
   "cell_type": "code",
   "execution_count": 16,
   "metadata": {},
   "outputs": [
    {
     "name": "stdout",
     "output_type": "stream",
     "text": [
      "['kiwi', 'apple', 'banana', 'cherry']\n"
     ]
    }
   ],
   "source": [
    "#sort(key): only used for list.\n",
    "a=[\"apple\",\"banana\",\"kiwi\",\"cherry\"]\n",
    "a.sort(key=len)\n",
    "print(a)"
   ]
  },
  {
   "cell_type": "code",
   "execution_count": 15,
   "metadata": {},
   "outputs": [
    {
     "name": "stdout",
     "output_type": "stream",
     "text": [
      "[(3, 1), (2, 2), (1, 3)]\n"
     ]
    }
   ],
   "source": [
    "a=[(1,3),(2,2),(3,1)]\n",
    "def fun(val):\n",
    "    return val[1]\n",
    "a.sort(key=fun)\n",
    "print(a)"
   ]
  },
  {
   "cell_type": "code",
   "execution_count": 17,
   "metadata": {},
   "outputs": [
    {
     "name": "stdout",
     "output_type": "stream",
     "text": [
      "['banana', 'apple', 'pineaple', 'kiwi']\n"
     ]
    }
   ],
   "source": [
    "a=[\"apple\",\"banana\",\"kiwi\",\"pineaple\"]\n",
    "a.sort(key=lambda x:x[-1])\n",
    "print(a)"
   ]
  },
  {
   "cell_type": "code",
   "execution_count": 19,
   "metadata": {},
   "outputs": [
    {
     "name": "stdout",
     "output_type": "stream",
     "text": [
      "['apple', 'banana#cherry#orange']\n",
      "['apple', 'banana#cherry#orange']\n",
      "['apple', 'banana', 'cherry', 'orange']\n"
     ]
    },
    {
     "ename": "NameError",
     "evalue": "name 'maxsplit' is not defined",
     "output_type": "error",
     "traceback": [
      "\u001b[1;31m---------------------------------------------------------------------------\u001b[0m",
      "\u001b[1;31mNameError\u001b[0m                                 Traceback (most recent call last)",
      "\u001b[1;32m<ipython-input-19-3ed9c02cff03>\u001b[0m in \u001b[0;36m<module>\u001b[1;34m\u001b[0m\n\u001b[0;32m      7\u001b[0m \u001b[0mz\u001b[0m\u001b[1;33m=\u001b[0m\u001b[0mt\u001b[0m\u001b[1;33m.\u001b[0m\u001b[0msplit\u001b[0m\u001b[1;33m(\u001b[0m\u001b[1;34m\"#\"\u001b[0m\u001b[1;33m,\u001b[0m\u001b[1;36m3\u001b[0m\u001b[1;33m)\u001b[0m\u001b[1;33m\u001b[0m\u001b[1;33m\u001b[0m\u001b[0m\n\u001b[0;32m      8\u001b[0m \u001b[0mprint\u001b[0m\u001b[1;33m(\u001b[0m\u001b[0mz\u001b[0m\u001b[1;33m)\u001b[0m\u001b[1;33m\u001b[0m\u001b[1;33m\u001b[0m\u001b[0m\n\u001b[1;32m----> 9\u001b[1;33m \u001b[0ms\u001b[0m\u001b[1;33m=\u001b[0m\u001b[0mt\u001b[0m\u001b[1;33m.\u001b[0m\u001b[0msplit\u001b[0m\u001b[1;33m(\u001b[0m\u001b[1;34m\"#\"\u001b[0m\u001b[1;33m,\u001b[0m\u001b[0mmaxsplit\u001b[0m\u001b[1;33m)\u001b[0m\u001b[1;33m\u001b[0m\u001b[1;33m\u001b[0m\u001b[0m\n\u001b[0m\u001b[0;32m     10\u001b[0m \u001b[0mprint\u001b[0m\u001b[1;33m(\u001b[0m\u001b[0ms\u001b[0m\u001b[1;33m)\u001b[0m\u001b[1;33m\u001b[0m\u001b[1;33m\u001b[0m\u001b[0m\n",
      "\u001b[1;31mNameError\u001b[0m: name 'maxsplit' is not defined"
     ]
    }
   ],
   "source": [
    "#split()\n",
    "t=\"apple#banana#cherry#orange\"\n",
    "x=t.split(\"#\",1)\n",
    "print(x)\n",
    "y=t.split(\"#\",2)\n",
    "print(x)\n",
    "z=t.split(\"#\",3)\n",
    "print(z)\n",
    "s=t.split(\"#\",maxsplit)\n",
    "print(s)"
   ]
  },
  {
   "cell_type": "code",
   "execution_count": 30,
   "metadata": {},
   "outputs": [
    {
     "name": "stdout",
     "output_type": "stream",
     "text": [
      "index to be removed: 0\n",
      "Updated list is: [5, 2, 5, 8]\n",
      "Special element count: 1\n"
     ]
    }
   ],
   "source": [
    "# given a list L of size N you need to count a number of special element in the given list an element is special if removal of that\n",
    "# element makes the list balanced The list will be balanced if sum of even index element equals to the sum of odd index element also print\n",
    "# the updated list after removal of special element\n",
    "from functools import *\n",
    "l=[5,5,2,5,8]\n",
    "spEle=0\n",
    "index=[]\n",
    "evenEle=0\n",
    "oddEle=0\n",
    "for i in range(len(l)):\n",
    "    if i%2==0:\n",
    "        evenEle+=l[i]\n",
    "    else:\n",
    "        oddEle+=l[i]\n",
    "for i in range(len(l)):\n",
    "    if i%2==0:\n",
    "        evenEle-=l[i]\n",
    "    else:\n",
    "        oddEle-=l[i]\n",
    "    if evenEle==oddEle:\n",
    "        index.append(i)\n",
    "        print(\"index to be removed:\",i)\n",
    "        spEle+=1\n",
    "        break\n",
    "        \n",
    "for i in index:\n",
    "    l.pop(i)\n",
    "print(\"Updated list is:\",l)\n",
    "print(\"Special element count:\",spEle)"
   ]
  },
  {
   "cell_type": "code",
   "execution_count": 32,
   "metadata": {},
   "outputs": [
    {
     "name": "stdout",
     "output_type": "stream",
     "text": [
      "Enter list:[5, 5, 2, 5, 8]\n",
      "Original list: [5, 5, 2, 5, 8]\n",
      "Indexed to be remove: 0\n",
      "List after removal of index: 0 is: [5, 2, 5, 8]\n",
      "Indexed to be remove: 1\n",
      "List after removal of index: 1 is: [5, 2, 5, 8]\n",
      "Total special elements: 2\n"
     ]
    }
   ],
   "source": [
    "l=eval(input(\"Enter list:\"))\n",
    "print(\"Original list:\",l)\n",
    "count=0\n",
    "for i in range(len(l)):\n",
    "    c=l.copy()\n",
    "    c.pop(i)\n",
    "#   sum1=sum((::2))\n",
    "    sum1=sum2=0\n",
    "    for k in c[::2]:\n",
    "        sum1+=k\n",
    "    for k in c[1::2]:\n",
    "        sum2+=k    \n",
    "    if sum1==sum2:\n",
    "        print(\"Indexed to be remove:\",i)\n",
    "        count+=1\n",
    "        print(\"List after removal of index:\",i,\"is:\",c)\n",
    "        \n",
    "print(\"Total special elements:\",count)        \n",
    "    "
   ]
  },
  {
   "cell_type": "code",
   "execution_count": null,
   "metadata": {},
   "outputs": [],
   "source": []
  }
 ],
 "metadata": {
  "kernelspec": {
   "display_name": "Python 3",
   "language": "python",
   "name": "python3"
  },
  "language_info": {
   "codemirror_mode": {
    "name": "ipython",
    "version": 3
   },
   "file_extension": ".py",
   "mimetype": "text/x-python",
   "name": "python",
   "nbconvert_exporter": "python",
   "pygments_lexer": "ipython3",
   "version": "3.8.5"
  }
 },
 "nbformat": 4,
 "nbformat_minor": 4
}
