{
 "cells": [
  {
   "cell_type": "markdown",
   "metadata": {},
   "source": [
    "# LIST"
   ]
  },
  {
   "cell_type": "markdown",
   "metadata": {},
   "source": [
    "-->list is dynamic because based on our environment we can increase or decrease the size\n",
    "\n",
    "-->square brackets with comma separator"
   ]
  },
  {
   "cell_type": "code",
   "execution_count": 76,
   "metadata": {},
   "outputs": [
    {
     "name": "stdout",
     "output_type": "stream",
     "text": [
      "Enter list:[23,45,6,7,89]\n",
      "[23, 45, 6, 7, 89]\n"
     ]
    }
   ],
   "source": [
    "l=eval(input(\"Enter list:\"))\n",
    "print(l)"
   ]
  },
  {
   "cell_type": "code",
   "execution_count": 2,
   "metadata": {},
   "outputs": [
    {
     "name": "stdout",
     "output_type": "stream",
     "text": [
      "[1, 2, 10, 4, 5]\n"
     ]
    }
   ],
   "source": [
    "#list mutability\n",
    "l=[1,2,3,4,5]\n",
    "l[2]=10\n",
    "print(l)"
   ]
  },
  {
   "cell_type": "code",
   "execution_count": 3,
   "metadata": {},
   "outputs": [
    {
     "name": "stdout",
     "output_type": "stream",
     "text": [
      "4\n"
     ]
    }
   ],
   "source": [
    "#IMPORTANT functions of list\n",
    "# 1)len()\n",
    "n=[1,2,3,4]\n",
    "print(len(n))"
   ]
  },
  {
   "cell_type": "code",
   "execution_count": 8,
   "metadata": {},
   "outputs": [
    {
     "name": "stdout",
     "output_type": "stream",
     "text": [
      "2\n",
      "3\n",
      "0\n"
     ]
    }
   ],
   "source": [
    "#2)count()\n",
    "n=[1,2,2,3,3,3]\n",
    "print(n.count(2))\n",
    "print(n.count(3))\n",
    "print(n.count(4))#-->Ans:0"
   ]
  },
  {
   "cell_type": "code",
   "execution_count": 11,
   "metadata": {},
   "outputs": [
    {
     "name": "stdout",
     "output_type": "stream",
     "text": [
      "0\n",
      "3\n"
     ]
    }
   ],
   "source": [
    "#3)index()\n",
    "n=[1,2,2,3,3,3]\n",
    "print(n.index(1))\n",
    "print(n.index(3))\n",
    "# print(n.index(5))#Value Error"
   ]
  },
  {
   "cell_type": "code",
   "execution_count": 15,
   "metadata": {},
   "outputs": [
    {
     "name": "stdout",
     "output_type": "stream",
     "text": [
      "['m', 'n', 'A', 'B', 'C']\n"
     ]
    }
   ],
   "source": [
    "#4)append()\n",
    "l=[\"m\",\"n\"]\n",
    "l.append(\"A\")\n",
    "l.append(\"B\")\n",
    "l.append(\"C\")\n",
    "print(l)"
   ]
  },
  {
   "cell_type": "code",
   "execution_count": 16,
   "metadata": {},
   "outputs": [
    {
     "name": "stdout",
     "output_type": "stream",
     "text": [
      "[1, 28, 2, 3, 4, 5]\n",
      "[1, 28, 2, 3, 4, 5, 7]\n",
      "[1, 28, 2, 3, 4, 5, 9, 7]\n"
     ]
    }
   ],
   "source": [
    "#5)insert()\n",
    "n=[1,2,3,4,5]\n",
    "n.insert(1,28)\n",
    "print(n)\n",
    "n.insert(10,7)  # if index is equal or greter than length of n then it insert at last.\n",
    "print(n)\n",
    "n.insert(-1,9) #insert at second last index.\n",
    "print(n)"
   ]
  },
  {
   "cell_type": "code",
   "execution_count": 19,
   "metadata": {},
   "outputs": [
    {
     "name": "stdout",
     "output_type": "stream",
     "text": [
      "['Apple', 'Mango', '2', 'Apple', 'Mango', '2']\n",
      "['Apple', 'Mango', '2', 'Apple', 'Mango', '2', 'Orange', 'watermelon']\n",
      "['Orange', 'watermelon', 'Apple', 'Mango', '2', 'Apple', 'Mango', '2', 'Orange', 'watermelon']\n"
     ]
    }
   ],
   "source": [
    "#6)extend()\n",
    "l1=[\"Apple\",\"Mango\"]\n",
    "l2=[\"Orange\",\"watermelon\"]\n",
    "l1.extend(\"2\")\n",
    "l1.extend(l1)\n",
    "print(l1)\n",
    "l1.extend(l2)\n",
    "l2.extend(l1)\n",
    "print(l1)\n",
    "print(l2)"
   ]
  },
  {
   "cell_type": "code",
   "execution_count": 1,
   "metadata": {},
   "outputs": [
    {
     "name": "stdout",
     "output_type": "stream",
     "text": [
      "[2, 1, 3, 1, 1]\n"
     ]
    }
   ],
   "source": [
    "#7)remove()\n",
    "n=[1,2,1,3,1,1]\n",
    "n.remove(1)\n",
    "print(n)\n",
    "# n.remove(4) #Value Error"
   ]
  },
  {
   "cell_type": "code",
   "execution_count": 2,
   "metadata": {},
   "outputs": [
    {
     "name": "stdout",
     "output_type": "stream",
     "text": [
      "50\n",
      "40\n",
      "[10, 20, 30]\n"
     ]
    }
   ],
   "source": [
    "#8)pop()\n",
    "n=[10,20,30,40,50]\n",
    "print(n.pop())\n",
    "print(n.pop())\n",
    "print(n)"
   ]
  },
  {
   "cell_type": "code",
   "execution_count": 7,
   "metadata": {},
   "outputs": [],
   "source": [
    "y=[]\n",
    "# print(y.pop())  -->IndexError"
   ]
  },
  {
   "cell_type": "code",
   "execution_count": 6,
   "metadata": {},
   "outputs": [
    {
     "name": "stdout",
     "output_type": "stream",
     "text": [
      "50\n",
      "20\n",
      "[10, 30, 40]\n"
     ]
    }
   ],
   "source": [
    "n=[10,20,30,40,50]\n",
    "print(n.pop())\n",
    "print(n.pop(1))\n",
    "print(n)\n",
    "# print(n.pop(10))  -->IndexError"
   ]
  },
  {
   "cell_type": "code",
   "execution_count": 11,
   "metadata": {},
   "outputs": [
    {
     "name": "stdout",
     "output_type": "stream",
     "text": [
      "[]\n"
     ]
    }
   ],
   "source": [
    "#9)clear()\n",
    "n=[1,2,3,4,5]\n",
    "n.clear()\n",
    "print(n)"
   ]
  },
  {
   "cell_type": "code",
   "execution_count": 12,
   "metadata": {},
   "outputs": [
    {
     "name": "stdout",
     "output_type": "stream",
     "text": [
      "[2, 4, 5, 3, 1]\n"
     ]
    }
   ],
   "source": [
    "#10)reverse()\n",
    "n=[1,3,5,4,2]\n",
    "n.reverse()\n",
    "print(n)"
   ]
  },
  {
   "cell_type": "code",
   "execution_count": 13,
   "metadata": {},
   "outputs": [
    {
     "name": "stdout",
     "output_type": "stream",
     "text": [
      "[0, 1, 2, 5, 15]\n"
     ]
    }
   ],
   "source": [
    "#11)sort()\n",
    "n=[2,5,1,15,0]\n",
    "n.sort()\n",
    "print(n)"
   ]
  },
  {
   "cell_type": "code",
   "execution_count": 14,
   "metadata": {},
   "outputs": [
    {
     "name": "stdout",
     "output_type": "stream",
     "text": [
      "[15, 5, 2, 1, 0]\n"
     ]
    }
   ],
   "source": [
    "#For descending order\n",
    "n=[2,5,1,15,0]\n",
    "n.sort(reverse=True)\n",
    "print(n)"
   ]
  },
  {
   "cell_type": "code",
   "execution_count": 15,
   "metadata": {},
   "outputs": [
    {
     "name": "stdout",
     "output_type": "stream",
     "text": [
      "['A', 'B', 'C', 'D']\n"
     ]
    }
   ],
   "source": [
    "x=[\"D\",\"A\",\"B\",\"C\"]\n",
    "x.sort()\n",
    "print(x)"
   ]
  },
  {
   "cell_type": "code",
   "execution_count": 17,
   "metadata": {},
   "outputs": [
    {
     "name": "stdout",
     "output_type": "stream",
     "text": [
      "[1, 2, 3, 4, 5, 6]\n",
      "[1, 2, 3, 4]\n"
     ]
    }
   ],
   "source": [
    "#Mathematicial operation for list\n",
    "\n",
    "# + ->conxcatination\n",
    "# * ->repetation\n",
    "a=[1,2,3]\n",
    "b=[4,5,6]\n",
    "print(a+b)\n",
    "print(a+[4])\n",
    "# print(a+3) -->TypeError"
   ]
  },
  {
   "cell_type": "code",
   "execution_count": 18,
   "metadata": {},
   "outputs": [
    {
     "name": "stdout",
     "output_type": "stream",
     "text": [
      "[1, 2, 3, 1, 2, 3, 1, 2, 3]\n"
     ]
    }
   ],
   "source": [
    "print(a*3)"
   ]
  },
  {
   "cell_type": "code",
   "execution_count": 20,
   "metadata": {},
   "outputs": [
    {
     "name": "stdout",
     "output_type": "stream",
     "text": [
      "True\n",
      "False\n",
      "True\n"
     ]
    }
   ],
   "source": [
    "#comparasion operation for list\n",
    "x=[\"Dog\",\"Cat\",\"Rat\"]\n",
    "y=[\"Dog\",\"Cat\",\"Rat\"]\n",
    "z=[\"DOG\",\"CAT\",\"RAT\"]\n",
    "print(x==y)\n",
    "print(x==z)\n",
    "print(x!=z)"
   ]
  },
  {
   "cell_type": "code",
   "execution_count": 23,
   "metadata": {},
   "outputs": [
    {
     "name": "stdout",
     "output_type": "stream",
     "text": [
      "False\n",
      "False\n",
      "True\n",
      "True\n"
     ]
    }
   ],
   "source": [
    "x=[\"Dog\",\"Cat\",\"Rat\"]\n",
    "y=[\"Rat\",\"Cat\",\"Dog\"]\n",
    "print(x>y)\n",
    "print(x>=y)\n",
    "print(x<y)\n",
    "print(x<=y)"
   ]
  },
  {
   "cell_type": "code",
   "execution_count": 22,
   "metadata": {},
   "outputs": [
    {
     "name": "stdout",
     "output_type": "stream",
     "text": [
      "True\n",
      "True\n",
      "False\n",
      "False\n"
     ]
    }
   ],
   "source": [
    "x=[50,20,30]\n",
    "y=[40,50,60,100,200]\n",
    "print(x>y)\n",
    "print(x>=y)\n",
    "print(x<y)\n",
    "print(x<=y)"
   ]
  },
  {
   "cell_type": "code",
   "execution_count": 24,
   "metadata": {},
   "outputs": [
    {
     "name": "stdout",
     "output_type": "stream",
     "text": [
      "False\n",
      "False\n",
      "True\n",
      "True\n"
     ]
    }
   ],
   "source": [
    "x=[50,20,30]\n",
    "y=[50,20,30,100,200]\n",
    "print(x>y)\n",
    "print(x>=y)\n",
    "print(x<y)\n",
    "print(x<=y)"
   ]
  },
  {
   "cell_type": "code",
   "execution_count": 25,
   "metadata": {},
   "outputs": [
    {
     "name": "stdout",
     "output_type": "stream",
     "text": [
      "True\n",
      "False\n",
      "False\n"
     ]
    }
   ],
   "source": [
    "#membership operator for list\n",
    "#1)in\n",
    "#2)not in\n",
    "n=[10,20,30,40]\n",
    "print(10 in n)\n",
    "print(40 not in n)\n",
    "print(50 in n)"
   ]
  },
  {
   "cell_type": "code",
   "execution_count": 26,
   "metadata": {},
   "outputs": [
    {
     "name": "stdout",
     "output_type": "stream",
     "text": [
      "[10, 20, 100, 40, 50]\n"
     ]
    }
   ],
   "source": [
    "l=[10,20,30,40,50]\n",
    "x=l\n",
    "x[2]=100\n",
    "print(l) #note: if x=l then both have same reference if  x is changed then l will also changed"
   ]
  },
  {
   "cell_type": "code",
   "execution_count": 27,
   "metadata": {},
   "outputs": [
    {
     "name": "stdout",
     "output_type": "stream",
     "text": [
      "[10, 20, 30, 40, 50]\n",
      "[10, 20, 100, 40, 50]\n"
     ]
    }
   ],
   "source": [
    "l=[10,20,30,40,50]\n",
    "x=l[:] # or l.copy()\n",
    "x[2]=100\n",
    "print(l)\n",
    "print(x)"
   ]
  },
  {
   "cell_type": "code",
   "execution_count": 28,
   "metadata": {},
   "outputs": [
    {
     "name": "stdout",
     "output_type": "stream",
     "text": [
      "10\n",
      "[40, 20]\n",
      "40\n",
      "80\n"
     ]
    }
   ],
   "source": [
    "#nested list\n",
    "n=[10,20,30,[40,20],[60,70,80]]\n",
    "print(n[0])\n",
    "print(n[3])\n",
    "print(n[3][0])\n",
    "print(n[4][2])"
   ]
  },
  {
   "cell_type": "code",
   "execution_count": 29,
   "metadata": {},
   "outputs": [
    {
     "name": "stdout",
     "output_type": "stream",
     "text": [
      "200\n"
     ]
    }
   ],
   "source": [
    "n=[10,20,30,[40,20],[60,70,80,[100,200]]]\n",
    "print(n[4][3][1])"
   ]
  },
  {
   "cell_type": "code",
   "execution_count": 34,
   "metadata": {},
   "outputs": [
    {
     "name": "stdout",
     "output_type": "stream",
     "text": [
      "10 20 30 \n",
      "40 50 60 \n",
      "70 80 90 \n"
     ]
    }
   ],
   "source": [
    "#nested list as matrix\n",
    "\n",
    "n=[[10,20,30],[40,50,60],[70,80,90]]\n",
    "for i in range(len(n)):\n",
    "    for j in n[i]:\n",
    "        print(j,end=\" \")\n",
    "    print()    "
   ]
  },
  {
   "cell_type": "code",
   "execution_count": 48,
   "metadata": {},
   "outputs": [
    {
     "name": "stdout",
     "output_type": "stream",
     "text": [
      "Original Matrix:\n",
      "1 2 3 \n",
      "4 5 6 \n",
      "7 8 9 \n",
      "Transposed Matrix:\n",
      "1 \n",
      "5 \n",
      "9 \n"
     ]
    }
   ],
   "source": [
    "#WAP to find transpose of matrix\n",
    "l=[[1,2,3],[4,5,6],[7,8,9]]\n",
    "print(\"Original Matrix:\")\n",
    "for i in range(len(l)):\n",
    "    for j in l[i]:\n",
    "        print(j,end=\" \")\n",
    "    print()\n",
    "print(\"Transposed Matrix:\")\n",
    "for i in range(len(l)):\n",
    "    for j in range(len(l)):\n",
    "        if j==(i+1):\n",
    "            print(l[i][j],end=\" \")\n",
    "    print()"
   ]
  },
  {
   "cell_type": "code",
   "execution_count": 46,
   "metadata": {},
   "outputs": [
    {
     "name": "stdout",
     "output_type": "stream",
     "text": [
      "[1, 4, 9, 16, 25, 36, 49, 64, 81, 100]\n",
      "[2, 4, 8, 16, 32]\n",
      "[1, 9, 25, 49, 81]\n"
     ]
    }
   ],
   "source": [
    "#list comprehensions\n",
    "# l=[expression for item in list if condition]\n",
    "s=[x*x for x in range(1,11)]\n",
    "print(s)\n",
    "v=[2**x for x in range(1,6)]\n",
    "print(v)\n",
    "m=[x for x in s if x%2==1]\n",
    "print(m)"
   ]
  },
  {
   "cell_type": "code",
   "execution_count": 52,
   "metadata": {},
   "outputs": [
    {
     "name": "stdout",
     "output_type": "stream",
     "text": [
      "[10, 40, 70]\n",
      "[20, 50, 80]\n",
      "[30, 60, 90]\n"
     ]
    }
   ],
   "source": [
    "#transpose of matrix using list comprehension\n",
    "l=[[1,2,3],[4,5,6],[7,8,9]]\n",
    "for i in range(len(l[0])):\n",
    "    new=[row[i] for row in l]\n",
    "    print(new)    "
   ]
  },
  {
   "cell_type": "code",
   "execution_count": 54,
   "metadata": {},
   "outputs": [
    {
     "name": "stdout",
     "output_type": "stream",
     "text": [
      "[1, 2, 5]\n"
     ]
    }
   ],
   "source": [
    "#WAP to print numbers whose  freq greater than a given value k\n",
    "l=[1,1,1,1,2,2,2,2,3,3,5,5,5,6,7]\n",
    "n=[]\n",
    "k=2\n",
    "for i in l:\n",
    "    if l.count(i)>k and i not in n:\n",
    "        n.append(i)\n",
    "print(n)        "
   ]
  },
  {
   "cell_type": "markdown",
   "metadata": {},
   "source": [
    "# Dictionary"
   ]
  },
  {
   "cell_type": "markdown",
   "metadata": {},
   "source": [
    "-->represents a group of object as key-value pairs :rollno-name\n",
    "\n",
    "-->Duplicate keys not allowed but value can be duplicated.\n",
    "\n",
    "-->heterogenous objects are allowed for both key and values.\n",
    "\n",
    "-->Insertion order not preserved.\n",
    "\n",
    "-->Mutable\n",
    "\n",
    "-->Index and slicing concept are not applicable\n",
    "\n",
    "   d={10:\"lucky\",20:\"Arman\",30:\"Aryan\"}"
   ]
  },
  {
   "cell_type": "code",
   "execution_count": 56,
   "metadata": {},
   "outputs": [
    {
     "name": "stdout",
     "output_type": "stream",
     "text": [
      "<class 'dict'>\n",
      "{}\n"
     ]
    }
   ],
   "source": [
    "d={}\n",
    "d1=dict()\n",
    "print(type(d))\n",
    "print(d1)"
   ]
  },
  {
   "cell_type": "code",
   "execution_count": 57,
   "metadata": {},
   "outputs": [
    {
     "name": "stdout",
     "output_type": "stream",
     "text": [
      "<class 'set'>\n",
      "set()\n"
     ]
    }
   ],
   "source": [
    "s=set()\n",
    "print(type(s))\n",
    "print(s)"
   ]
  },
  {
   "cell_type": "code",
   "execution_count": 58,
   "metadata": {},
   "outputs": [
    {
     "name": "stdout",
     "output_type": "stream",
     "text": [
      "{10: 'Arman', 20: 'Aryan', 30: 'Lucky'}\n"
     ]
    }
   ],
   "source": [
    "d={}\n",
    "d[10]=\"Arman\"\n",
    "d[20]=\"Aryan\"\n",
    "d[30]=\"Lucky\"\n",
    "print(d)"
   ]
  },
  {
   "cell_type": "code",
   "execution_count": 60,
   "metadata": {},
   "outputs": [
    {
     "name": "stdout",
     "output_type": "stream",
     "text": [
      "{10: 'Arman', 20: 'Aryan', 30: 'Lucky'}\n"
     ]
    }
   ],
   "source": [
    "d=dict([(10,'Arman'), (20,'Aryan'), (30,'Lucky')]) #--> dict(list of tuples)\n",
    "print(d)"
   ]
  },
  {
   "cell_type": "code",
   "execution_count": 73,
   "metadata": {},
   "outputs": [
    {
     "name": "stdout",
     "output_type": "stream",
     "text": [
      "Arman\n",
      "{10: 'Arman', 20: 'Aryan', 30: 'Lucky', 40: 'sumit'}\n",
      "{10: 'sachin', 20: 'Aryan', 30: 'Lucky', 40: 'sumit'}\n",
      "{10: 'sachin', 20: 'Aryan', 30: 'Lucky'}\n",
      "{}\n"
     ]
    }
   ],
   "source": [
    "d={10: 'Arman', 20: 'Aryan', 30: 'Lucky'}\n",
    "print(d[10])\n",
    "# print(d[40]) keyError\n",
    "d[40]=\"sumit\"\n",
    "print(d)\n",
    "d[10]=\"sachin\"\n",
    "print(d)\n",
    "#To delete the element\n",
    "del d[40]\n",
    "print(d)\n",
    "d.clear()\n",
    "print(d)\n",
    "del d\n",
    "# print(d)#NameError"
   ]
  },
  {
   "cell_type": "code",
   "execution_count": 75,
   "metadata": {},
   "outputs": [
    {
     "name": "stdout",
     "output_type": "stream",
     "text": [
      "{1: 1, 2: 4, 3: 9, 4: 16, 5: 25}\n"
     ]
    }
   ],
   "source": [
    "#dictionary comprehensions\n",
    "sqr={x:x*x for x in range(1,6)}\n",
    "print(sqr)"
   ]
  },
  {
   "cell_type": "code",
   "execution_count": 79,
   "metadata": {},
   "outputs": [
    {
     "name": "stdout",
     "output_type": "stream",
     "text": [
      "5\n",
      "{10: 20, 30: 600, 50: 60, 100: 50, 200: 40}\n"
     ]
    }
   ],
   "source": [
    "#Important functions of dictionary\n",
    "#1)dict()\n",
    "\n",
    "#2)len()\n",
    "n=len(sqr)\n",
    "print(n)\n",
    "#3)clear()\n",
    "\n",
    "#4)copy()\n",
    "\n",
    "#5)update()\n",
    "d={10:20,30:40,50:60}\n",
    "x={100:50,200:40,30:600}\n",
    "d.update(x)\n",
    "print(d)"
   ]
  },
  {
   "cell_type": "code",
   "execution_count": 80,
   "metadata": {},
   "outputs": [
    {
     "name": "stdout",
     "output_type": "stream",
     "text": [
      "20\n",
      "20\n",
      "None\n"
     ]
    }
   ],
   "source": [
    "#6)get()\n",
    "'''\n",
    "1)get(key)\n",
    "1)get(key,default value)\n",
    "'''\n",
    "print(d[10])\n",
    "print(d.get(10))\n",
    "print(d.get(40))"
   ]
  },
  {
   "cell_type": "code",
   "execution_count": 81,
   "metadata": {},
   "outputs": [
    {
     "name": "stdout",
     "output_type": "stream",
     "text": [
      "20\n",
      "Guest\n"
     ]
    }
   ],
   "source": [
    "print(d.get(10,\"Guest\"))\n",
    "print(d.get(40,\"Guest\"))"
   ]
  },
  {
   "cell_type": "code",
   "execution_count": 82,
   "metadata": {},
   "outputs": [
    {
     "name": "stdout",
     "output_type": "stream",
     "text": [
      "(200, 40)\n"
     ]
    }
   ],
   "source": [
    "#7)popitem()\n",
    "\n",
    "print(d.popitem())"
   ]
  },
  {
   "cell_type": "code",
   "execution_count": 84,
   "metadata": {},
   "outputs": [],
   "source": [
    "d={}\n",
    "# print(d.popitem()) -->keyError"
   ]
  },
  {
   "cell_type": "code",
   "execution_count": 87,
   "metadata": {},
   "outputs": [
    {
     "name": "stdout",
     "output_type": "stream",
     "text": [
      "dict_keys([10, 20, 30])\n",
      "dict_values(['lucky', 'Arman', 'Aryan'])\n",
      "dict_items([(10, 'lucky'), (20, 'Arman'), (30, 'Aryan')])\n"
     ]
    }
   ],
   "source": [
    "#8)keys()\n",
    "#9)values()\n",
    "#10)items()\n",
    "d={10:\"lucky\",20:\"Arman\",30:\"Aryan\"}\n",
    "print(d.keys())\n",
    "print(d.values())\n",
    "print(d.items())"
   ]
  },
  {
   "cell_type": "code",
   "execution_count": 90,
   "metadata": {},
   "outputs": [
    {
     "name": "stdout",
     "output_type": "stream",
     "text": [
      "keys-1: 10\n",
      "keys-2: 20\n",
      "keys-3: 30\n"
     ]
    }
   ],
   "source": [
    "a=1\n",
    "for i in d.keys():\n",
    "    print(f\"keys-{a}:\",i)\n",
    "    a+=1"
   ]
  },
  {
   "cell_type": "code",
   "execution_count": 91,
   "metadata": {},
   "outputs": [
    {
     "name": "stdout",
     "output_type": "stream",
     "text": [
      "values-1: lucky\n",
      "values-2: Arman\n",
      "values-3: Aryan\n"
     ]
    }
   ],
   "source": [
    "a=1\n",
    "for i in d.values():\n",
    "    print(f\"values-{a}:\",i)\n",
    "    a+=1"
   ]
  },
  {
   "cell_type": "code",
   "execution_count": 93,
   "metadata": {},
   "outputs": [
    {
     "name": "stdout",
     "output_type": "stream",
     "text": [
      "10 -> lucky\n",
      "20 -> Arman\n",
      "30 -> Aryan\n"
     ]
    }
   ],
   "source": [
    "for k,v in d.items():\n",
    "    print(k,\"->\",v)"
   ]
  },
  {
   "cell_type": "code",
   "execution_count": 94,
   "metadata": {},
   "outputs": [
    {
     "name": "stdout",
     "output_type": "stream",
     "text": [
      "pavan\n",
      "{10: 'lucky', 20: 'Arman', 30: 'Aryan', 40: 'pavan'}\n",
      "lucky\n",
      "{10: 'lucky', 20: 'Arman', 30: 'Aryan', 40: 'pavan'}\n"
     ]
    }
   ],
   "source": [
    "#11)setdefault()\n",
    "print(d.setdefault(40,\"pavan\"))\n",
    "print(d)\n",
    "print(d.setdefault(10,\"sachin\"))\n",
    "print(d)"
   ]
  },
  {
   "cell_type": "markdown",
   "metadata": {},
   "source": [
    "# Tasks"
   ]
  },
  {
   "cell_type": "code",
   "execution_count": 96,
   "metadata": {},
   "outputs": [
    {
     "name": "stdout",
     "output_type": "stream",
     "text": [
      "Enter string:dog dog ab ab is not animal\n",
      "{2: 'i', 3: 'o', 6: ' ', 4: 'a', 1: 'l'}\n"
     ]
    }
   ],
   "source": [
    "#WAP that reads the word from paragraph and stores them as key in dictonary and count frequency of word as value\n",
    "st=input(\"Enter string:\")\n",
    "d={}\n",
    "for i in st:\n",
    "    d[st.count(i)]=i\n",
    "print(d)    "
   ]
  },
  {
   "cell_type": "code",
   "execution_count": null,
   "metadata": {},
   "outputs": [],
   "source": []
  }
 ],
 "metadata": {
  "kernelspec": {
   "display_name": "Python 3",
   "language": "python",
   "name": "python3"
  },
  "language_info": {
   "codemirror_mode": {
    "name": "ipython",
    "version": 3
   },
   "file_extension": ".py",
   "mimetype": "text/x-python",
   "name": "python",
   "nbconvert_exporter": "python",
   "pygments_lexer": "ipython3",
   "version": "3.8.5"
  }
 },
 "nbformat": 4,
 "nbformat_minor": 4
}
