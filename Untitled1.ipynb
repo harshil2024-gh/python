{
 "cells": [
  {
   "cell_type": "markdown",
   "metadata": {},
   "source": [
    "# Type casting"
   ]
  },
  {
   "cell_type": "code",
   "execution_count": 2,
   "metadata": {},
   "outputs": [
    {
     "name": "stdout",
     "output_type": "stream",
     "text": [
      "Enter data 1: 56\n",
      "Enter data 2: 98\n",
      "154\n"
     ]
    }
   ],
   "source": [
    "num1=int(input(\"Enter data 1: \"))\n",
    "num2=int(input(\"Enter data 2: \"))\n",
    "sum1=num1+num2\n",
    "print(sum1)"
   ]
  },
  {
   "cell_type": "code",
   "execution_count": 13,
   "metadata": {},
   "outputs": [
    {
     "name": "stdout",
     "output_type": "stream",
     "text": [
      "123\n",
      "1\n",
      "0\n",
      "10\n",
      "10\n",
      "15\n"
     ]
    }
   ],
   "source": [
    "#1.int()\n",
    "print(int(123.987))\n",
    "print(int(True))\n",
    "print(int(False))\n",
    "print(int(\"10\"))\n",
    "#print(int(\"10.5\"))  -->value error\n",
    "#print(int(\"0B1111\"))-->error\n",
    "print(int(10.5)) \n",
    "print(int(0B1111))\n",
    "\n"
   ]
  },
  {
   "cell_type": "code",
   "execution_count": 14,
   "metadata": {},
   "outputs": [
    {
     "name": "stdout",
     "output_type": "stream",
     "text": [
      "123.987\n",
      "1.0\n",
      "0.0\n",
      "10.0\n",
      "10.5\n",
      "15.0\n"
     ]
    }
   ],
   "source": [
    "#2.float()\n",
    "print(float(123.987))\n",
    "print(float(True))\n",
    "print(float(False))\n",
    "print(float(\"10\"))\n",
    "print(float(\"10.5\"))\n",
    "#print(int(\"0B1111\"))--> value error\n",
    " \n",
    "print(float(0B1111))"
   ]
  },
  {
   "cell_type": "code",
   "execution_count": 16,
   "metadata": {},
   "outputs": [
    {
     "name": "stdout",
     "output_type": "stream",
     "text": [
      "False\n",
      "True\n",
      "True\n",
      "True\n",
      "True\n",
      "False\n",
      "True\n",
      "True\n",
      "False\n",
      "True\n"
     ]
    }
   ],
   "source": [
    "#3.bool()\n",
    "\n",
    "print(bool(0))\n",
    "print(bool(1))\n",
    "print(bool(10))\n",
    "print(bool(10))\n",
    "print(bool(0.178))\n",
    "print(bool(0.0))\n",
    "print(bool(\"True\"))\n",
    "print(bool(\"False\"))\n",
    "print(bool(\"\"))\n",
    "print(bool(0B1111))"
   ]
  },
  {
   "cell_type": "code",
   "execution_count": 18,
   "metadata": {},
   "outputs": [
    {
     "name": "stdout",
     "output_type": "stream",
     "text": [
      "10\n",
      "10.5\n",
      "True\n",
      "15\n"
     ]
    }
   ],
   "source": [
    "#3.str()\n",
    "print(str(10))\n",
    "print(str(10.5))\n",
    "print(str(True))\n",
    "print(str(0B1111))"
   ]
  },
  {
   "cell_type": "markdown",
   "metadata": {},
   "source": [
    "# Python Operators"
   ]
  },
  {
   "cell_type": "markdown",
   "metadata": {},
   "source": [
    "### + :-Addition    (string :- concatenation)\n",
    "### - :-Subtraction\n",
    "### * :-multiplication  (String :- string multiplication but one of it sholud be integer ex: \"a\"*2=aa)\n",
    "### / :-division\n",
    "### % :-module\n",
    "### // :-floor division\n",
    "### ** :power or exponent\n"
   ]
  },
  {
   "cell_type": "code",
   "execution_count": 23,
   "metadata": {},
   "outputs": [
    {
     "name": "stdout",
     "output_type": "stream",
     "text": [
      "Enter data 1: 9\n",
      "Enter data 2: 8\n",
      "Addition is:  17\n",
      "Subtraction is:  1\n",
      "multiplication is: 72\n",
      "Division is:  1.125\n",
      "Modulus is:  1\n",
      "Floor division is:  1\n",
      "power is:  43046721\n"
     ]
    }
   ],
   "source": [
    "num1=int(input(\"Enter data 1: \"))\n",
    "num2=int(input(\"Enter data 2: \"))\n",
    "print(\"Addition is: \",num1+num2)\n",
    "print(\"Subtraction is: \",num1-num2)\n",
    "print(\"multiplication is:\",num1*num2)\n",
    "print(\"Division is: \",num1/num2)\n",
    "print(\"Modulus is: \",num1%num2)\n",
    "print(\"Floor division is: \",num1//num2)\n",
    "print(\"power is: \",num1**num2)"
   ]
  },
  {
   "cell_type": "markdown",
   "metadata": {},
   "source": [
    "# Comparison or Relational Operator\n",
    " ### > :-greater than\n",
    " ### < :-less than\n",
    " ### >= :-greater than or equal to\n",
    " ### <= :-less than or equal to\n",
    " ### == :-Equal to\n",
    " ### != :-Not equal to"
   ]
  },
  {
   "cell_type": "code",
   "execution_count": 27,
   "metadata": {},
   "outputs": [
    {
     "name": "stdout",
     "output_type": "stream",
     "text": [
      "Enter data 1: \"Arman\"\n",
      "Enter data 2: \"Aryan\"\n",
      "num1>num2 is:  False\n",
      "num1<num2 is:  True\n",
      "num1>=num2 is: False\n",
      "num1<=num2 is:  True\n",
      "num1==num2 is:  False\n",
      "num1!=num2 is:  True\n"
     ]
    }
   ],
   "source": [
    "num1=(input(\"Enter data 1: \"))\n",
    "num2=(input(\"Enter data 2: \"))\n",
    "print(\"num1>num2 is: \",num1>num2)\n",
    "print(\"num1<num2 is: \",num1<num2)\n",
    "print(\"num1>=num2 is:\",num1>=num2)\n",
    "print(\"num1<=num2 is: \",num1<=num2)\n",
    "print(\"num1==num2 is: \",num1==num2)\n",
    "print(\"num1!=num2 is: \",num1!=num2)\n",
    "\n",
    "#note :- In string comparison will be according to ascii value"
   ]
  },
  {
   "cell_type": "code",
   "execution_count": 29,
   "metadata": {},
   "outputs": [
    {
     "name": "stdout",
     "output_type": "stream",
     "text": [
      "Enter data 1: 45\n",
      "Enter data 2: 23\n",
      "num1>num2 is:  True\n",
      "num1<num2 is:  False\n",
      "num1>=num2 is: True\n",
      "num1<=num2 is:  False\n",
      "num1==num2 is:  False\n",
      "num1!=num2 is:  True\n"
     ]
    }
   ],
   "source": [
    "num1=int(input(\"Enter data 1: \"))\n",
    "num2=int(input(\"Enter data 2: \"))\n",
    "print(\"num1>num2 is: \",num1>num2)\n",
    "print(\"num1<num2 is: \",num1<num2)\n",
    "print(\"num1>=num2 is:\",num1>=num2)\n",
    "print(\"num1<=num2 is: \",num1<=num2)\n",
    "print(\"num1==num2 is: \",num1==num2)\n",
    "print(\"num1!=num2 is: \",num1!=num2)\n"
   ]
  },
  {
   "cell_type": "code",
   "execution_count": 30,
   "metadata": {},
   "outputs": [
    {
     "name": "stdout",
     "output_type": "stream",
     "text": [
      "True\n",
      "True\n",
      "False\n",
      "True\n",
      "False\n"
     ]
    }
   ],
   "source": [
    "print(True>=True)\n",
    "print(10>=True)  #10>1(True) :-True\n",
    "print(False>=True)\n",
    "print(10<20<30)\n",
    "print(10<20<30>40)"
   ]
  },
  {
   "cell_type": "markdown",
   "metadata": {},
   "source": [
    "# Logical operators"
   ]
  },
  {
   "cell_type": "code",
   "execution_count": 31,
   "metadata": {},
   "outputs": [
    {
     "name": "stdout",
     "output_type": "stream",
     "text": [
      "False\n",
      "True\n",
      "True\n"
     ]
    }
   ],
   "source": [
    "'''\n",
    "1.boolean type behavior\n",
    "and :-if both arguments are true then only results is True.\n",
    "or  :-if atleast one arguments is True then result is True\n",
    "not :-complement\n",
    "\n",
    "'''\n",
    "print(True and False)\n",
    "print(True or False)\n",
    "print(not False)"
   ]
  },
  {
   "cell_type": "code",
   "execution_count": 40,
   "metadata": {},
   "outputs": [
    {
     "name": "stdout",
     "output_type": "stream",
     "text": [
      "20\n",
      "0\n",
      "10\n",
      "20\n"
     ]
    }
   ],
   "source": [
    "#2. non boolean type behaviour\n",
    "#1. x and y :- if x is evaluate to False then result is x,otherwise True \n",
    "print(10 and 20)\n",
    "print(0 and 20)\n",
    "\n",
    "#2. x or y :- if x is evaluate to True then result is x,otherwise False\n",
    "print(10 or 20)\n",
    "print(0 or 20)"
   ]
  },
  {
   "cell_type": "code",
   "execution_count": 43,
   "metadata": {},
   "outputs": [
    {
     "name": "stdout",
     "output_type": "stream",
     "text": [
      "30\n"
     ]
    }
   ],
   "source": [
    "'''\n",
    "3. ternary operators(conditional)\n",
    "\n",
    "Syntax:- x=first value if condition else second value\n",
    "\n",
    "'''\n",
    "a,b=10,20\n",
    "x=30 if a<b else 40\n",
    "print(x)"
   ]
  },
  {
   "cell_type": "code",
   "execution_count": 44,
   "metadata": {},
   "outputs": [],
   "source": [
    "#Assignment operator\n",
    "x=10   # =\n",
    "x+=10  # x=x+10   +=\n",
    "x-=10  # x=x-10   -=\n",
    "x*=10  # x=x*10   *=\n",
    "x/=10  # x=x/10   /=\n",
    "x%=10  # x=x%10   %=\n",
    "x//=10 #x=x//10  //=\n",
    "x**=10 #x=x**10  **="
   ]
  },
  {
   "cell_type": "code",
   "execution_count": 58,
   "metadata": {},
   "outputs": [
    {
     "name": "stdout",
     "output_type": "stream",
     "text": [
      "True\n",
      "False\n",
      "True\n",
      "False\n",
      "True\n"
     ]
    }
   ],
   "source": [
    "# membership operators\n",
    "#in :-returns True if given object present in specific collection\n",
    "# not in :-returns True if given object not present in specific collection\n",
    "\n",
    "x=\"Hello learning Python is very Easy\"\n",
    "print(\"h\" in x)\n",
    "print(\"d\" in x)\n",
    "print(\"d\" not in x)\n",
    "print(\"python\" in x)\n",
    "print(\"\" in x)"
   ]
  },
  {
   "cell_type": "code",
   "execution_count": 59,
   "metadata": {},
   "outputs": [
    {
     "name": "stdout",
     "output_type": "stream",
     "text": [
      "100.0\n",
      "100.0\n",
      "70.0\n"
     ]
    }
   ],
   "source": [
    "a=30\n",
    "b=20\n",
    "c=10\n",
    "d=5\n",
    "print((a+b)*c/d)\n",
    "print((a+b)*(c/d))\n",
    "print(a+(b*c)/d)"
   ]
  },
  {
   "cell_type": "markdown",
   "metadata": {},
   "source": [
    "# Excercise"
   ]
  },
  {
   "cell_type": "code",
   "execution_count": 60,
   "metadata": {},
   "outputs": [
    {
     "name": "stdout",
     "output_type": "stream",
     "text": [
      "Enter base of triangle: 1\n",
      "Enter height of triangle: 1\n",
      "area of triangle is:  0.5\n"
     ]
    }
   ],
   "source": [
    "#WAP to find the area of a triangle\n",
    "b=float(input(\"Enter base of triangle: \"))\n",
    "h=float(input(\"Enter height of triangle: \"))\n",
    "print(\"area of triangle is: \",0.5*b*h)"
   ]
  },
  {
   "cell_type": "code",
   "execution_count": 62,
   "metadata": {},
   "outputs": [
    {
     "name": "stdout",
     "output_type": "stream",
     "text": [
      "Enter radius of circle: 5.3\n",
      "area of circle is:  88.24733763933727\n"
     ]
    }
   ],
   "source": [
    "#WAP to find area of circle\n",
    "import math\n",
    "r=float(input(\"Enter radius of circle: \"))\n",
    "print(\"area of circle is: \",math.pi*r*r)"
   ]
  },
  {
   "cell_type": "code",
   "execution_count": 66,
   "metadata": {},
   "outputs": [
    {
     "name": "stdout",
     "output_type": "stream",
     "text": [
      "Enter tempreture in celcius: 23\n",
      "Enter tempreture in farhenheit: 120\n",
      "23.0 celcius = 80.6 far\n",
      "120.0 Farhenheit = 102.22222222222223 cel\n"
     ]
    }
   ],
   "source": [
    "#convert Farhenheit to celcius and vice versa\n",
    "cel=float(input(\"Enter tempreture in celcius: \"))\n",
    "far=float(input(\"Enter tempreture in farhenheit: \"))\n",
    "print(cel,\"celcius =\",cel+32*1.8,\"far\")\n",
    "print(far,\"Farhenheit =\",far-32*(5/9),\"cel\")"
   ]
  },
  {
   "cell_type": "code",
   "execution_count": 76,
   "metadata": {},
   "outputs": [
    {
     "name": "stdout",
     "output_type": "stream",
     "text": [
      "Enter number of days: 850\n",
      "There are 2 year  4  month  0  days   in given days  850\n"
     ]
    }
   ],
   "source": [
    "day=int(input(\"Enter number of days: \"))\n",
    "year=day//365\n",
    "month=(day-year*365)//30\n",
    "rem_day=(day-year*365)%30\n",
    "print(\"There are\",year,\"year \",month,\" month \",rem_day,\" days \",\" in given days \",day)\n"
   ]
  },
  {
   "cell_type": "code",
   "execution_count": null,
   "metadata": {},
   "outputs": [],
   "source": []
  },
  {
   "cell_type": "code",
   "execution_count": null,
   "metadata": {},
   "outputs": [],
   "source": []
  }
 ],
 "metadata": {
  "kernelspec": {
   "display_name": "Python 3",
   "language": "python",
   "name": "python3"
  },
  "language_info": {
   "codemirror_mode": {
    "name": "ipython",
    "version": 3
   },
   "file_extension": ".py",
   "mimetype": "text/x-python",
   "name": "python",
   "nbconvert_exporter": "python",
   "pygments_lexer": "ipython3",
   "version": "3.8.5"
  }
 },
 "nbformat": 4,
 "nbformat_minor": 4
}
