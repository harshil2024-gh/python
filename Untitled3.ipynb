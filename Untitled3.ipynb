{
 "cells": [
  {
   "cell_type": "markdown",
   "metadata": {},
   "source": [
    "# Chapter 3:Functions"
   ]
  },
  {
   "cell_type": "code",
   "execution_count": 3,
   "metadata": {},
   "outputs": [
    {
     "name": "stdout",
     "output_type": "stream",
     "text": [
      "Hello Max Good morning\n",
      "Hello  Good morning\n"
     ]
    }
   ],
   "source": [
    "#Two types of functions\n",
    "# 1.Build in function\n",
    "# 2.user defined function(UDF)\n",
    "# Syntax:  \n",
    "# def function_name(parameter):\n",
    "#          body of function\n",
    "#           retun value\n",
    "\n",
    "def wish(name):\n",
    "    print(\"Hello\",name,\"Good morning\")\n",
    "wish(\"Max\") #Calling a function\n",
    "# wish()-->Type Error :Positional argument  missing"
   ]
  },
  {
   "cell_type": "code",
   "execution_count": 4,
   "metadata": {},
   "outputs": [
    {
     "name": "stdout",
     "output_type": "stream",
     "text": [
      "Enter name:arav\n",
      "arav\n"
     ]
    }
   ],
   "source": [
    "#Different categories of UDF\n",
    "\n",
    "#1.function with no parameter and no return type.\n",
    "def printline():\n",
    "    s=input(\"Enter name:\")\n",
    "    print(s)\n",
    "printline()    "
   ]
  },
  {
   "cell_type": "code",
   "execution_count": 6,
   "metadata": {},
   "outputs": [
    {
     "name": "stdout",
     "output_type": "stream",
     "text": [
      "harvy\n"
     ]
    }
   ],
   "source": [
    "#2.function with parameter and no return type.\n",
    "def printline(s):\n",
    "    print(s)\n",
    "printline(\"harvy\")    "
   ]
  },
  {
   "cell_type": "code",
   "execution_count": 10,
   "metadata": {},
   "outputs": [
    {
     "name": "stdout",
     "output_type": "stream",
     "text": [
      "Sam\n"
     ]
    }
   ],
   "source": [
    "#3.function with parameter and return type.\n",
    "def printline(s):\n",
    "    return(s)\n",
    "printline(\"Sam\") #does not show in output   \n",
    "t=printline(\"Sam\") \n",
    "print(t)"
   ]
  },
  {
   "cell_type": "code",
   "execution_count": 12,
   "metadata": {},
   "outputs": [
    {
     "name": "stdout",
     "output_type": "stream",
     "text": [
      "Enter name:rajeev\n",
      "Enter name:rajevv\n",
      "rajevv\n"
     ]
    }
   ],
   "source": [
    "#3.function with no parameter and return type.\n",
    "def printline():\n",
    "    s=input(\"Enter name:\")\n",
    "    return(s)\n",
    "printline() #does not show in output   \n",
    "t=printline() \n",
    "print(t)"
   ]
  },
  {
   "cell_type": "code",
   "execution_count": null,
   "metadata": {},
   "outputs": [],
   "source": []
  },
  {
   "cell_type": "code",
   "execution_count": null,
   "metadata": {},
   "outputs": [],
   "source": []
  }
 ],
 "metadata": {
  "kernelspec": {
   "display_name": "Python 3",
   "language": "python",
   "name": "python3"
  },
  "language_info": {
   "codemirror_mode": {
    "name": "ipython",
    "version": 3
   },
   "file_extension": ".py",
   "mimetype": "text/x-python",
   "name": "python",
   "nbconvert_exporter": "python",
   "pygments_lexer": "ipython3",
   "version": "3.8.5"
  }
 },
 "nbformat": 4,
 "nbformat_minor": 4
}
