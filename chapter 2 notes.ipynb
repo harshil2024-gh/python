{
 "cells": [
  {
   "cell_type": "markdown",
   "metadata": {},
   "source": [
    "# Chapter 2: Conditional Excecution and iteration"
   ]
  },
  {
   "cell_type": "code",
   "execution_count": 1,
   "metadata": {},
   "outputs": [
    {
     "name": "stdout",
     "output_type": "stream",
     "text": [
      "Enter name:Arman\n",
      "Hello Arman, how Are you?\n",
      "How are you?\n"
     ]
    }
   ],
   "source": [
    "#1.Simple if statement\n",
    "\n",
    "name=input(\"Enter name:\")\n",
    "if name==\"Arman\":\n",
    "    print(\"Hello Arman, how Are you?\")\n",
    "print(\"How are you?\")    "
   ]
  },
  {
   "cell_type": "code",
   "execution_count": 2,
   "metadata": {},
   "outputs": [
    {
     "name": "stdout",
     "output_type": "stream",
     "text": [
      "Enter name:abc\n",
      "Hello guest, how Are you?\n",
      "How are you?\n"
     ]
    }
   ],
   "source": [
    "#2.if-else statement\n",
    "\n",
    "name=input(\"Enter name:\")\n",
    "if name==\"Arman\":\n",
    "    print(\"Hello Arman, how Are you?\")\n",
    "else:\n",
    "    print(\"Hello guest, how Are you?\")\n",
    "print(\"How are you?\")    "
   ]
  },
  {
   "cell_type": "markdown",
   "metadata": {},
   "source": [
    "3.if-elif-else statement\n",
    "if condition 1:\n",
    "    action-1\n",
    "elif condition 2:\n",
    "    action 2\n",
    "elif condition 3:\n",
    "    action 3\n",
    "      .\n",
    "      .\n",
    "      .\n",
    "else:\n",
    "    default action"
   ]
  },
  {
   "cell_type": "code",
   "execution_count": 5,
   "metadata": {},
   "outputs": [
    {
     "name": "stdout",
     "output_type": "stream",
     "text": [
      "Enter number: 52\n",
      "Enter number: 36\n",
      "Enter number: 52\n",
      "52 is biggest number\n"
     ]
    }
   ],
   "source": [
    "num1=int(input(\"Enter number: \"))\n",
    "num2=int(input(\"Enter number: \"))\n",
    "num3=int(input(\"Enter number: \"))\n",
    "if num1>num2 and num1>num3:\n",
    "    print(num1,\"is biggest number\")\n",
    "elif num2>num3:    \n",
    "        print(num2,\"is biggest number\")\n",
    "else:\n",
    "    print(num3,\"is biggest number\")\n",
    "    "
   ]
  },
  {
   "cell_type": "code",
   "execution_count": 8,
   "metadata": {},
   "outputs": [
    {
     "name": "stdout",
     "output_type": "stream",
     "text": [
      "Above 10\n",
      "Also above 20!\n"
     ]
    }
   ],
   "source": [
    "#nested if\n",
    "x=41\n",
    "if x>10:\n",
    "    print(\"Above 10\")\n",
    "    if x>20:\n",
    "        print(\"Also above 20!\")\n",
    "    else:\n",
    "        print(\"but not above 20\")\n",
    "else:\n",
    "    print(\"below 10\")        "
   ]
  },
  {
   "cell_type": "code",
   "execution_count": 13,
   "metadata": {},
   "outputs": [
    {
     "name": "stdout",
     "output_type": "stream",
     "text": [
      "A r m a n "
     ]
    }
   ],
   "source": [
    "#Iterative statements\n",
    "'''\n",
    "1) for loops\n",
    "2) while loops\n",
    "\n",
    "for syntax : \n",
    "for i in sequence:\n",
    "     body\n",
    "'''\n",
    "s=\"Arman\"\n",
    "for i in s:\n",
    "    print(i,end=\" \")"
   ]
  },
  {
   "cell_type": "code",
   "execution_count": 14,
   "metadata": {},
   "outputs": [
    {
     "name": "stdout",
     "output_type": "stream",
     "text": [
      "range(0, 5)\n"
     ]
    }
   ],
   "source": [
    "s=range(5)\n",
    "print(s)"
   ]
  },
  {
   "cell_type": "code",
   "execution_count": 19,
   "metadata": {},
   "outputs": [
    {
     "name": "stdout",
     "output_type": "stream",
     "text": [
      "0\n",
      "1\n",
      "2\n",
      "3\n",
      "4\n"
     ]
    }
   ],
   "source": [
    "for i in range(5):\n",
    "    print(i)"
   ]
  },
  {
   "cell_type": "code",
   "execution_count": 20,
   "metadata": {},
   "outputs": [
    {
     "name": "stdout",
     "output_type": "stream",
     "text": [
      "5\n",
      "6\n",
      "7\n",
      "8\n",
      "9\n",
      "10\n",
      "11\n",
      "12\n",
      "13\n",
      "14\n",
      "15\n"
     ]
    }
   ],
   "source": [
    "for i in range(5,16):\n",
    "    print(i)"
   ]
  },
  {
   "cell_type": "code",
   "execution_count": 21,
   "metadata": {},
   "outputs": [
    {
     "name": "stdout",
     "output_type": "stream",
     "text": [
      "0\n",
      "5\n",
      "10\n",
      "15\n",
      "20\n",
      "25\n",
      "30\n",
      "35\n",
      "40\n",
      "45\n",
      "50\n",
      "55\n",
      "60\n",
      "65\n",
      "70\n",
      "75\n",
      "80\n",
      "85\n",
      "90\n",
      "95\n",
      "100\n"
     ]
    }
   ],
   "source": [
    "for i in range(0,101,5): #range(startpoint,end point,step)\n",
    "     print(i)\n",
    "    "
   ]
  },
  {
   "cell_type": "code",
   "execution_count": 25,
   "metadata": {},
   "outputs": [
    {
     "name": "stdout",
     "output_type": "stream",
     "text": [
      "10\n",
      "9\n",
      "8\n",
      "7\n",
      "6\n",
      "5\n",
      "4\n",
      "3\n",
      "2\n",
      "1\n"
     ]
    }
   ],
   "source": [
    "for i in range(10,0,-1):\n",
    "     print(i)"
   ]
  },
  {
   "cell_type": "code",
   "execution_count": 27,
   "metadata": {},
   "outputs": [],
   "source": [
    "for i in range(0,10,-1):\n",
    "     print(i)   #--> NO Output"
   ]
  },
  {
   "cell_type": "code",
   "execution_count": 29,
   "metadata": {},
   "outputs": [
    {
     "name": "stdout",
     "output_type": "stream",
     "text": [
      "Hello\n",
      "Hello\n",
      "Hello\n",
      "Hello\n",
      "Hello\n"
     ]
    }
   ],
   "source": [
    "for i in range(5):\n",
    "    print(\"Hello\")"
   ]
  },
  {
   "cell_type": "code",
   "execution_count": 32,
   "metadata": {},
   "outputs": [
    {
     "name": "stdout",
     "output_type": "stream",
     "text": [
      "Hello\n",
      "Hello\n",
      "Hello\n",
      "Hello\n",
      "Hello\n"
     ]
    }
   ],
   "source": [
    "num=1\n",
    "while num<6:\n",
    "    print(\"Hello\")\n",
    "    num+=1"
   ]
  },
  {
   "cell_type": "code",
   "execution_count": 35,
   "metadata": {},
   "outputs": [
    {
     "name": "stdout",
     "output_type": "stream",
     "text": [
      "Enter name: aman\n",
      "Enter name:raman\n",
      "Enter name:Harshil\n",
      "Thanks for confirming Harshil\n"
     ]
    }
   ],
   "source": [
    "name=input(\"Enter name: \")\n",
    "while name!=\"Harshil\":\n",
    "    name=input(\"Enter name:\")\n",
    "print(\"Thanks for confirming\",name)    "
   ]
  },
  {
   "cell_type": "code",
   "execution_count": 37,
   "metadata": {},
   "outputs": [
    {
     "name": "stdout",
     "output_type": "stream",
     "text": [
      "i= 0 j= 0\n",
      "i= 0 j= 1\n",
      "i= 1 j= 0\n",
      "i= 1 j= 1\n"
     ]
    }
   ],
   "source": [
    "#Nesed loops\n",
    "\n",
    "for i in range(2):\n",
    "    for j in range(2):\n",
    "        print(\"i=\",i,\"j=\",j)"
   ]
  },
  {
   "cell_type": "code",
   "execution_count": 38,
   "metadata": {},
   "outputs": [
    {
     "name": "stdout",
     "output_type": "stream",
     "text": [
      "0\n",
      "1\n",
      "2\n",
      "3\n",
      "4\n",
      "5\n",
      "6\n",
      "Stop here\n"
     ]
    }
   ],
   "source": [
    "#break statements\n",
    "\n",
    "for i in range(10):\n",
    "    if i==7:\n",
    "        print(\"Stop here\")\n",
    "        break\n",
    "    print(i)    "
   ]
  },
  {
   "cell_type": "code",
   "execution_count": 39,
   "metadata": {},
   "outputs": [
    {
     "name": "stdout",
     "output_type": "stream",
     "text": [
      "1\n",
      "3\n",
      "5\n",
      "7\n",
      "9\n"
     ]
    }
   ],
   "source": [
    "#Continue - skip current iteration\n",
    "\n",
    "for i in range(10):\n",
    "    if i%2==0:\n",
    "        continue\n",
    "    print(i)    "
   ]
  },
  {
   "cell_type": "code",
   "execution_count": 40,
   "metadata": {},
   "outputs": [],
   "source": [
    "#pass statements-to complete the block or statement\n",
    "\n",
    "if True:\n",
    "    pass\n",
    "def test():\n",
    "    pass\n",
    "        "
   ]
  },
  {
   "cell_type": "code",
   "execution_count": 42,
   "metadata": {},
   "outputs": [
    {
     "ename": "SyntaxError",
     "evalue": "unexpected EOF while parsing (<ipython-input-42-9f9cf6ac0fe0>, line 3)",
     "output_type": "error",
     "traceback": [
      "\u001b[1;36m  File \u001b[1;32m\"<ipython-input-42-9f9cf6ac0fe0>\"\u001b[1;36m, line \u001b[1;32m3\u001b[0m\n\u001b[1;33m    \u001b[0m\n\u001b[1;37m    ^\u001b[0m\n\u001b[1;31mSyntaxError\u001b[0m\u001b[1;31m:\u001b[0m unexpected EOF while parsing\n"
     ]
    }
   ],
   "source": [
    "if True:\n",
    "    \n",
    "    "
   ]
  },
  {
   "cell_type": "code",
   "execution_count": 43,
   "metadata": {},
   "outputs": [
    {
     "name": "stdout",
     "output_type": "stream",
     "text": [
      "0\n",
      "9\n",
      "18\n"
     ]
    }
   ],
   "source": [
    "for i in range(20):\n",
    "    if i%9==0:\n",
    "        print(i)\n",
    "    else:\n",
    "        pass\n",
    "        "
   ]
  },
  {
   "cell_type": "code",
   "execution_count": 44,
   "metadata": {},
   "outputs": [],
   "source": [
    "for i in range (10):\n",
    "    pass    #-->for delay we can use pass"
   ]
  },
  {
   "cell_type": "code",
   "execution_count": 46,
   "metadata": {},
   "outputs": [
    {
     "name": "stdout",
     "output_type": "stream",
     "text": [
      "Enter character:b\n",
      "Given character b is consonent\n"
     ]
    }
   ],
   "source": [
    "#WAP to check if the given character is vowels or consonents\n",
    "c=input(\"Enter character:\")\n",
    "if c=='A' or c=='a' or c=='e' or c=='E' or c=='i' or c=='I' or c=='u' or c=='U':\n",
    "    print(\"Given character\",c, \"is vowel\")\n",
    "else:\n",
    "    print(\"Given character\",c, \"is consonent\")"
   ]
  },
  {
   "cell_type": "code",
   "execution_count": 47,
   "metadata": {},
   "outputs": [
    {
     "data": {
      "text/plain": [
       "'a'"
      ]
     },
     "execution_count": 47,
     "metadata": {},
     "output_type": "execute_result"
    }
   ],
   "source": [
    "chr(97) #int to char"
   ]
  },
  {
   "cell_type": "code",
   "execution_count": 48,
   "metadata": {},
   "outputs": [
    {
     "data": {
      "text/plain": [
       "97"
      ]
     },
     "execution_count": 48,
     "metadata": {},
     "output_type": "execute_result"
    }
   ],
   "source": [
    "ord(\"a\") # char to int"
   ]
  },
  {
   "cell_type": "code",
   "execution_count": 49,
   "metadata": {},
   "outputs": [
    {
     "name": "stdout",
     "output_type": "stream",
     "text": [
      "consonents\n"
     ]
    }
   ],
   "source": [
    "if c in 'aeiouAEIOU':\n",
    "    print(\"vowels\")\n",
    "else:\n",
    "    print(\"consonents\")"
   ]
  },
  {
   "cell_type": "code",
   "execution_count": 4,
   "metadata": {},
   "outputs": [
    {
     "name": "stdout",
     "output_type": "stream",
     "text": [
      "Enter year:1994\n",
      "1994 is not leap year!!\n"
     ]
    }
   ],
   "source": [
    "#1.WAP to check the given year is leap year or not\n",
    "year=int(input(\"Enter year:\"))\n",
    "if (year%4==0 and year%100!=0) or year%400==0:\n",
    "    print(year,\"is leap year!!\")\n",
    "else:\n",
    "    print(year,\"is not leap year!!\")"
   ]
  },
  {
   "cell_type": "code",
   "execution_count": 35,
   "metadata": {},
   "outputs": [
    {
     "name": "stdout",
     "output_type": "stream",
     "text": [
      "Enter number 1:8\n",
      "Enter number 2:3\n",
      "Choose arithmetic operation:\n",
      "1.Addition(+)\n",
      "2.Subtraction(-)\n",
      "3.multiplication(*)\n",
      "4.Division(/)\n",
      "5.Floor division(//)\n",
      "6.Modulo division(%)\n",
      "7.power(**)\n",
      "Enter choice:7\n",
      "power of 8 raise to 3 is 512\n"
     ]
    }
   ],
   "source": [
    "#2.WAP to perform arithmetic operations according to the choices given\n",
    "num1=int(input(\"Enter number 1:\"))\n",
    "num2=int(input(\"Enter number 2:\"))\n",
    "print(\"Choose arithmetic operation:\")\n",
    "print(\"1.Addition(+)\")\n",
    "print(\"2.Subtraction(-)\")\n",
    "print(\"3.multiplication(*)\")\n",
    "print(\"4.Division(/)\")\n",
    "print(\"5.Floor division(//)\")\n",
    "print(\"6.Modulo division(%)\")\n",
    "print(\"7.power(**)\")\n",
    "c=int(input(\"Enter choice:\"))\n",
    "if c==1:\n",
    "    print(\"Addition of\",num1,\"and\",num2,\"is\",num1+num2)\n",
    "elif c==2:\n",
    "    print(\"Subtraction of\",num1,\"and\",num2,\"is\",num1-num2)\n",
    "elif c==3:\n",
    "    print(\"Multiplication of\",num1,\"and\",num2,\"is\",num1*num2)\n",
    "elif c==4:\n",
    "    print(\"Division of\",num1,\"and\",num2,\"is\",num1/num2)\n",
    "elif c==5:\n",
    "    print(\"Floor division of\",num1,\"and\",num2,\"is\",num1//num2)\n",
    "elif c==6:\n",
    "    print(\"Modulo division of\",num1,\"and\",num2,\"is\",num1%num2)\n",
    "elif c==7:\n",
    "    print(\"power of\",num1,\"raise to\",num2,\"is\",num1**num2)\n",
    "else:\n",
    "    print(\"Please enter valid choice!!!\")\n",
    "    \n"
   ]
  },
  {
   "cell_type": "code",
   "execution_count": 12,
   "metadata": {},
   "outputs": [
    {
     "name": "stdout",
     "output_type": "stream",
     "text": [
      "Enter marks of student:52\n",
      "Second class\n"
     ]
    }
   ],
   "source": [
    "#WAP to read the marks of student and give g rades accordingly\n",
    "marks=int(input(\"Enter marks of student:\"))\n",
    "if 80<=marks<=100:\n",
    "    print(\"Distinction\")\n",
    "elif 60<=marks<=79:\n",
    "    print(\"First class\")\n",
    "elif 35<=marks<=59:\n",
    "    print(\"Second class\")\n",
    "elif 0<=marks<=34:\n",
    "    print(\"Fail\")\n",
    "else:\n",
    "    print(\"Invalid marks\")"
   ]
  },
  {
   "cell_type": "code",
   "execution_count": 13,
   "metadata": {},
   "outputs": [
    {
     "name": "stdout",
     "output_type": "stream",
     "text": [
      "Enter marks of subject 1:50\n",
      "Enter marks of subject 2:50\n",
      "Enter marks of subject 3:50\n",
      "Second class\n"
     ]
    }
   ],
   "source": [
    "sub1=int(input(\"Enter marks of subject 1:\"))\n",
    "sub2=int(input(\"Enter marks of subject 2:\"))\n",
    "sub3=int(input(\"Enter marks of subject 3:\"))\n",
    "avg=(sub1+sub2+sub3)/3\n",
    "if 80<=avg<=100:\n",
    "    print(\"Distinction\")\n",
    "    print(\"Average marks or percentage gain\",avg)\n",
    "elif 60<=avg<=79:\n",
    "    print(\"First class\")\n",
    "    print(\"Average marks or percentage gain\",avg)\n",
    "elif 35<=avg<=59:\n",
    "    print(\"Second class\")\n",
    "    print(\"Average marks or percentage gain\",avg)\n",
    "elif 0<=avg<=34:\n",
    "    print(\"Fail\")\n",
    "    print(\"Average marks or percentage gain\",avg)\n",
    "else:\n",
    "    print(\"Invalid marks\")"
   ]
  },
  {
   "cell_type": "code",
   "execution_count": 18,
   "metadata": {},
   "outputs": [
    {
     "name": "stdout",
     "output_type": "stream",
     "text": [
      "Enter unit:350\n",
      "amount to pay: 2000\n"
     ]
    }
   ],
   "source": [
    "#WAP to calculate electricity bill base on the no. of units entered by user\n",
    "unit=int(input(\"Enter unit:\"))\n",
    "charges=0\n",
    "if 0<=unit<=100:\n",
    "    print(\"No charges\")\n",
    "elif 100<unit<=200:\n",
    "    charges=(unit-100)*5\n",
    "elif unit>200:\n",
    "    charges=500+(unit-200)*10\n",
    "print(\"amount to pay:\",charges)    "
   ]
  },
  {
   "cell_type": "code",
   "execution_count": 22,
   "metadata": {},
   "outputs": [
    {
     "name": "stdout",
     "output_type": "stream",
     "text": [
      "Enter number:5623\n",
      "last digit of number 5623 is divisible by 3!!\n"
     ]
    }
   ],
   "source": [
    "#WAP to check wheather the last digit of number enter by user is divisible by 3 or not\n",
    "num=int(input(\"Enter number:\"))\n",
    "ld=num%10\n",
    "if ld%3==0:\n",
    "    print(\"last digit of number\",num,\"is divisible by 3!!\")\n",
    "else:\n",
    "    print(\"last digit of number\",num,\"is not divisible by 3!!\")"
   ]
  },
  {
   "cell_type": "code",
   "execution_count": 33,
   "metadata": {},
   "outputs": [
    {
     "name": "stdout",
     "output_type": "stream",
     "text": [
      "Enter number:50\n",
      "50 is not 3 digit number!!\n"
     ]
    }
   ],
   "source": [
    "#WAP to check wheather a number enter by user is 3 digit number\n",
    "#if the digit is 3 digit then display middle digit\n",
    "num=int(input(\"Enter number:\"))\n",
    "if 100<=num and num<=999:\n",
    "    r=num//10\n",
    "    md=r%10\n",
    "    print(num,\"is 3 digit number!!\")\n",
    "    print(\"middle digit of\",num,\"is\",md)\n",
    "else:\n",
    "    print(num,\"is not 3 digit number!!\")\n",
    "        "
   ]
  },
  {
   "cell_type": "code",
   "execution_count": 43,
   "metadata": {},
   "outputs": [
    {
     "name": "stdout",
     "output_type": "stream",
     "text": [
      "Enter the cost price of bike:75000\n",
      "Cost price given: 75000\n",
      "road tax: 10 %  7500.0 rs\n",
      "Total cost to pay is 82500.0\n"
     ]
    }
   ],
   "source": [
    "#WAP to accept a cost price of bike and display the road tax to be paid also display the total cost of bike\n",
    "cost=int(input(\"Enter the cost price of bike:\"))\n",
    "tax=0\n",
    "totalCost=0\n",
    "if cost>100000:\n",
    "    tax=15\n",
    "elif 50000<cost and cost<=100000:\n",
    "    tax=10\n",
    "else:\n",
    "    tax=5\n",
    "totalCost=cost+((cost*tax)/100)\n",
    "print(\"Cost price given:\",cost)    \n",
    "print(\"road tax:\",tax,\"% \",(cost*tax)/100,\"rs\")\n",
    "print(\"Total cost to pay is\",totalCost)\n",
    "    "
   ]
  },
  {
   "cell_type": "code",
   "execution_count": 48,
   "metadata": {},
   "outputs": [
    {
     "name": "stdout",
     "output_type": "stream",
     "text": [
      "Enter No of working days:100\n",
      "Enter No of Absent days:20\n",
      "80.0\n",
      "you are eligible to give exam\n"
     ]
    }
   ],
   "source": [
    "'''\n",
    "WAP to accept the following from user and calculate the percentage of class attented\n",
    "1.total no of working days\n",
    "2.total no of days for absent\n",
    "after calculating the per show hat if the per is less than 75 then you are not eligible for exam '''\n",
    "Wdays=int(input(\"Enter No of working days:\"))\n",
    "Adays=int(input(\"Enter No of Absent days:\"))\n",
    "per=((Wdays-Adays)/Wdays)*100\n",
    "if per>75:\n",
    "    print(per)\n",
    "    print(\"you are eligible to give exam\")\n",
    "else:\n",
    "    print(per)\n",
    "    print(\"you are not eligible to give exam\")\n"
   ]
  },
  {
   "cell_type": "code",
   "execution_count": 53,
   "metadata": {},
   "outputs": [
    {
     "name": "stdout",
     "output_type": "stream",
     "text": [
      "Enter side 1 of triangle:12\n",
      "Enter side 2 of triangle:36\n",
      "Enter side 3 of triangle:56\n",
      "scalene triangle\n"
     ]
    }
   ],
   "source": [
    "'''accept the 3 side of a trangle and check wheather it is equilateral,isosceles or scalene triangle\n",
    "condition: an eqi tria is a triangle in which all 3 sides are equal\n",
    "    a scalene tri is triangle that has 3 unequal side\n",
    "    an isosceles triangle with atleast 2 equal side'''\n",
    "s1=int(input(\"Enter side 1 of triangle:\"))\n",
    "s2=int(input(\"Enter side 2 of triangle:\"))\n",
    "s3=int(input(\"Enter side 3 of triangle:\"))\n",
    "if s1==s2==s3:\n",
    "    print(\"Equilateral triangle\")\n",
    "elif s1==s2 or s1==s3 or s2==s3:\n",
    "    print(\"isosceles triangle\")\n",
    "elif s1!=s2!=s3:\n",
    "    print(\"scalene triangle\")\n",
    "    "
   ]
  },
  {
   "cell_type": "code",
   "execution_count": 56,
   "metadata": {},
   "outputs": [
    {
     "name": "stdout",
     "output_type": "stream",
     "text": [
      "Enter age:20\n",
      "Please enter appropriate age!!\n",
      "Enter gender( in M or F letter only):M\n",
      "Enter no days:20\n",
      "Total wage for no of days 20 is 14000\n"
     ]
    }
   ],
   "source": [
    "#accept the age gender and no of days and display the wages accprdingly\n",
    "age=int(input(\"Enter age:\"))\n",
    "if 18<age:\n",
    "    print(\"Please enter appropriate age!!\")\n",
    "gender=input(\"Enter gender( in M or F letter only):\")\n",
    "if gender!='M' and gender!='F':\n",
    "    print(\"Please enter gender in M or F letter for male and female respectively!!\")\n",
    "days=int(input(\"Enter no days:\"))\n",
    "wages=0\n",
    "if (age>=18 and age<30) and gender=='M':\n",
    "    wages=700*days\n",
    "elif (age>=18 and age<30) and gender=='F':\n",
    "    wages=750*days\n",
    "elif (age>=30 and age<=40) and gender=='M':\n",
    "    wages=800*days\n",
    "elif (age>=30 and age<=40) and gender=='F':\n",
    "    wages=850*days\n",
    "    \n",
    "print(\"Total wage for no of days\",days,\"is\",wages)   "
   ]
  },
  {
   "cell_type": "code",
   "execution_count": 1,
   "metadata": {},
   "outputs": [
    {
     "name": "stdout",
     "output_type": "stream",
     "text": [
      "-2\n"
     ]
    }
   ],
   "source": [
    "print(~True)"
   ]
  },
  {
   "cell_type": "code",
   "execution_count": 2,
   "metadata": {},
   "outputs": [
    {
     "name": "stdout",
     "output_type": "stream",
     "text": [
      "Enter num1:1\n",
      "Enter num2:20\n",
      "Enter num3:3\n",
      "Total number between 1 and 20 divisible by 3 is: 6\n"
     ]
    }
   ],
   "source": [
    "#WAP to read 3 numbers and check how many numbers availables between 1st two numbers are divisible by third number\n",
    "n1=int(input(\"Enter num1:\"))\n",
    "n2=int(input(\"Enter num2:\"))\n",
    "n3=int(input(\"Enter num3:\"))\n",
    "count=0\n",
    "for i in range(n1,n2+1):\n",
    "    if(i%n3==0):\n",
    "        count+=1\n",
    "print(\"Total number between\",n1,\"and\",n2,\"divisible by\",n3,\"is:\",count)        "
   ]
  },
  {
   "cell_type": "code",
   "execution_count": 3,
   "metadata": {},
   "outputs": [
    {
     "name": "stdout",
     "output_type": "stream",
     "text": [
      "Enter number:10\n",
      "sum of first 10 numbers is 55\n",
      "average of first 10 numbers is 5.5\n"
     ]
    }
   ],
   "source": [
    "#WAP to find sum of n numbers also find the average of them.\n",
    "n=int(input(\"Enter number:\"))\n",
    "sum=0\n",
    "for i in range(n+1):\n",
    "    sum+=i\n",
    "print(\"sum of first\",n,\"numbers is\",sum)    \n",
    "print(\"average of first\",n,\"numbers is\",(sum/n))"
   ]
  },
  {
   "cell_type": "code",
   "execution_count": null,
   "metadata": {},
   "outputs": [],
   "source": [
    "#WAP to create a table of number given by user\n",
    "n=int(input(\"Enter number:\"))\n",
    "print(\"Table of\",n)\n",
    "for i in range(1,11):\n",
    "    print(n,\"*\",i,\"=\",(n*i),)\n",
    "    "
   ]
  },
  {
   "cell_type": "code",
   "execution_count": 6,
   "metadata": {},
   "outputs": [
    {
     "name": "stdout",
     "output_type": "stream",
     "text": [
      "Enter number to whose power is needed:2\n",
      "Enter answer of that:1024\n",
      "integer exponent is found to be 10\n"
     ]
    }
   ],
   "source": [
    "#WAP to find an integer exponent x such that a^x=n\n",
    "n1=int(input(\"Enter number to whose power is needed:\"))\n",
    "n2=int(input(\"Enter answer of that:\"))\n",
    "m=1\n",
    "x=0\n",
    "while m!=n2:\n",
    "    x+=1\n",
    "    m*=n1\n",
    "print(\"integer exponent is found to be\",x)    \n"
   ]
  },
  {
   "cell_type": "code",
   "execution_count": 4,
   "metadata": {},
   "outputs": [
    {
     "name": "stdout",
     "output_type": "stream",
     "text": [
      "Enter num:7\n",
      "factorial of 7 is: 5040 !\n"
     ]
    }
   ],
   "source": [
    "#WAP to find the factorial of a given number\n",
    "n=int(input(\"Enter num:\"))\n",
    "fact=1\n",
    "if n==0:\n",
    "    print(\"Factorial of 0 is 1!\")\n",
    "else:\n",
    "    for i in range(1,n+1):\n",
    "        fact*=i\n",
    "    print(\"factorial of\",n,\"is:\",fact,\"!\")        "
   ]
  },
  {
   "cell_type": "code",
   "execution_count": 27,
   "metadata": {},
   "outputs": [
    {
     "name": "stdout",
     "output_type": "stream",
     "text": [
      "Enter nth term of fibonacci sequence:1\n",
      "Fibonacci sequence for 1 term is:0\n"
     ]
    }
   ],
   "source": [
    "#WAP to display fibonacci sequence upto nth sequence\n",
    "n=int(input(\"Enter nth term of fibonacci sequence:\"))\n",
    "a=0\n",
    "b=1\n",
    "if n<=0:\n",
    "    print(\"Fibonacci Sequence is invalid for this number!!\")\n",
    "elif n==1:\n",
    "    print(\"Fibonacci sequence for 1 term is:0\")\n",
    "else:\n",
    "    print(\"Fibonacci sequence upto\",n,\"th sequence is:\",end=\" \")\n",
    "    print(a,b,end=\" \")\n",
    "    for i in range(2,n):\n",
    "        c=a+b\n",
    "        print(c,end=\" \")\n",
    "        a=b\n",
    "        b=c\n",
    "    \n",
    "    "
   ]
  },
  {
   "cell_type": "code",
   "execution_count": 2,
   "metadata": {},
   "outputs": [
    {
     "name": "stdout",
     "output_type": "stream",
     "text": [
      "Enter num:1\n",
      "Enter num:2\n",
      "Enter num:3\n",
      "Enter num:4\n",
      "Enter num:5\n",
      "Enter num:6\n",
      "Enter num:7\n",
      "Enter num:8\n",
      "Enter num:9\n",
      "Enter num:10\n",
      "sum= 55\n",
      "average= 5.5\n"
     ]
    }
   ],
   "source": [
    "#WAP to take 10 numbers from users and display there sum and average\n",
    "sum=0\n",
    "for i in range(10):\n",
    "    n=int(input(\"Enter num:\"))\n",
    "    sum+=n\n",
    "print(\"sum=\",sum)    \n",
    "print(\"average=\",(sum/10))    "
   ]
  },
  {
   "cell_type": "code",
   "execution_count": 6,
   "metadata": {},
   "outputs": [
    {
     "name": "stdout",
     "output_type": "stream",
     "text": [
      "Enter num 1:25\n",
      "Enter num 2:32\n",
      "Enter num 3:122\n",
      "Enter num 4:30\n",
      "Enter num 5:20\n",
      "Enter num 6:25\n",
      "Enter num 7:35\n",
      "Enter num 8:21\n",
      "Enter num 9:20\n",
      "Enter num 10:00\n",
      "sum= 330\n",
      "average= 33.0\n"
     ]
    }
   ],
   "source": [
    "sum=0\n",
    "for i in range(10):\n",
    "    n=int(input(f\"Enter num {i+1}:\"))\n",
    "    sum+=n\n",
    "print(\"sum=\",sum)    \n",
    "print(\"average=\",(sum/10)) "
   ]
  },
  {
   "cell_type": "code",
   "execution_count": 7,
   "metadata": {},
   "outputs": [
    {
     "name": "stdout",
     "output_type": "stream",
     "text": [
      "Enter num 1:10\n",
      "Enter num 2:23\n",
      "Enter num 3:25\n",
      "Enter num 4:63\n",
      "Enter num 5:24\n",
      "Enter num 6:96\n",
      "Enter num 7:21\n",
      "Enter num 8:55\n",
      "Enter num 9:88\n",
      "Enter num 10:741\n",
      "Total Even Numbers are: 4\n",
      "Total Odd Numbers are: 6\n",
      "Sum of all even numbers are: 218\n",
      "Sum of all Odd numbers are: 928\n"
     ]
    }
   ],
   "source": [
    "#WAP to count total odd and even numbers and also do the sum of them\n",
    "Ecount=0\n",
    "Ocount=0\n",
    "Esum=0\n",
    "Osum=0\n",
    "for i in range(10):\n",
    "    n=int(input(f\"Enter num {i+1}:\"))\n",
    "    if(n%2==0):\n",
    "        Ecount+=1\n",
    "        Esum+=n\n",
    "    else:\n",
    "        Ocount+=1\n",
    "        Osum+=n\n",
    "print(\"Total Even Numbers are:\",Ecount)    \n",
    "print(\"Total Odd Numbers are:\",Ocount)  \n",
    "print(\"Sum of all even numbers are:\",Esum)\n",
    "print(\"Sum of all Odd numbers are:\",Osum)"
   ]
  },
  {
   "cell_type": "code",
   "execution_count": 8,
   "metadata": {},
   "outputs": [
    {
     "name": "stdout",
     "output_type": "stream",
     "text": [
      "Enter num 1:-2\n",
      "Enter num 2:-3\n",
      "Enter num 3:-6\n",
      "Enter num 4:96\n",
      "Enter num 5:55\n",
      "Enter num 6:29\n",
      "Enter num 7:30\n",
      "Enter num 8:20\n",
      "Enter num 9:11\n",
      "Enter num 10:-5\n",
      "Total Even Numbers are: 3\n",
      "Total Odd Numbers are: 3\n",
      "Sum of all even numbers are: 146\n",
      "Sum of all Odd numbers are: 95\n"
     ]
    }
   ],
   "source": [
    "#WAP to count total odd and even numbers and also do the sum of them SKIP -ve numbers\n",
    "Ecount=0\n",
    "Ocount=0\n",
    "Esum=0\n",
    "Osum=0\n",
    "for i in range(10):\n",
    "    n=int(input(f\"Enter num {i+1}:\"))\n",
    "    if n<0:\n",
    "        continue\n",
    "    elif(n%2==0):\n",
    "        Ecount+=1\n",
    "        Esum+=n\n",
    "    else:\n",
    "        Ocount+=1\n",
    "        Osum+=n\n",
    "print(\"Total Even Numbers are:\",Ecount)    \n",
    "print(\"Total Odd Numbers are:\",Ocount)  \n",
    "print(\"Sum of all even numbers are:\",Esum)\n",
    "print(\"Sum of all Odd numbers are:\",Osum)"
   ]
  },
  {
   "cell_type": "code",
   "execution_count": 13,
   "metadata": {},
   "outputs": [
    {
     "name": "stdout",
     "output_type": "stream",
     "text": [
      "Enter num:123456\n",
      "Reverser number is 654321\n"
     ]
    }
   ],
   "source": [
    "#WAP to find reverse number of the number provided by user\n",
    "n=int(input(\"Enter num:\"))\n",
    "rev=0\n",
    "while n!=0:\n",
    "    r=n%10\n",
    "    rev=rev*10+r\n",
    "    n//=10\n",
    "print(\"Reverser number is\",rev)    "
   ]
  },
  {
   "cell_type": "code",
   "execution_count": 16,
   "metadata": {},
   "outputs": [
    {
     "name": "stdout",
     "output_type": "stream",
     "text": [
      "Enter num:1221\n",
      "Reverse number is 1221\n",
      "palindromic\n"
     ]
    }
   ],
   "source": [
    "#WAP to find reverse number of the number provided by user and check wheather it is palindromic or not\n",
    "n=int(input(\"Enter num:\"))\n",
    "rev=0\n",
    "temp=n\n",
    "while n!=0:\n",
    "    r=n%10\n",
    "    rev=rev*10+r\n",
    "    n//=10\n",
    "print(\"Reverse number is\",rev) \n",
    "if temp==rev:\n",
    "    print(\"palindromic\")\n",
    "else:\n",
    "    print(\"not palindromic\")"
   ]
  },
  {
   "cell_type": "code",
   "execution_count": 28,
   "metadata": {},
   "outputs": [
    {
     "name": "stdout",
     "output_type": "stream",
     "text": [
      "Enter num:153\n",
      "Not Armstrong number\n"
     ]
    }
   ],
   "source": [
    "#WAP to find armstrong number\n",
    "n=int(input(\"Enter num:\"))\n",
    "temp1=n\n",
    "temp2=n\n",
    "count=0\n",
    "sum=0\n",
    "Armnum=1\n",
    "while n!=0:\n",
    "    count+=1\n",
    "    n=n//10\n",
    "while temp1!=0:\n",
    "    r=temp1%10\n",
    "    sum+=(Armnum**count)\n",
    "    temp1//=10\n",
    "if sum==temp2:\n",
    "    print(\"Armstrong number\")\n",
    "else:\n",
    "    print(\"Not Armstrong number\")"
   ]
  },
  {
   "cell_type": "code",
   "execution_count": 1,
   "metadata": {},
   "outputs": [
    {
     "name": "stdout",
     "output_type": "stream",
     "text": [
      "Enter num:9\n",
      "Not prime number\n"
     ]
    }
   ],
   "source": [
    "#WAP to check given number is prime or not\n",
    "count=0\n",
    "n=int(input(\"Enter num:\"))\n",
    "for i in range(1,n):\n",
    "    if n%i==0:\n",
    "        count+=1\n",
    "if count>1:\n",
    "    print(\"Not prime number\")\n",
    "else:\n",
    "    print(\"Prime number\")"
   ]
  },
  {
   "cell_type": "code",
   "execution_count": 38,
   "metadata": {},
   "outputs": [
    {
     "name": "stdout",
     "output_type": "stream",
     "text": [
      "Enter starting range:1\n",
      "Enter end range:10\n",
      "1 2 3 5 7 "
     ]
    }
   ],
   "source": [
    "#WAP to check the how many prime number are there in range given by user\n",
    "a=int(input(\"Enter starting range:\"))\n",
    "b=int(input(\"Enter end range:\"))\n",
    "for j in range(a,b+1):\n",
    "    count=0\n",
    "    for i in range(2,j):\n",
    "        if(j%i==0):\n",
    "            count=1\n",
    "    if (count==0):\n",
    "        print(j,end=\" \")"
   ]
  },
  {
   "cell_type": "code",
   "execution_count": 3,
   "metadata": {},
   "outputs": [
    {
     "name": "stdout",
     "output_type": "stream",
     "text": [
      "Enter number:55\n",
      "Not happy number\n"
     ]
    }
   ],
   "source": [
    "#WAP to check the entered number is happy number or not\n",
    "#logic:-13=1^2+3^2=10-->1^2+0^2=1(happy number)\n",
    "a=int(input(\"Enter number:\"))\n",
    "temp=a\n",
    "while a!=1 and a!=4:\n",
    "    sum=0\n",
    "    for j in str(a):\n",
    "        sum+=int(j)**2\n",
    "    a=sum\n",
    "if a==1:\n",
    "    print(temp,\"is happy number\")\n",
    "else:\n",
    "    print(\"Not happy number\")\n"
   ]
  },
  {
   "cell_type": "code",
   "execution_count": null,
   "metadata": {},
   "outputs": [],
   "source": [
    "# WAP to check how many number of given range is happy number\n",
    "#logic:-13=1^2+3^2=10-->1^2+0^2=1(happy number)\n",
    "a=int(input(\"Enter starting range:\")) \n",
    "b=int(input(\"Enter end range:\"))\n",
    "for i in range (a,b+1):\n",
    "    temp=i\n",
    "    while i!=1 and i!=4:\n",
    "        sum=0\n",
    "        for j in str(i):                      #WRONG OUTPUT..............\n",
    "            sum+=int(j)**2\n",
    "            i=sum\n",
    "            if i==1:\n",
    "                print(temp,\"is happy number\")\n",
    "    "
   ]
  },
  {
   "cell_type": "markdown",
   "metadata": {},
   "source": [
    "# Patterns"
   ]
  },
  {
   "cell_type": "code",
   "execution_count": 12,
   "metadata": {},
   "outputs": [
    {
     "name": "stdout",
     "output_type": "stream",
     "text": [
      "Enter no of rows5\n",
      "*\n",
      "**\n",
      "***\n",
      "****\n",
      "*****\n"
     ]
    }
   ],
   "source": [
    "'''\n",
    "1.row=5\n",
    "*\n",
    "**\n",
    "***\n",
    "****\n",
    "*****\n",
    "'''\n",
    "row=int(input(\"Enter no of rows\"))\n",
    "for i in range(1,row+1):\n",
    "    print(i*\"*\")"
   ]
  },
  {
   "cell_type": "code",
   "execution_count": 17,
   "metadata": {},
   "outputs": [
    {
     "name": "stdout",
     "output_type": "stream",
     "text": [
      "Enter no of rows:10\n",
      "1 \n",
      "2 2 \n",
      "3 3 3 \n",
      "4 4 4 4 \n",
      "5 5 5 5 5 \n",
      "6 6 6 6 6 6 \n",
      "7 7 7 7 7 7 7 \n",
      "8 8 8 8 8 8 8 8 \n",
      "9 9 9 9 9 9 9 9 9 \n",
      "10 10 10 10 10 10 10 10 10 10 \n"
     ]
    }
   ],
   "source": [
    "'''\n",
    "2.row=5\n",
    "1\n",
    "22\n",
    "333\n",
    "4444\n",
    "55555\n",
    "'''\n",
    "row=int(input(\"Enter no of rows:\"))\n",
    "for i in range(1,row+1):\n",
    "    for j in range(1,i+1):\n",
    "        print(i,end=\" \")\n",
    "    print()   "
   ]
  },
  {
   "cell_type": "code",
   "execution_count": 18,
   "metadata": {},
   "outputs": [
    {
     "name": "stdout",
     "output_type": "stream",
     "text": [
      "A\n"
     ]
    },
    {
     "data": {
      "text/plain": [
       "65"
      ]
     },
     "execution_count": 18,
     "metadata": {},
     "output_type": "execute_result"
    }
   ],
   "source": [
    "k=65\n",
    "print(chr(k))\n",
    "ord(\"A\")\n"
   ]
  },
  {
   "cell_type": "code",
   "execution_count": 20,
   "metadata": {},
   "outputs": [
    {
     "name": "stdout",
     "output_type": "stream",
     "text": [
      "Enter no of rows:5\n",
      "a \n",
      "b c \n",
      "d e f \n",
      "g h i j \n",
      "k l m n o \n"
     ]
    }
   ],
   "source": [
    "'''\n",
    "3.row=5\n",
    "a\n",
    "b c\n",
    "d e f\n",
    "g h i j\n",
    "k l m n o\n",
    "'''\n",
    "row=int(input(\"Enter no of rows:\"))\n",
    "a=97\n",
    "for i in range(1,row+1):\n",
    "    for j in range(1,i+1):\n",
    "        print(chr(a),end=\" \")\n",
    "        a+=1\n",
    "    print()   "
   ]
  },
  {
   "cell_type": "code",
   "execution_count": 21,
   "metadata": {},
   "outputs": [
    {
     "name": "stdout",
     "output_type": "stream",
     "text": [
      "Enter no of rows:10\n",
      "A \n",
      "A B \n",
      "A B C \n",
      "A B C D \n",
      "A B C D E \n",
      "A B C D E F \n",
      "A B C D E F G \n",
      "A B C D E F G H \n",
      "A B C D E F G H I \n",
      "A B C D E F G H I J \n"
     ]
    }
   ],
   "source": [
    "'''\n",
    "4.row=5\n",
    "A\n",
    "A B\n",
    "A B C\n",
    "A B C D\n",
    "A B C D E\n",
    "'''\n",
    "row=int(input(\"Enter no of rows:\"))\n",
    "\n",
    "for i in range(1,row+1):\n",
    "    a=65\n",
    "    for j in range(1,i+1):\n",
    "        print(chr(a),end=\" \")\n",
    "        a+=1\n",
    "    print()  "
   ]
  },
  {
   "cell_type": "code",
   "execution_count": 29,
   "metadata": {},
   "outputs": [
    {
     "name": "stdout",
     "output_type": "stream",
     "text": [
      "Enter no of rows:5\n",
      "* * * * * \n",
      "* * * * \n",
      "* * * \n",
      "* * \n",
      "* \n"
     ]
    }
   ],
   "source": [
    "'''\n",
    "5.row=5\n",
    "* * * * *\n",
    "* * * *\n",
    "* * *\n",
    "* *\n",
    "*\n",
    "'''\n",
    "row=int(input(\"Enter no of rows:\"))\n",
    "\n",
    "# for i in range(1,row+1):\n",
    "#     for j in range(row,i-1,-1):\n",
    "#         print(\"*\",end=\" \")\n",
    "#     print()  \n",
    "    \n",
    " #OR   \n",
    "for i in range(1,row+1):\n",
    "    for j in range(1,row+2-i):\n",
    "        print(\"*\",end=\" \")\n",
    "    print()  "
   ]
  },
  {
   "cell_type": "code",
   "execution_count": 33,
   "metadata": {},
   "outputs": [
    {
     "name": "stdout",
     "output_type": "stream",
     "text": [
      "Enter no of rows:6\n",
      "1 1 1 1 1 1 \n",
      "2 2 2 2 2 \n",
      "3 3 3 3 \n",
      "4 4 4 \n",
      "5 5 \n",
      "6 \n"
     ]
    }
   ],
   "source": [
    "'''\n",
    "6.row=6\n",
    "1 1 1 1 1 1 \n",
    "2 2 2 2 2 \n",
    "3 3 3 3 \n",
    "4 4 4 \n",
    "5 5 \n",
    "6 \n",
    "'''\n",
    "row=int(input(\"Enter no of rows:\"))\n",
    "for i in range(1,row+1):\n",
    "    for j in range(1,row+2-i):\n",
    "        print(i,end=\" \")\n",
    "    print()  "
   ]
  },
  {
   "cell_type": "code",
   "execution_count": 34,
   "metadata": {},
   "outputs": [
    {
     "name": "stdout",
     "output_type": "stream",
     "text": [
      "Enter no of rows:8\n",
      "1 2 3 4 5 6 7 8 \n",
      "1 2 3 4 5 6 7 \n",
      "1 2 3 4 5 6 \n",
      "1 2 3 4 5 \n",
      "1 2 3 4 \n",
      "1 2 3 \n",
      "1 2 \n",
      "1 \n"
     ]
    }
   ],
   "source": [
    "'''\n",
    "7.row=6\n",
    "1 2 3 4 5 6 \n",
    "1 2 3 4 5 \n",
    "1 2 3 4 \n",
    "1 2 3 \n",
    "1 2 \n",
    "1 \n",
    "'''\n",
    "row=int(input(\"Enter no of rows:\"))\n",
    "for i in range(1,row+1):\n",
    "    for j in range(1,row+2-i):\n",
    "        print(j,end=\" \")\n",
    "    print()  "
   ]
  },
  {
   "cell_type": "code",
   "execution_count": 38,
   "metadata": {},
   "outputs": [
    {
     "name": "stdout",
     "output_type": "stream",
     "text": [
      "Enter no of rows:3\n",
      "0  1  2  \n",
      "3  4  \n",
      "5  \n"
     ]
    }
   ],
   "source": [
    "b=0\n",
    "row=int(input(\"Enter no of rows:\"))\n",
    "for i in range(1,row+1):\n",
    "    for j in range(1,row+2-i):\n",
    "        print(b,end=\"  \")\n",
    "        b+=1\n",
    "    print()  "
   ]
  },
  {
   "cell_type": "code",
   "execution_count": 39,
   "metadata": {},
   "outputs": [
    {
     "name": "stdout",
     "output_type": "stream",
     "text": [
      "Enter no of rows:5\n",
      "*  \n",
      "#  #  \n",
      "*  *  *  \n",
      "#  #  #  #  \n",
      "*  *  *  *  *  \n"
     ]
    }
   ],
   "source": [
    "'''\n",
    "8.row=5\n",
    "*  \n",
    "#  #  \n",
    "*  *  *  \n",
    "#  #  #  #  \n",
    "*  *  *  *  * \n",
    "'''\n",
    "row=int(input(\"Enter no of rows:\"))\n",
    "for i in range(1,row+1):\n",
    "    for j in range(1,i+1):\n",
    "        if (i%2==0):\n",
    "            print(\"#\",end=\"  \")\n",
    "        else:\n",
    "            print(\"*\",end=\"  \") \n",
    "    print()  "
   ]
  },
  {
   "cell_type": "code",
   "execution_count": 42,
   "metadata": {},
   "outputs": [
    {
     "name": "stdout",
     "output_type": "stream",
     "text": [
      "Enter no of rows:5\n",
      "1  \n",
      "0  1  \n",
      "1  0  1  \n",
      "0  1  0  1  \n",
      "1  0  1  0  1  \n"
     ]
    }
   ],
   "source": [
    "'''\n",
    "9.row=5\n",
    "1  \n",
    "0  1  \n",
    "1  0  1  \n",
    "0  1  0  1  \n",
    "1  0  1  0  1\n",
    "'''\n",
    "row=int(input(\"Enter no of rows:\"))\n",
    "for i in range(1,row+1):\n",
    "    for j in range(1,i+1):\n",
    "        if ((i+j)%2==0):\n",
    "            print(1,end=\"  \")\n",
    "        else:\n",
    "            print(0,end=\"  \")\n",
    "            \n",
    "    print()  "
   ]
  },
  {
   "cell_type": "code",
   "execution_count": 48,
   "metadata": {},
   "outputs": [
    {
     "name": "stdout",
     "output_type": "stream",
     "text": [
      "Enter no of rows:5\n",
      "  * * * * * \n",
      "    * * * * \n",
      "      * * * \n",
      "        * * \n",
      "          * \n"
     ]
    }
   ],
   "source": [
    "'''\n",
    "10.row=5\n",
    " * * * * * \n",
    "    * * * * \n",
    "      * * * \n",
    "        * * \n",
    "          *\n",
    "'''\n",
    "row=int(input(\"Enter no of rows:\"))\n",
    "for i in range(1,row+1):\n",
    "    for j in range(1,i+1):\n",
    "        print(\" \",end=\" \")\n",
    "    for k in range(1,row+2-i):\n",
    "        print(\"*\",end=\" \")\n",
    "            \n",
    "    print()  "
   ]
  },
  {
   "cell_type": "code",
   "execution_count": 1,
   "metadata": {},
   "outputs": [
    {
     "name": "stdout",
     "output_type": "stream",
     "text": [
      "Enter no of rows:5\n",
      " * * * * * \n",
      "  * * * * \n",
      "   * * * \n",
      "    * * \n",
      "     * \n"
     ]
    }
   ],
   "source": [
    "'''\n",
    "11.row=5\n",
    " * * * * * \n",
    "  * * * * \n",
    "   * * * \n",
    "    * * \n",
    "     * \n",
    "'''\n",
    "row=int(input(\"Enter no of rows:\"))\n",
    "for i in range(1,row+1):\n",
    "    for j in range(1,i+1):\n",
    "        print(\" \",end=\"\")\n",
    "    for k in range(1,row+2-i):\n",
    "        print(\"*\",end=\" \")\n",
    "            \n",
    "    print()  "
   ]
  },
  {
   "cell_type": "code",
   "execution_count": 13,
   "metadata": {},
   "outputs": [
    {
     "name": "stdout",
     "output_type": "stream",
     "text": [
      "Enter no of rows:5\n",
      "    * \n",
      "   * * \n",
      "  * * * \n",
      " * * * * \n",
      "* * * * * \n"
     ]
    }
   ],
   "source": [
    "'''\n",
    "12.row=5 \n",
    "'''\n",
    "row=int(input(\"Enter no of rows:\"))\n",
    "for i in range(1,row+1):\n",
    "    for j in range(1,row-i+1):\n",
    "        print(\" \",end=\"\")\n",
    "    for k in range (1,i+1):\n",
    "        print(\"*\",end=\" \")\n",
    "    print()   "
   ]
  },
  {
   "cell_type": "code",
   "execution_count": null,
   "metadata": {},
   "outputs": [],
   "source": []
  },
  {
   "cell_type": "code",
   "execution_count": null,
   "metadata": {},
   "outputs": [],
   "source": []
  }
 ],
 "metadata": {
  "kernelspec": {
   "display_name": "Python 3",
   "language": "python",
   "name": "python3"
  },
  "language_info": {
   "codemirror_mode": {
    "name": "ipython",
    "version": 3
   },
   "file_extension": ".py",
   "mimetype": "text/x-python",
   "name": "python",
   "nbconvert_exporter": "python",
   "pygments_lexer": "ipython3",
   "version": "3.8.5"
  }
 },
 "nbformat": 4,
 "nbformat_minor": 4
}
