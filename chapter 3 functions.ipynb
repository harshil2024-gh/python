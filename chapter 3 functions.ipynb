{
 "cells": [
  {
   "cell_type": "markdown",
   "metadata": {},
   "source": [
    "# Chapter 3:Functions"
   ]
  },
  {
   "cell_type": "code",
   "execution_count": 3,
   "metadata": {},
   "outputs": [
    {
     "name": "stdout",
     "output_type": "stream",
     "text": [
      "Hello Max Good morning\n",
      "Hello  Good morning\n"
     ]
    }
   ],
   "source": [
    "#Two types of functions\n",
    "# 1.Build in function\n",
    "# 2.user defined function(UDF)\n",
    "# Syntax:  \n",
    "# def function_name(parameter):\n",
    "#          body of function\n",
    "#           retun value\n",
    "\n",
    "def wish(name):\n",
    "    print(\"Hello\",name,\"Good morning\")\n",
    "wish(\"Max\") #Calling a function\n",
    "# wish()-->Type Error :Positional argument  missing"
   ]
  },
  {
   "cell_type": "code",
   "execution_count": 4,
   "metadata": {},
   "outputs": [
    {
     "name": "stdout",
     "output_type": "stream",
     "text": [
      "Enter name:arav\n",
      "arav\n"
     ]
    }
   ],
   "source": [
    "#Different categories of UDF\n",
    "\n",
    "#1.function with no parameter and no return type.\n",
    "def printline():\n",
    "    s=input(\"Enter name:\")\n",
    "    print(s)\n",
    "printline()    "
   ]
  },
  {
   "cell_type": "code",
   "execution_count": 6,
   "metadata": {},
   "outputs": [
    {
     "name": "stdout",
     "output_type": "stream",
     "text": [
      "harvy\n"
     ]
    }
   ],
   "source": [
    "#2.function with parameter and no return type.\n",
    "def printline(s):\n",
    "    print(s)\n",
    "printline(\"harvy\")    "
   ]
  },
  {
   "cell_type": "code",
   "execution_count": 10,
   "metadata": {},
   "outputs": [
    {
     "name": "stdout",
     "output_type": "stream",
     "text": [
      "Sam\n"
     ]
    }
   ],
   "source": [
    "#3.function with parameter and return type.\n",
    "def printline(s):\n",
    "    return(s)\n",
    "printline(\"Sam\") #does not show in output   \n",
    "t=printline(\"Sam\") \n",
    "print(t)"
   ]
  },
  {
   "cell_type": "code",
   "execution_count": 12,
   "metadata": {},
   "outputs": [
    {
     "name": "stdout",
     "output_type": "stream",
     "text": [
      "Enter name:rajeev\n",
      "Enter name:rajevv\n",
      "rajevv\n"
     ]
    }
   ],
   "source": [
    "#3.function with no parameter and return type.\n",
    "def printline():\n",
    "    s=input(\"Enter name:\")\n",
    "    return(s)\n",
    "printline() #does not show in output   \n",
    "t=printline() \n",
    "print(t)"
   ]
  },
  {
   "cell_type": "code",
   "execution_count": 13,
   "metadata": {},
   "outputs": [
    {
     "name": "stdout",
     "output_type": "stream",
     "text": [
      "30\n"
     ]
    }
   ],
   "source": [
    "def add(a,b):\n",
    "    return(a+b)\n",
    "s=add(10,20)\n",
    "print(s)"
   ]
  },
  {
   "cell_type": "code",
   "execution_count": 17,
   "metadata": {},
   "outputs": [
    {
     "name": "stdout",
     "output_type": "stream",
     "text": [
      "(30, 10, 200, 2.0)\n",
      "30\n",
      "10\n",
      "200\n",
      "2.0\n"
     ]
    }
   ],
   "source": [
    "def calc(a,b):\n",
    "    sum=a+b\n",
    "    sub=a-b\n",
    "    mul=a*b\n",
    "    div=a/b\n",
    "    return sum,sub,mul,div\n",
    "a=20\n",
    "b=10\n",
    "t=calc(a,b)\n",
    "print(t)\n",
    "for i in t:\n",
    "    print(i)"
   ]
  },
  {
   "cell_type": "code",
   "execution_count": 19,
   "metadata": {},
   "outputs": [
    {
     "name": "stdout",
     "output_type": "stream",
     "text": [
      "22 is even\n",
      "27 is odd\n"
     ]
    }
   ],
   "source": [
    "#create function to check wheather number is even or odd\n",
    "def check(num):\n",
    "    if(num%2==0):\n",
    "        print(num,\"is even\")\n",
    "    else:\n",
    "        print(num,\"is odd\")\n",
    "check(22)\n",
    "check(27)"
   ]
  },
  {
   "cell_type": "markdown",
   "metadata": {},
   "source": [
    "# Function specification"
   ]
  },
  {
   "cell_type": "markdown",
   "metadata": {},
   "source": [
    "DocString - The text between the triple quotation marks is called a docstring in python.\n",
    "It is used to provide the specification of the functions"
   ]
  },
  {
   "cell_type": "code",
   "execution_count": 7,
   "metadata": {},
   "outputs": [
    {
     "name": "stdout",
     "output_type": "stream",
     "text": [
      "9\n"
     ]
    }
   ],
   "source": [
    "def squared_number(x):\n",
    "    \"\"\"Arguments passed into x returns x squared\"\"\"\n",
    "    return x*x\n",
    "# print(squared_number.__doc__)  -->To print docstring\n",
    "n=squared_number(3)\n",
    "print(n)"
   ]
  },
  {
   "cell_type": "code",
   "execution_count": 9,
   "metadata": {},
   "outputs": [
    {
     "name": "stdout",
     "output_type": "stream",
     "text": [
      "Retuns the sum of two decimal numbers\n",
      "    parameters:\n",
      "          a(int):A decimal number\n",
      "          b(int):Another decimal number\n",
      "    Returns:\n",
      "         sum:sum of a and b\n",
      "    \n"
     ]
    }
   ],
   "source": [
    "def add(a,b):\n",
    "    \"\"\"Retuns the sum of two decimal numbers\n",
    "    parameters:\n",
    "          a(int):A decimal number\n",
    "          b(int):Another decimal number\n",
    "    Returns:\n",
    "         sum:sum of a and b\n",
    "    \"\"\"\n",
    "    sum=a+b\n",
    "    return sum\n",
    "print(add.__doc__)"
   ]
  },
  {
   "cell_type": "markdown",
   "metadata": {},
   "source": [
    "## Types of Arguments"
   ]
  },
  {
   "cell_type": "markdown",
   "metadata": {},
   "source": [
    "1.Positional Argument\n",
    "Ex:-\n",
    "def sub(a,b):\n",
    "     print(a-b)\n",
    "sub(100,200)--> -100 \n",
    "sub(200,100)-->  100\n",
    "\n",
    "2.keyword Arguments\n",
    "\n",
    "Ex:-\n",
    "def wish(name,msg):\n",
    "     print(\"Hello\",name,msg)\n",
    "wish(name=\"Arman\",msg=\"Good Morning\")\n",
    "wish(msg=\"Good Morning\",name=\"Arman\")\n",
    "wish(\"Arman\",\"good Morning\")\n",
    "wish(\"Arman\",msg=\"Good Morning\")\n",
    "wish(name=\"Arman\",\"Good Morning)-->Error because if keyword is use in first position then it must be in second also"
   ]
  },
  {
   "cell_type": "code",
   "execution_count": 10,
   "metadata": {},
   "outputs": [
    {
     "name": "stdout",
     "output_type": "stream",
     "text": [
      "Hello Arman Good Morning\n"
     ]
    }
   ],
   "source": [
    "def wish(name,msg):\n",
    "     print(\"Hello\",name,msg)\n",
    "wish(name=\"Arman\",msg=\"Good Morning\")"
   ]
  },
  {
   "cell_type": "code",
   "execution_count": 11,
   "metadata": {},
   "outputs": [
    {
     "name": "stdout",
     "output_type": "stream",
     "text": [
      "Hello Arman Good Morning\n"
     ]
    }
   ],
   "source": [
    "wish(msg=\"Good Morning\",name=\"Arman\")"
   ]
  },
  {
   "cell_type": "code",
   "execution_count": 12,
   "metadata": {
    "scrolled": true
   },
   "outputs": [
    {
     "name": "stdout",
     "output_type": "stream",
     "text": [
      "Hello Arman good Morning\n"
     ]
    }
   ],
   "source": [
    "wish(\"Arman\",\"good Morning\")"
   ]
  },
  {
   "cell_type": "code",
   "execution_count": 13,
   "metadata": {
    "scrolled": true
   },
   "outputs": [
    {
     "name": "stdout",
     "output_type": "stream",
     "text": [
      "Hello Arman Good Morning\n"
     ]
    }
   ],
   "source": [
    "wish(\"Arman\",msg=\"Good Morning\")"
   ]
  },
  {
   "cell_type": "code",
   "execution_count": 14,
   "metadata": {},
   "outputs": [
    {
     "ename": "SyntaxError",
     "evalue": "positional argument follows keyword argument (<ipython-input-14-a0897a05998e>, line 1)",
     "output_type": "error",
     "traceback": [
      "\u001b[1;36m  File \u001b[1;32m\"<ipython-input-14-a0897a05998e>\"\u001b[1;36m, line \u001b[1;32m1\u001b[0m\n\u001b[1;33m    wish(name=\"Arman\",\"Good Morning\")\u001b[0m\n\u001b[1;37m                      ^\u001b[0m\n\u001b[1;31mSyntaxError\u001b[0m\u001b[1;31m:\u001b[0m positional argument follows keyword argument\n"
     ]
    }
   ],
   "source": [
    "wish(name=\"Arman\",\"Good Morning\")#-->Error"
   ]
  },
  {
   "cell_type": "markdown",
   "metadata": {},
   "source": [
    "3.Default Argument     "
   ]
  },
  {
   "cell_type": "code",
   "execution_count": 15,
   "metadata": {},
   "outputs": [
    {
     "name": "stdout",
     "output_type": "stream",
     "text": [
      "hello Arman Good Morning\n"
     ]
    }
   ],
   "source": [
    "def wish(name=\"Guest\"):\n",
    "     print(\"hello\",name,\"Good Morning\")\n",
    "wish(\"Arman\")\n"
   ]
  },
  {
   "cell_type": "code",
   "execution_count": 16,
   "metadata": {},
   "outputs": [
    {
     "name": "stdout",
     "output_type": "stream",
     "text": [
      "hello Guest Good Morning\n"
     ]
    }
   ],
   "source": [
    "wish() #-->By default it take guest because we gave name to guest while defining function"
   ]
  },
  {
   "cell_type": "markdown",
   "metadata": {},
   "source": [
    "## 3. Variable Length Arguments"
   ]
  },
  {
   "cell_type": "code",
   "execution_count": 18,
   "metadata": {},
   "outputs": [
    {
     "name": "stdout",
     "output_type": "stream",
     "text": [
      "The sum= 10\n"
     ]
    }
   ],
   "source": [
    "def sum(*n):\n",
    "    total=0\n",
    "    for n1 in n:\n",
    "        total+=n1\n",
    "    print(\"The sum=\",total)\n",
    "sum(10)    "
   ]
  },
  {
   "cell_type": "code",
   "execution_count": 19,
   "metadata": {},
   "outputs": [
    {
     "name": "stdout",
     "output_type": "stream",
     "text": [
      "The sum= 60\n"
     ]
    }
   ],
   "source": [
    "sum(10,20,30)"
   ]
  },
  {
   "cell_type": "code",
   "execution_count": 20,
   "metadata": {},
   "outputs": [
    {
     "name": "stdout",
     "output_type": "stream",
     "text": [
      "The sum= 280\n"
     ]
    }
   ],
   "source": [
    "sum(10,20,30,40,50,60,70)"
   ]
  },
  {
   "cell_type": "code",
   "execution_count": 21,
   "metadata": {},
   "outputs": [
    {
     "name": "stdout",
     "output_type": "stream",
     "text": [
      "The sum= 0\n"
     ]
    }
   ],
   "source": [
    "sum()"
   ]
  },
  {
   "cell_type": "code",
   "execution_count": 22,
   "metadata": {},
   "outputs": [
    {
     "name": "stdout",
     "output_type": "stream",
     "text": [
      "10\n"
     ]
    }
   ],
   "source": [
    "def sum(n1,*s):\n",
    "    print(n1)\n",
    "    for s1 in s:\n",
    "        print(s1)\n",
    "sum(10)        "
   ]
  },
  {
   "cell_type": "code",
   "execution_count": 23,
   "metadata": {},
   "outputs": [
    {
     "name": "stdout",
     "output_type": "stream",
     "text": [
      "10\n",
      "20\n",
      "30\n"
     ]
    }
   ],
   "source": [
    "sum(10,20,30)"
   ]
  },
  {
   "cell_type": "code",
   "execution_count": 24,
   "metadata": {},
   "outputs": [
    {
     "name": "stdout",
     "output_type": "stream",
     "text": [
      "10\n",
      "A\n",
      "20\n",
      "B\n"
     ]
    }
   ],
   "source": [
    "sum(10,\"A\",20,\"B\")"
   ]
  },
  {
   "cell_type": "code",
   "execution_count": 28,
   "metadata": {},
   "outputs": [
    {
     "ename": "TypeError",
     "evalue": "sum() missing 1 required keyword-only argument: 'n1'",
     "output_type": "error",
     "traceback": [
      "\u001b[1;31m---------------------------------------------------------------------------\u001b[0m",
      "\u001b[1;31mTypeError\u001b[0m                                 Traceback (most recent call last)",
      "\u001b[1;32m<ipython-input-28-d4ac70bca333>\u001b[0m in \u001b[0;36m<module>\u001b[1;34m\u001b[0m\n\u001b[0;32m      3\u001b[0m     \u001b[1;32mfor\u001b[0m \u001b[0ms1\u001b[0m \u001b[1;32min\u001b[0m \u001b[0ms\u001b[0m\u001b[1;33m:\u001b[0m\u001b[1;33m\u001b[0m\u001b[1;33m\u001b[0m\u001b[0m\n\u001b[0;32m      4\u001b[0m         \u001b[0mprint\u001b[0m\u001b[1;33m(\u001b[0m\u001b[0ms1\u001b[0m\u001b[1;33m)\u001b[0m\u001b[1;33m\u001b[0m\u001b[1;33m\u001b[0m\u001b[0m\n\u001b[1;32m----> 5\u001b[1;33m \u001b[0msum\u001b[0m\u001b[1;33m(\u001b[0m\u001b[1;36m10\u001b[0m\u001b[1;33m)\u001b[0m\u001b[1;33m\u001b[0m\u001b[1;33m\u001b[0m\u001b[0m\n\u001b[0m",
      "\u001b[1;31mTypeError\u001b[0m: sum() missing 1 required keyword-only argument: 'n1'"
     ]
    }
   ],
   "source": [
    "def sum(*s,n1):\n",
    "    print(n1)\n",
    "    for s1 in s:\n",
    "        print(s1)\n",
    "sum(10) "
   ]
  },
  {
   "cell_type": "code",
   "execution_count": 29,
   "metadata": {},
   "outputs": [
    {
     "name": "stdout",
     "output_type": "stream",
     "text": [
      "30\n",
      "10\n",
      "20\n"
     ]
    }
   ],
   "source": [
    "sum(10,20,n1=30)#-->Using kwyword argument we can define n1"
   ]
  },
  {
   "cell_type": "code",
   "execution_count": 30,
   "metadata": {},
   "outputs": [
    {
     "ename": "TypeError",
     "evalue": "sum() missing 1 required keyword-only argument: 'n1'",
     "output_type": "error",
     "traceback": [
      "\u001b[1;31m---------------------------------------------------------------------------\u001b[0m",
      "\u001b[1;31mTypeError\u001b[0m                                 Traceback (most recent call last)",
      "\u001b[1;32m<ipython-input-30-f363354b04f2>\u001b[0m in \u001b[0;36m<module>\u001b[1;34m\u001b[0m\n\u001b[1;32m----> 1\u001b[1;33m \u001b[0msum\u001b[0m\u001b[1;33m(\u001b[0m\u001b[1;36m10\u001b[0m\u001b[1;33m,\u001b[0m\u001b[1;36m20\u001b[0m\u001b[1;33m)\u001b[0m\u001b[1;33m\u001b[0m\u001b[1;33m\u001b[0m\u001b[0m\n\u001b[0m",
      "\u001b[1;31mTypeError\u001b[0m: sum() missing 1 required keyword-only argument: 'n1'"
     ]
    }
   ],
   "source": [
    "sum(10,20)"
   ]
  },
  {
   "cell_type": "markdown",
   "metadata": {},
   "source": [
    "## 5.Kwargs(variable length Keyword arg)"
   ]
  },
  {
   "cell_type": "code",
   "execution_count": 31,
   "metadata": {},
   "outputs": [
    {
     "name": "stdout",
     "output_type": "stream",
     "text": [
      "{'m1': 100, 'm2': 200}\n",
      "100\n",
      "200\n"
     ]
    }
   ],
   "source": [
    "def display(**kwargs):\n",
    "    print(kwargs)#-->Dictonary\n",
    "    for k in kwargs.values():# or kwargs.keys()\n",
    "        print(k)\n",
    "display(m1=100,m2=200)        "
   ]
  },
  {
   "cell_type": "code",
   "execution_count": 32,
   "metadata": {},
   "outputs": [
    {
     "name": "stdout",
     "output_type": "stream",
     "text": [
      "{'m1': 100, 'm2': 200}\n",
      "m1\n",
      "m2\n"
     ]
    }
   ],
   "source": [
    "def display(**kwargs):\n",
    "    print(kwargs)\n",
    "    for k in kwargs.keys():\n",
    "        print(k)\n",
    "display(m1=100,m2=200)  "
   ]
  },
  {
   "cell_type": "code",
   "execution_count": 33,
   "metadata": {},
   "outputs": [
    {
     "name": "stdout",
     "output_type": "stream",
     "text": [
      "{'m1': 100, 'm2': 200}\n",
      "m1 100\n",
      "m2 200\n"
     ]
    }
   ],
   "source": [
    "def display(**kwargs):\n",
    "    print(kwargs)\n",
    "    for j,k in kwargs.items():\n",
    "        print(j,k)\n",
    "display(m1=100,m2=200)"
   ]
  },
  {
   "cell_type": "markdown",
   "metadata": {},
   "source": [
    "# Programs"
   ]
  },
  {
   "cell_type": "code",
   "execution_count": 43,
   "metadata": {},
   "outputs": [
    {
     "name": "stdout",
     "output_type": "stream",
     "text": [
      "Choose option\n",
      "1.Cel to far\n",
      "2.far to cel\n",
      "Enter choice:2\n",
      "Enter farhenheit tempreture value:50\n",
      "50.0 far= 10.0 cel\n"
     ]
    }
   ],
   "source": [
    "#create two function cel and far ask user to convert from cel to far or far to cel\n",
    "def cel(c):\n",
    "    f=(c*1.8)+32\n",
    "    print(c,\"cel=\",f,\"far\")\n",
    "def far(fr):\n",
    "    ce=(fr-32)*(5/9)\n",
    "    print(fr,\"far=\",ce,\"cel\")\n",
    "print(\"Choose option\")   \n",
    "print(\"1.Cel to far\")\n",
    "print(\"2.far to cel\")\n",
    "ch=int(input(\"Enter choice:\"))\n",
    "if ch==1:\n",
    "    c=float(input(\"Enter celcius tempreture value:\"))\n",
    "    cel(c)\n",
    "elif ch==2:\n",
    "    fr=float(input(\"Enter farhenheit tempreture value:\"))\n",
    "    far(fr)\n",
    "else:\n",
    "    print(\"Invalid selection of choice\")"
   ]
  },
  {
   "cell_type": "code",
   "execution_count": 46,
   "metadata": {},
   "outputs": [
    {
     "name": "stdout",
     "output_type": "stream",
     "text": [
      "Enter starting range:50\n",
      "Enter ending range:70\n",
      "Enter number to search:56\n",
      "Yes\n"
     ]
    }
   ],
   "source": [
    "#2.\n",
    "def search(num,s,e):\n",
    "    for i in range(s,e+1):\n",
    "        if num==i:\n",
    "            print(\"Yes\")\n",
    "            return\n",
    "    print(\"No\")        \n",
    "s=int(input(\"Enter starting range:\"))    \n",
    "e=int(input(\"Enter ending range:\"))    \n",
    "num=int(input(\"Enter number to search:\"))    \n",
    "search(num,s,e)"
   ]
  },
  {
   "cell_type": "code",
   "execution_count": 60,
   "metadata": {},
   "outputs": [
    {
     "name": "stdout",
     "output_type": "stream",
     "text": [
      "palindrome\n"
     ]
    }
   ],
   "source": [
    "#check for 3 digit number only\n",
    "temp=0\n",
    "r=0\n",
    "rev=0\n",
    "def palindrome(num):\n",
    "    global temp\n",
    "    temp=num\n",
    "    while num>0:\n",
    "        global r\n",
    "        r=num%10\n",
    "        global rev\n",
    "        rev=rev*10+r\n",
    "        num=num//10\n",
    "    if rev==temp:\n",
    "        print(\"palindrome\")\n",
    "    else:\n",
    "        print(\"not palindrome\")\n",
    "palindrome(111)        "
   ]
  },
  {
   "cell_type": "code",
   "execution_count": 65,
   "metadata": {},
   "outputs": [
    {
     "name": "stdout",
     "output_type": "stream",
     "text": [
      "Armstrong Number\n"
     ]
    }
   ],
   "source": [
    "sum=0\n",
    "temp=0\n",
    "r=0\n",
    "def arm(num):\n",
    "    global temp\n",
    "    temp=num\n",
    "    while num>0:\n",
    "        global r\n",
    "        r=num%10\n",
    "        global sum\n",
    "        sum=sum+(r*r*r)\n",
    "        num=num//10\n",
    "    if sum==temp:\n",
    "        print(\"Armstrong Number\")\n",
    "    else:\n",
    "        print(\"not Armstrong Number\")\n",
    "arm(153)        "
   ]
  },
  {
   "cell_type": "code",
   "execution_count": 73,
   "metadata": {},
   "outputs": [
    {
     "name": "stdout",
     "output_type": "stream",
     "text": [
      "not prime Number\n"
     ]
    }
   ],
   "source": [
    "def prime(num):\n",
    "    for i in range (2,num):\n",
    "        if num%i==0:\n",
    "            print(\"not prime Number\")\n",
    "            return\n",
    "    else:\n",
    "        print(\"prime Number\")\n",
    "prime(16)        "
   ]
  },
  {
   "cell_type": "code",
   "execution_count": 78,
   "metadata": {},
   "outputs": [
    {
     "name": "stdout",
     "output_type": "stream",
     "text": [
      "Not happy number\n"
     ]
    }
   ],
   "source": [
    "temp=0\n",
    "sum=0\n",
    "def happyNum(num):\n",
    "    global temp\n",
    "    temp=num\n",
    "    while num!=1 and num!=4:\n",
    "        global sum\n",
    "        for j in str(num):\n",
    "            sum+=int(j)**2\n",
    "        num=sum\n",
    "if num==1:\n",
    "    print(temp,\"is happy number\")\n",
    "else:\n",
    "    print(\"Not happy number\")\n",
    "happyNum(10)"
   ]
  },
  {
   "cell_type": "code",
   "execution_count": 79,
   "metadata": {},
   "outputs": [
    {
     "name": "stdout",
     "output_type": "stream",
     "text": [
      "Enter number:123456\n",
      "Only 3 digits are allowed\n"
     ]
    }
   ],
   "source": [
    "n=int(input(\"Enter number:\"))\n",
    "if len(str(n))!=3:\n",
    "    print(\"Only 3 digits are allowed\")\n",
    "else:\n",
    "    print(\"choose from below\")\n",
    "    print(\"1.check palindromic\")\n",
    "    print(\"2.check Armstrong\")\n",
    "    print(\"3.check prime\")\n",
    "    print(\"4.Happy number\")\n",
    "    if ch==1:\n",
    "        palindromic(n)\n",
    "    elif ch==2:\n",
    "        arm(n)\n",
    "    elif ch==3:\n",
    "        prime(n)\n",
    "    elif ch==4:\n",
    "        happyNum(n)\n",
    "    else:\n",
    "        print(\"Invalid selection of choice\")"
   ]
  },
  {
   "cell_type": "code",
   "execution_count": 88,
   "metadata": {},
   "outputs": [
    {
     "name": "stdout",
     "output_type": "stream",
     "text": [
      "Enter number:2\n",
      "111112\n",
      "111121\n",
      "111211\n",
      "112111\n",
      "121111\n",
      "211111\n"
     ]
    }
   ],
   "source": [
    "#WAP that enters a single digit integer number and produces all possible 6 digit number for which the product of their digits equal\n",
    "# to that number\n",
    "\n",
    "n=int(input(\"Enter number:\"))\n",
    "for i in range(100000,1000000):\n",
    "    pro=1\n",
    "    temp=i\n",
    "    while i>0:\n",
    "        r=i%10\n",
    "        pro=pro*r\n",
    "        i=i//10\n",
    "    if pro==n:\n",
    "        print(temp)\n",
    "    \n",
    "        "
   ]
  },
  {
   "cell_type": "code",
   "execution_count": 4,
   "metadata": {},
   "outputs": [
    {
     "name": "stdout",
     "output_type": "stream",
     "text": [
      "Enter number:12\n",
      "Want to stop?\n",
      "yes or no:n\n",
      "Enter number:13\n",
      "Want to stop?\n",
      "yes or no:n\n",
      "Enter number:14\n",
      "Want to stop?\n",
      "yes or no:yes\n",
      "Maximum number= 14\n",
      "Minimum number= 12\n",
      "Average= 13.0\n"
     ]
    }
   ],
   "source": [
    "#WAP that promts the users that enters the numbers and stops only when the user enters stops after the print maximum numbers minimum numbers and average of num \n",
    "a=1\n",
    "max=0\n",
    "min=0\n",
    "sum=0\n",
    "count=0\n",
    "while a>0:\n",
    "    n=int(input(\"Enter number:\"))\n",
    "    if count==0:\n",
    "        max=n\n",
    "        min=n\n",
    "    count+=1\n",
    "    sum+=n\n",
    "    if max<n:\n",
    "        max=n\n",
    "    if min>n:\n",
    "        min=n\n",
    "    print(\"Want to stop?\")\n",
    "    s=input(\"yes or no:\")\n",
    "    if s=='yes':\n",
    "        a=0\n",
    "print(\"Maximum number=\",max)\n",
    "print(\"Minimum number=\",min)        \n",
    "print(\"Average=\",sum/count)        "
   ]
  },
  {
   "cell_type": "code",
   "execution_count": 12,
   "metadata": {},
   "outputs": [
    {
     "name": "stdout",
     "output_type": "stream",
     "text": [
      "Enter Grade Level(ENTER:A | B | C | D | E | F):C\n",
      "Select city(PRESS 1 For city 1:PRESS 2 For city 2:PRESS 3 For city 3):2\n",
      "Basic Pay: 40000\n",
      "HRA: 8000.0\n",
      "DA: 20000.0\n",
      "Other Allowance: 6000\n",
      "Transport allowance: 900\n",
      "Professional Tax: 200\n",
      "Provident fund: 4400.0\n",
      "Tota gross Pay: 70300.0\n",
      "Annual pay 843600.0\n",
      "Income tax amount: 51540.0\n"
     ]
    }
   ],
   "source": [
    "'''\n",
    "Gross Pay,Annual income,Income Tax Calculator Gross Pay consists of,\n",
    "-->Basic Pay,HRA,DA,other allowance,profession tax,Provident fund,Transport Allowance.\n",
    "\n",
    "-->Gross pay=Basic pay + HRA + DA + other allowance + Transport allowance - professional tax - providend fund\n",
    "\n",
    "-->Profession Tax - 200rs for each grade level and each month\n",
    "\n",
    "-->HRA(house rent allowance) - 0.3 times of each grade level basic pay-->class 1 cities\n",
    "       - 0.2 times of each grade level basic pay-->class 2 cities\n",
    "       - 0.1 times of each grade level basic pay-->class 3 cities\n",
    "\n",
    "-->DA - 0.5 times of basic pay->for each grade levels\n",
    "\n",
    "-->Other allowance as per table\n",
    "\n",
    "-->providend fund->0.11 times of basic pay for each grade\n",
    "\n",
    "--> Transport allowance --> 900rsfor each level\n",
    "\n",
    "'''\n",
    "\n",
    "Basic_pay=0\n",
    "HRA=0.0\n",
    "DA=0\n",
    "T_allow=900\n",
    "prof_tax=200\n",
    "other_allow=0\n",
    "I_tax=0\n",
    "glevel=input(\"Enter Grade Level(ENTER:A | B | C | D | E | F):\")\n",
    "while glevel not in \"ABCDEF\":\n",
    "    print(\"Invalid selection of grade level\")\n",
    "    glevel=input(\"RE-Enter Grade Level(ENTER:A | B | C | D | E | F):\")    \n",
    "if glevel==\"A\":\n",
    "    Basic_pay=60000\n",
    "    other_allow=8000\n",
    "elif glevel==\"B\":\n",
    "    Basic_pay=50000\n",
    "    other_allow=7000\n",
    "elif glevel==\"C\":\n",
    "    Basic_pay=40000\n",
    "    other_allow=6000\n",
    "elif glevel==\"D\":\n",
    "    Basic_pay=30000\n",
    "    other_allow=5000\n",
    "elif glevel==\"E\":\n",
    "    Basic_pay=20000\n",
    "    other_allow=4000\n",
    "elif glevel==\"F\":\n",
    "    Basic_pay=10000\n",
    "    other_allow=3000\n",
    "DA=0.5*Basic_pay\n",
    "prov_fund=0.11*Basic_pay\n",
    "city=int(input(\"Select city(PRESS 1 For city 1:PRESS 2 For city 2:PRESS 3 For city 3):\"))\n",
    "while city!=1 and city!=2 and city!=3:\n",
    "    print(\"Invalid selection of cities!!\")\n",
    "    city=int(input(\"RE-Select city(PRESS 1 For city 1:PRESS 2 For city 2:PRESS 3 For city 3):\"))\n",
    "if city==1:\n",
    "    HRA=0.3*Basic_pay\n",
    "elif city==2:\n",
    "    HRA=0.2*Basic_pay\n",
    "elif city==3:\n",
    "    HRA=0.1*Basic_pay\n",
    "gross_pay=Basic_pay+HRA+DA+other_allow+T_allow-prof_tax-prov_fund\n",
    "Annual_pay=gross_pay*12\n",
    "if Annual_pay<=250000:\n",
    "    I_tax=0\n",
    "elif 250000<Annual_pay and Annual_pay<=500000:\n",
    "    I_tax=(Annual_pay-250000)*0.05\n",
    "elif 500000<Annual_pay and Annual_pay<=750000:\n",
    "    I_tax=((Annual_pay-500000)*0.10)+12500\n",
    "elif 750000<Annual_pay and Annual_pay<=1000000:\n",
    "    I_tax=((Annual_pay-750000)*0.15)+37500\n",
    "elif 1000000<Annual_pay and Annual_pay<=1250000:\n",
    "    I_tax=((Annual_pay-1000000)*0.20)+75000\n",
    "elif 1250000<Annual_pay and Annual_pay<=1500000:\n",
    "    I_tax=((Annual_pay-1250000)*0.25)+125000\n",
    "elif Annual_pay>1500000:\n",
    "    I_tax=((Annual_pay-1500000)*0.30)+187500\n",
    "print(\"Basic Pay:\",Basic_pay)\n",
    "print(\"HRA:\",HRA)\n",
    "print(\"DA:\",DA)    \n",
    "print(\"Other Allowance:\",other_allow)\n",
    "print(\"Transport allowance:\",T_allow)    \n",
    "print(\"Professional Tax:\",prof_tax)    \n",
    "print(\"Provident fund:\",prov_fund)    \n",
    "print(\"Tota gross Pay:\",gross_pay)\n",
    "print(\"Annual pay\",Annual_pay)\n",
    "print(\"Income tax amount:\",I_tax)\n"
   ]
  },
  {
   "cell_type": "code",
   "execution_count": 3,
   "metadata": {},
   "outputs": [
    {
     "name": "stdout",
     "output_type": "stream",
     "text": [
      "Enter year(In int):2024\n",
      "Enter month(In int):12\n",
      "Enter day(In int):31\n",
      "The current date is:2024-12-31\n",
      "The next date is:2025-1-1\n"
     ]
    }
   ],
   "source": [
    "#WAP to get next day of a given date\n",
    "max_len=0\n",
    "year=int(input(\"Enter year(In int):\"))\n",
    "leap_year=False\n",
    "if ((year % 400 == 0) or(year % 100 != 0) and (year % 4 == 0)):\n",
    "    leap_year=True\n",
    "month=int(input(\"Enter month(In int):\"))\n",
    "while month>12 or month<1:\n",
    "    print(\"Ivalid month Entered!!\")\n",
    "    month=int(input(\"RE-Enter month(In int):\"))\n",
    "\n",
    "if month in (1,3,5,7,8,10,12):\n",
    "    max_len=31\n",
    "elif month==2:\n",
    "    if leap_year:\n",
    "        max_len=29\n",
    "    else:\n",
    "        max_len=28\n",
    "else:\n",
    "    max_len=30    \n",
    "day=int(input(\"Enter day(In int):\"))    \n",
    "while 0<day and day>max_len:\n",
    "    print(\"Ivalid day Entered!!\")\n",
    "    day=int(input(\"RE-Enter day(In int):\"))\n",
    "print(f\"The current date is:{year}-{month}-{day}\")    \n",
    "if day==max_len and month==12:\n",
    "    day=1\n",
    "    month=1\n",
    "    year+=1\n",
    "elif day==max_len:\n",
    "    day=1\n",
    "    month+=1\n",
    "else:\n",
    "    day+=1\n",
    "    \n",
    "print(f\"The next date is:{year}-{month}-{day}\")    \n"
   ]
  },
  {
   "cell_type": "code",
   "execution_count": 12,
   "metadata": {},
   "outputs": [
    {
     "name": "stdout",
     "output_type": "stream",
     "text": [
      "Enter number:125986\n",
      "given number 125986\n",
      "After addition of 1 in each number: 236097\n"
     ]
    }
   ],
   "source": [
    "#PROG\n",
    "sum=0\n",
    "st=\"\"\n",
    "rev=0\n",
    "n=int(input(\"Enter number:\"))\n",
    "print(\"given number\",n)\n",
    "while n>0:\n",
    "    r2=n%10\n",
    "    rev=(rev*10)+r2\n",
    "    n=n//10\n",
    "while rev>0:\n",
    "    r=rev%10\n",
    "    sum=((r+1)%10)\n",
    "    st+=str(sum)\n",
    "    rev=rev//10\n",
    "print(\"After addition of 1 in each number:\",st)    \n"
   ]
  },
  {
   "cell_type": "code",
   "execution_count": null,
   "metadata": {},
   "outputs": [],
   "source": []
  },
  {
   "cell_type": "code",
   "execution_count": null,
   "metadata": {},
   "outputs": [],
   "source": []
  }
 ],
 "metadata": {
  "kernelspec": {
   "display_name": "Python 3",
   "language": "python",
   "name": "python3"
  },
  "language_info": {
   "codemirror_mode": {
    "name": "ipython",
    "version": 3
   },
   "file_extension": ".py",
   "mimetype": "text/x-python",
   "name": "python",
   "nbconvert_exporter": "python",
   "pygments_lexer": "ipython3",
   "version": "3.8.5"
  }
 },
 "nbformat": 4,
 "nbformat_minor": 4
}
