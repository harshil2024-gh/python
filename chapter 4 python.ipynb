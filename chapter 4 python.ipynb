{
 "cells": [
  {
   "cell_type": "markdown",
   "metadata": {},
   "source": [
    "1)replace()\n",
    "\n",
    "syntax--> s.replace(old str,new str)"
   ]
  },
  {
   "cell_type": "code",
   "execution_count": 2,
   "metadata": {},
   "outputs": [
    {
     "name": "stdout",
     "output_type": "stream",
     "text": [
      "Learning Python is Easy\n"
     ]
    }
   ],
   "source": [
    "s=\"Learning java is Easy\"\n",
    "s1=s.replace(\"java\",\"Python\")\n",
    "print(s1)"
   ]
  },
  {
   "cell_type": "markdown",
   "metadata": {},
   "source": [
    "2)split()\n",
    "\n",
    "syntax--> s.split(seperator) -->list"
   ]
  },
  {
   "cell_type": "code",
   "execution_count": 3,
   "metadata": {},
   "outputs": [
    {
     "name": "stdout",
     "output_type": "stream",
     "text": [
      "['LJ', 'University']\n",
      "LJ\n",
      "University\n"
     ]
    }
   ],
   "source": [
    "s=\"LJ University\"\n",
    "s1=s.split()\n",
    "print(s1)\n",
    "for i in s1:\n",
    "    print(i)"
   ]
  },
  {
   "cell_type": "code",
   "execution_count": 4,
   "metadata": {},
   "outputs": [
    {
     "name": "stdout",
     "output_type": "stream",
     "text": [
      "['11', '11', '2024']\n"
     ]
    }
   ],
   "source": [
    "s=\"11-11-2024\"\n",
    "l=s.split(\"-\")\n",
    "print(l)\n",
    "for i in l:\n",
    "    print(i)"
   ]
  },
  {
   "cell_type": "code",
   "execution_count": 5,
   "metadata": {},
   "outputs": [
    {
     "name": "stdout",
     "output_type": "stream",
     "text": [
      "['11-11-202', '']\n",
      "11-11-202\n",
      "\n"
     ]
    }
   ],
   "source": [
    "s=\"11-11-2024\"\n",
    "l=s.split(\"4\")\n",
    "print(l)\n",
    "for i in l:\n",
    "    print(i)"
   ]
  },
  {
   "cell_type": "markdown",
   "metadata": {},
   "source": [
    "3)Remove punctuation using translate() function\n",
    "\n",
    "\n",
    "marketrans--> static method on str type\n",
    "\n",
    "          -->3 Arg version\n",
    "          \n",
    "          -->first two equal length string"
   ]
  },
  {
   "cell_type": "code",
   "execution_count": 6,
   "metadata": {},
   "outputs": [
    {
     "name": "stdout",
     "output_type": "stream",
     "text": [
      "!\"#$%&'()*+,-./:;<=>?@[\\]^_`{|}~\n"
     ]
    }
   ],
   "source": [
    "import string\n",
    "print(string.punctuation)"
   ]
  },
  {
   "cell_type": "code",
   "execution_count": 8,
   "metadata": {},
   "outputs": [
    {
     "name": "stdout",
     "output_type": "stream",
     "text": [
      "32\n"
     ]
    }
   ],
   "source": [
    "import string\n",
    "print(len(string.punctuation))"
   ]
  },
  {
   "cell_type": "code",
   "execution_count": 11,
   "metadata": {},
   "outputs": [
    {
     "name": "stdout",
     "output_type": "stream",
     "text": [
      "{97: 98, 33: None, 34: None, 35: None, 36: None, 37: None, 38: None, 39: None, 40: None, 41: None, 42: None, 43: None, 44: None, 45: None, 46: None, 47: None, 58: None, 59: None, 60: None, 61: None, 62: None, 63: None, 64: None, 91: None, 92: None, 93: None, 94: None, 95: None, 96: None, 123: None, 124: None, 125: None, 126: None}\n"
     ]
    }
   ],
   "source": [
    "print(str.maketrans(\"a\",\"b\",string.punctuation))"
   ]
  },
  {
   "cell_type": "code",
   "execution_count": 13,
   "metadata": {},
   "outputs": [
    {
     "name": "stdout",
     "output_type": "stream",
     "text": [
      "python is very easy\n"
     ]
    }
   ],
   "source": [
    "import string\n",
    "t=\"pyt@$hon is very$ easy!!\"\n",
    "x=str.maketrans(\"\",\"\",string.punctuation)\n",
    "t=t.translate(x)\n",
    "print(t)"
   ]
  },
  {
   "cell_type": "code",
   "execution_count": 15,
   "metadata": {},
   "outputs": [
    {
     "name": "stdout",
     "output_type": "stream",
     "text": [
      "{36: None, 33: None}\n",
      "pyt@hon is very easy\n"
     ]
    }
   ],
   "source": [
    "import string\n",
    "t=\"pyt@$hon is very$ easy!!\"\n",
    "x=str.maketrans(\"\",\"\",\"$!\")\n",
    "print(x)\n",
    "t=t.translate(x)\n",
    "print(t)"
   ]
  },
  {
   "cell_type": "code",
   "execution_count": 19,
   "metadata": {},
   "outputs": [
    {
     "name": "stdout",
     "output_type": "stream",
     "text": [
      "{112: 116, 36: None, 33: None}\n",
      "tyt@hon is very easy\n"
     ]
    }
   ],
   "source": [
    "import string\n",
    "t=\"pyt@$hon is very$ easy!!\"\n",
    "x=str.maketrans(\"p\",\"t\",\"$!\")\n",
    "print(x)\n",
    "t=t.translate(x)\n",
    "print(t)"
   ]
  },
  {
   "cell_type": "code",
   "execution_count": 21,
   "metadata": {},
   "outputs": [
    {
     "name": "stdout",
     "output_type": "stream",
     "text": [
      "hi Joe!!\n"
     ]
    }
   ],
   "source": [
    "import string\n",
    "t=\"hi Sam!!\"\n",
    "x=\"mSa\"\n",
    "y=\"eJo\"\n",
    "table=t.maketrans(x,y)  # In t(x: m-->e S-->J  a-->o )\n",
    "print(t.translate(table))"
   ]
  },
  {
   "cell_type": "markdown",
   "metadata": {},
   "source": [
    "# Tuple"
   ]
  },
  {
   "cell_type": "markdown",
   "metadata": {},
   "source": [
    "-->same as list except it is immutable\n",
    "\n",
    "-->Read Only version of list\n",
    "\n",
    "-->Data is fixed and never changes then we should go for tuple\n",
    "\n",
    "-->Insertion order is preserved.\n",
    "\n",
    "-->Duplicates are allowed\n",
    "\n",
    "-->Heterogeneos objects are allowed\n",
    "\n",
    "-->Index will play important role in tuple\n",
    "\n",
    "-->supports both +ve and -ve index\n",
    "\n",
    "-->Represents with () paranthesis with comma seperator"
   ]
  },
  {
   "cell_type": "code",
   "execution_count": 23,
   "metadata": {},
   "outputs": [
    {
     "name": "stdout",
     "output_type": "stream",
     "text": [
      "<class 'int'>\n",
      "<class 'tuple'>\n"
     ]
    }
   ],
   "source": [
    "#creation of tuple\n",
    "t=()\n",
    "t=(10)\n",
    "print(type(t))\n",
    "t=(10,)\n",
    "print(type(t))"
   ]
  },
  {
   "cell_type": "code",
   "execution_count": 24,
   "metadata": {},
   "outputs": [
    {
     "name": "stdout",
     "output_type": "stream",
     "text": [
      "(10, 12, 14, 16, 18)\n"
     ]
    }
   ],
   "source": [
    "t=tuple(range(10,20,2))\n",
    "print(t)"
   ]
  },
  {
   "cell_type": "code",
   "execution_count": 26,
   "metadata": {},
   "outputs": [
    {
     "name": "stdout",
     "output_type": "stream",
     "text": [
      "30\n",
      "60\n",
      "20\n"
     ]
    }
   ],
   "source": [
    "#Accessing Elements of Tuple\n",
    "\n",
    "#1)By using index\n",
    "\n",
    "t=(10,20,30,40,50,60)\n",
    "print(t[2])\n",
    "print(t[-1])\n",
    "print(t[-5])\n",
    "#print(t[10])-->Index Error"
   ]
  },
  {
   "cell_type": "code",
   "execution_count": 31,
   "metadata": {},
   "outputs": [
    {
     "name": "stdout",
     "output_type": "stream",
     "text": [
      "(30, 40, 50)\n",
      "(40, 50, 60)\n",
      "(10, 30, 50)\n",
      "(60, 50, 40)\n"
     ]
    }
   ],
   "source": [
    "#2)By using slicing of operator\n",
    "t=(10,20,30,40,50,60)\n",
    "print(t[2:5])\n",
    "print(t[3:100])\n",
    "print(t[::2])\n",
    "print(t[-1:-4:-1])\n",
    "#print(t[-1:-4])-->Blank tuple"
   ]
  },
  {
   "cell_type": "code",
   "execution_count": 32,
   "metadata": {},
   "outputs": [
    {
     "ename": "TypeError",
     "evalue": "'tuple' object does not support item assignment",
     "output_type": "error",
     "traceback": [
      "\u001b[1;31m---------------------------------------------------------------------------\u001b[0m",
      "\u001b[1;31mTypeError\u001b[0m                                 Traceback (most recent call last)",
      "\u001b[1;32m<ipython-input-32-b2f071a394b4>\u001b[0m in \u001b[0;36m<module>\u001b[1;34m\u001b[0m\n\u001b[0;32m      1\u001b[0m \u001b[1;31m#Immutability\u001b[0m\u001b[1;33m\u001b[0m\u001b[1;33m\u001b[0m\u001b[1;33m\u001b[0m\u001b[0m\n\u001b[0;32m      2\u001b[0m \u001b[0mt\u001b[0m\u001b[1;33m=\u001b[0m\u001b[1;33m(\u001b[0m\u001b[1;36m10\u001b[0m\u001b[1;33m,\u001b[0m\u001b[1;36m20\u001b[0m\u001b[1;33m,\u001b[0m\u001b[1;36m30\u001b[0m\u001b[1;33m,\u001b[0m\u001b[1;36m40\u001b[0m\u001b[1;33m)\u001b[0m\u001b[1;33m\u001b[0m\u001b[1;33m\u001b[0m\u001b[0m\n\u001b[1;32m----> 3\u001b[1;33m \u001b[0mt\u001b[0m\u001b[1;33m[\u001b[0m\u001b[1;36m2\u001b[0m\u001b[1;33m]\u001b[0m\u001b[1;33m=\u001b[0m\u001b[1;36m70\u001b[0m\u001b[1;33m\u001b[0m\u001b[1;33m\u001b[0m\u001b[0m\n\u001b[0m\u001b[0;32m      4\u001b[0m \u001b[0mprint\u001b[0m\u001b[1;33m(\u001b[0m\u001b[0mt\u001b[0m\u001b[1;33m)\u001b[0m\u001b[1;33m\u001b[0m\u001b[1;33m\u001b[0m\u001b[0m\n",
      "\u001b[1;31mTypeError\u001b[0m: 'tuple' object does not support item assignment"
     ]
    }
   ],
   "source": [
    "#Immutability\n",
    "t=(10,20,30,40)\n",
    "t[2]=70  #-->Type Error\n",
    "print(t)  "
   ]
  },
  {
   "cell_type": "code",
   "execution_count": 34,
   "metadata": {},
   "outputs": [
    {
     "name": "stdout",
     "output_type": "stream",
     "text": [
      "(10, 20, 30, 40, 50, 60)\n",
      "(10, 20, 30, 10, 20, 30, 10, 20, 30)\n"
     ]
    }
   ],
   "source": [
    "'''\n",
    "Mathematical operation for tuple:\n",
    "\n",
    "+-->concatenation\n",
    "*-->Repetation\n",
    "\n",
    "'''\n",
    "t1=(10,20,30)\n",
    "t2=(40,50,60)\n",
    "t=t1+t2\n",
    "print(t)\n",
    "tt=t1*3\n",
    "print(tt)"
   ]
  },
  {
   "cell_type": "code",
   "execution_count": 35,
   "metadata": {},
   "outputs": [
    {
     "name": "stdout",
     "output_type": "stream",
     "text": [
      "4\n",
      "2\n",
      "2\n",
      "0\n"
     ]
    }
   ],
   "source": [
    "#Important Functions for Tuple\n",
    "\n",
    "#1)len()\n",
    "t=(10,20,30,40)\n",
    "print(len(t))\n",
    "\n",
    "#2)count()\n",
    "t=(10,20,30,40,10,20,40)\n",
    "print(t.count(10))\n",
    "print(t.count(40))\n",
    "print(t.count(50))"
   ]
  },
  {
   "cell_type": "code",
   "execution_count": 36,
   "metadata": {},
   "outputs": [
    {
     "name": "stdout",
     "output_type": "stream",
     "text": [
      "0\n"
     ]
    }
   ],
   "source": [
    "#3)index()\n",
    "t=(10,20,10,10,20)\n",
    "print(t.index(10))\n",
    "#print(t.index(30))-->value error"
   ]
  },
  {
   "cell_type": "code",
   "execution_count": 37,
   "metadata": {},
   "outputs": [
    {
     "name": "stdout",
     "output_type": "stream",
     "text": [
      "[10, 20, 30, 40]\n"
     ]
    }
   ],
   "source": [
    "#4)sorted()\n",
    "t=(40,10,30,20)\n",
    "t1=sorted(t)#--list\n",
    "print(t1)"
   ]
  },
  {
   "cell_type": "code",
   "execution_count": 38,
   "metadata": {},
   "outputs": [
    {
     "name": "stdout",
     "output_type": "stream",
     "text": [
      "[40, 30, 20, 10]\n"
     ]
    }
   ],
   "source": [
    "#For reverese order\n",
    "t=(40,10,30,20)\n",
    "t1=sorted(t,reverse=True)\n",
    "print(t1)"
   ]
  },
  {
   "cell_type": "code",
   "execution_count": 41,
   "metadata": {},
   "outputs": [
    {
     "name": "stdout",
     "output_type": "stream",
     "text": [
      "10\n",
      "70\n"
     ]
    }
   ],
   "source": [
    "#min() and max() function\n",
    "t=(10, 20, 30,60,70,40)\n",
    "print(min(t))\n",
    "print(max(t))"
   ]
  },
  {
   "cell_type": "code",
   "execution_count": 40,
   "metadata": {},
   "outputs": [
    {
     "name": "stdout",
     "output_type": "stream",
     "text": [
      "ABC\n",
      "dxz\n"
     ]
    }
   ],
   "source": [
    "t=(\"abc\",\"ABC\",\"def\",\"dxz\")\n",
    "print(min(t))\n",
    "print(max(t))  #comparing by ascii value"
   ]
  },
  {
   "cell_type": "code",
   "execution_count": 43,
   "metadata": {},
   "outputs": [],
   "source": [
    "t=(\"abc\",\"ABC\",\"def\",26,99,102)\n",
    "# print(min(t))--Type error\n",
    "# print(max(t))--Type error\n"
   ]
  },
  {
   "cell_type": "code",
   "execution_count": 44,
   "metadata": {},
   "outputs": [
    {
     "name": "stdout",
     "output_type": "stream",
     "text": [
      "(10, 20, 30, 40)\n"
     ]
    }
   ],
   "source": [
    "#Tuple Packing\n",
    "a=10\n",
    "b=20\n",
    "c=30\n",
    "d=40\n",
    "t=a,b,c,d\n",
    "print(t)"
   ]
  },
  {
   "cell_type": "code",
   "execution_count": 45,
   "metadata": {},
   "outputs": [
    {
     "name": "stdout",
     "output_type": "stream",
     "text": [
      "10 20 30 40\n"
     ]
    }
   ],
   "source": [
    "#Tuple Unpacking\n",
    "t=(10, 20, 30, 40)\n",
    "a,b,c,d=t\n",
    "print(a,b,c,d)"
   ]
  },
  {
   "cell_type": "code",
   "execution_count": 47,
   "metadata": {},
   "outputs": [
    {
     "name": "stdout",
     "output_type": "stream",
     "text": [
      "apple\n",
      "banana\n",
      "cherry\n"
     ]
    }
   ],
   "source": [
    "#Loop through tuples\n",
    "t=(\"apple\",\"banana\",\"cherry\")\n",
    "for i in t:\n",
    "    print(i)"
   ]
  },
  {
   "cell_type": "code",
   "execution_count": 48,
   "metadata": {},
   "outputs": [
    {
     "name": "stdout",
     "output_type": "stream",
     "text": [
      "apple\n",
      "banana\n",
      "cherry\n"
     ]
    }
   ],
   "source": [
    "for i in range(len(t)):\n",
    "    print(t[i])"
   ]
  },
  {
   "cell_type": "code",
   "execution_count": 49,
   "metadata": {},
   "outputs": [
    {
     "name": "stdout",
     "output_type": "stream",
     "text": [
      "apple\n",
      "banana\n",
      "cherry\n"
     ]
    }
   ],
   "source": [
    "i=0\n",
    "while i<len(t):\n",
    "    print(t[i])\n",
    "    i+=1"
   ]
  },
  {
   "cell_type": "markdown",
   "metadata": {},
   "source": [
    "reversed(): method computes reverse of given sequence object return in form of list\n",
    "\n",
    "note: order will change no change in asc or in desc"
   ]
  },
  {
   "cell_type": "code",
   "execution_count": 50,
   "metadata": {},
   "outputs": [
    {
     "name": "stdout",
     "output_type": "stream",
     "text": [
      "['n', 'o', 'h', 't', 'y', 'P']\n",
      "[8, 7, 6, 5]\n",
      "[4, 3, 5, 2, 1]\n"
     ]
    }
   ],
   "source": [
    "s=\"Python\"\n",
    "print(list(reversed(s)))\n",
    "x=(\"p\",\"y\",\"t\",\"h\",\"o\",\"n\")\n",
    "y=range(5,9)\n",
    "print(list(reversed(y)))\n",
    "z=[1,2,5,3,4]\n",
    "print(list(reversed(z)))"
   ]
  },
  {
   "cell_type": "code",
   "execution_count": 55,
   "metadata": {},
   "outputs": [
    {
     "name": "stdout",
     "output_type": "stream",
     "text": [
      "[(10, 'eat'), (11, 'sleep'), (12, 'walk')]\n"
     ]
    }
   ],
   "source": [
    "#enumerate()\n",
    "l1=(\"eat\",\"sleep\",\"walk\")\n",
    "print(list(enumerate(l1)))"
   ]
  },
  {
   "cell_type": "code",
   "execution_count": 60,
   "metadata": {},
   "outputs": [
    {
     "name": "stdout",
     "output_type": "stream",
     "text": [
      "[(10, 'p'), (11, 'y'), (12, 't'), (13, 'h'), (14, 'o'), (15, 'n')]\n"
     ]
    }
   ],
   "source": [
    "print(list(enumerate(l1,10)))# (l1,10) where 10 is starting index by default it is 0"
   ]
  },
  {
   "cell_type": "code",
   "execution_count": 57,
   "metadata": {},
   "outputs": [
    {
     "name": "stdout",
     "output_type": "stream",
     "text": [
      "[(0, 'p'), (1, 'y'), (2, 't'), (3, 'h'), (4, 'o'), (5, 'n')]\n"
     ]
    }
   ],
   "source": [
    "l1=\"python\"\n",
    "print(list(enumerate(l1)))"
   ]
  },
  {
   "cell_type": "code",
   "execution_count": 58,
   "metadata": {},
   "outputs": [
    {
     "name": "stdout",
     "output_type": "stream",
     "text": [
      "0 -> H\n",
      "1 -> e\n",
      "2 -> l\n",
      "3 -> l\n",
      "4 -> o\n",
      "5 ->  \n",
      "6 -> H\n",
      "7 -> o\n",
      "8 -> w\n",
      "9 ->  \n",
      "10 -> a\n",
      "11 -> r\n",
      "12 -> e\n",
      "13 ->  \n",
      "14 -> y\n",
      "15 -> o\n",
      "16 -> u\n"
     ]
    }
   ],
   "source": [
    "s=\"Hello How are you\"\n",
    "for a,b in enumerate(s):\n",
    "    print(a,\"->\",b)"
   ]
  },
  {
   "cell_type": "code",
   "execution_count": 62,
   "metadata": {},
   "outputs": [
    {
     "name": "stdout",
     "output_type": "stream",
     "text": [
      "(0, 'H')\n",
      "(1, 'e')\n",
      "(2, 'l')\n",
      "(3, 'l')\n",
      "(4, 'o')\n",
      "(5, ' ')\n",
      "(6, 'H')\n",
      "(7, 'o')\n",
      "(8, 'w')\n",
      "(9, ' ')\n",
      "(10, 'a')\n",
      "(11, 'r')\n",
      "(12, 'e')\n",
      "(13, ' ')\n",
      "(14, 'y')\n",
      "(15, 'o')\n",
      "(16, 'u')\n"
     ]
    }
   ],
   "source": [
    "for a in enumerate(s):\n",
    "    print(a)"
   ]
  },
  {
   "cell_type": "markdown",
   "metadata": {},
   "source": [
    "# Tasks"
   ]
  },
  {
   "cell_type": "code",
   "execution_count": 8,
   "metadata": {},
   "outputs": [
    {
     "name": "stdout",
     "output_type": "stream",
     "text": [
      "Enter string:hello hii\n",
      "Enter ith index to remove character:4\n",
      "hell hii\n"
     ]
    }
   ],
   "source": [
    "#WAP to remove ith character frome string\n",
    "s=input(\"Enter string:\")\n",
    "n=int(input(\"Enter ith index to remove character:\"))\n",
    "newstr=s[0:n]+s[n+1: ]\n",
    "print(newstr)"
   ]
  },
  {
   "cell_type": "code",
   "execution_count": null,
   "metadata": {},
   "outputs": [],
   "source": [
    "#WAP to find all ocurrences of a substring of a  given string by ignoring the case\n",
    "s=input(\"Enter string:\")\n",
    "s=s.lower()\n",
    "sub=input(\"Enter substring:\")\n",
    "count=0\n",
    "sp=s.split(\" \")\n",
    "print(sp)\n",
    "for i in sp:\n",
    "    if i==sub.lower():\n",
    "        count+=1\n",
    "print(\"Number of occurence of substring\",sub,\"is\",count)"
   ]
  },
  {
   "cell_type": "code",
   "execution_count": 5,
   "metadata": {},
   "outputs": [
    {
     "name": "stdout",
     "output_type": "stream",
     "text": [
      "Enter string:h@arsh!l\n",
      "h#arsh#l\n"
     ]
    }
   ],
   "source": [
    "#WAP to replace each special symbol with # in the string\n",
    "import string\n",
    "s=input(\"Enter string:\")\n",
    "\n",
    "for i in string.punctuation:\n",
    "        s=s.replace(i,\"#\")\n",
    "print(s)        "
   ]
  },
  {
   "cell_type": "code",
   "execution_count": 10,
   "metadata": {},
   "outputs": [
    {
     "name": "stdout",
     "output_type": "stream",
     "text": [
      "Maximum number in given tuple is: 22\n",
      "Minimum number in given tuple is: 3\n"
     ]
    }
   ],
   "source": [
    "#WAP to print minimum and maximum element in given tuple without use of min max function and sorting\n",
    "n=(11,22,3,14)\n",
    "minEle=n[0]\n",
    "maxEle=n[0]\n",
    "for i in range(len(n)):\n",
    "    if n[i]>maxEle:\n",
    "        maxEle=n[i]\n",
    "    if n[i]<minEle:\n",
    "        minEle=n[i]\n",
    "print(\"Maximum number in given tuple is:\",maxEle)\n",
    "print(\"Minimum number in given tuple is:\",minEle)"
   ]
  },
  {
   "cell_type": "code",
   "execution_count": 1,
   "metadata": {},
   "outputs": [
    {
     "name": "stdout",
     "output_type": "stream",
     "text": [
      "Enter string:Welcome to lj university\n",
      "Even length words are:\n",
      "to lj university "
     ]
    }
   ],
   "source": [
    "#WAP to print even length words in a given string\n",
    "s=input(\"Enter string:\")\n",
    "s=s.split(\" \")\n",
    "print(\"Even length words are:\")\n",
    "for i in s:\n",
    "    if len(i)%2==0:\n",
    "        print(i,end=\" \")"
   ]
  },
  {
   "cell_type": "code",
   "execution_count": 19,
   "metadata": {},
   "outputs": [
    {
     "name": "stdout",
     "output_type": "stream",
     "text": [
      "Enter string:hi hello\n",
      "HI HellO\n"
     ]
    }
   ],
   "source": [
    "#WAP to capitalize first an last letter of each word\n",
    "s=input(\"Enter string:\")\n",
    "s=s.title()\n",
    "s=s.split(\" \")\n",
    "newstr=\"\"\n",
    "for i in s:\n",
    "    newstr+=i[:-1]+i[-1].title()+\" \"\n",
    "    \n",
    "print(newstr.rstrip())"
   ]
  },
  {
   "cell_type": "code",
   "execution_count": 21,
   "metadata": {},
   "outputs": [
    {
     "name": "stdout",
     "output_type": "stream",
     "text": [
      "Enter string1:abc\n",
      "Enter string2:ab\n",
      "not balanced string!!\n"
     ]
    }
   ],
   "source": [
    "#WAP to check if string are balanced or not\n",
    "s1=input(\"Enter string1:\")\n",
    "s2=input(\"Enter string2:\")\n",
    "c=0\n",
    "s1=s1.split()\n",
    "a=0\n",
    "for i in s2:\n",
    "    if s1[0]==i:\n",
    "        c+=1\n",
    "    \n",
    "        \n",
    "if c==len(s2):\n",
    "    print(\"balanced string!!\")\n",
    "else:\n",
    "    print(\"not balanced string!!\")"
   ]
  },
  {
   "cell_type": "code",
   "execution_count": 15,
   "metadata": {},
   "outputs": [
    {
     "name": "stdout",
     "output_type": "stream",
     "text": [
      "Enter num:456\n",
      "Enter shift:2\n",
      "645\n"
     ]
    }
   ],
   "source": [
    "#WAP  to shift the decimal digits n places to the left wrapping the extra digit around.\n",
    "#if shift greater than the number of digit then revese the digit\n",
    "n=int(input(\"Enter num:\"))\n",
    "s=int(input(\"Enter shift:\"))\n",
    "n1=str(n)\n",
    "if s>len(n1):\n",
    "    print(n1[::-1])\n",
    "else:\n",
    "    newn=n1[s:]+n1[:s]\n",
    "    print(newn)"
   ]
  },
  {
   "cell_type": "code",
   "execution_count": 5,
   "metadata": {},
   "outputs": [
    {
     "name": "stdout",
     "output_type": "stream",
     "text": [
      "Enter password:kaf@123A\n",
      "valid password\n"
     ]
    }
   ],
   "source": [
    "#WAP to check the validity of a password\n",
    "s1=input(\"Enter password:\")\n",
    "check=False\n",
    "a=0\n",
    "d=0\n",
    "u=0\n",
    "s=0\n",
    "if len(s1)>=8:\n",
    "    for i in s1:\n",
    "        if i.islower():\n",
    "            a+=1\n",
    "        if i in \"0123456789\":\n",
    "            d+=1\n",
    "        if i.isupper():\n",
    "            u+=1\n",
    "        if i in \"_@$\":\n",
    "            s+=1\n",
    "    if a!=0 and d!=0 and u!=0 and s!=0 and (a+d+u+s)==len(s1):\n",
    "        print(\"valid password\")\n",
    "    else:\n",
    "        print(\"Invalid password\")\n",
    "else:\n",
    "     print(\"Invalid password\")"
   ]
  },
  {
   "cell_type": "code",
   "execution_count": 20,
   "metadata": {},
   "outputs": [
    {
     "name": "stdout",
     "output_type": "stream",
     "text": [
      "Enter string:ajasabsabbao\n",
      "Enter sub string:ab\n",
      "['ajas', 's', 'bao']\n",
      "Total number of occurence of ab in string ajasabsabbao is: 0\n"
     ]
    }
   ],
   "source": [
    "#WAP to display all positions of substring in a given string\n",
    "s=input(\"Enter string:\")\n",
    "sub=input(\"Enter sub string:\")\n",
    "pos=0                                                        \n",
    "count=0                                                    #NOTEVALID FOR ONLY SINGLE CHARCTER SUBSTRING\n",
    "if sub not in s:\n",
    "    print(sub,\"Not found in string\",s)\n",
    "    print(\"Total number of occurence:\",count)\n",
    "else:\n",
    "    for i in s:\n",
    "        if sub==i:\n",
    "            print(\"Found at position:\",pos)\n",
    "            count+=1\n",
    "        pos+=1\n",
    "print(\"Total number of occurence of\",sub,\"in string\",s,\"is:\",count)        \n",
    "    "
   ]
  },
  {
   "cell_type": "code",
   "execution_count": 23,
   "metadata": {},
   "outputs": [
    {
     "name": "stdout",
     "output_type": "stream",
     "text": [
      "Enter string:abcabsdbaabc\n",
      "Enter sub string:abc\n",
      "Found at position: 0\n",
      "Found at position: 9\n",
      "Total number of occurence of abc in string abcabsdbaabc is: 2\n"
     ]
    }
   ],
   "source": [
    "#correct logic for previous question\n",
    "s=input(\"Enter string:\")\n",
    "sub=input(\"Enter sub string:\")\n",
    "flag=False\n",
    "pos=-1\n",
    "c=0\n",
    "n=len(s)\n",
    "while True:\n",
    "    pos=s.find(sub,pos+1,n)\n",
    "    if pos==-1:\n",
    "        break\n",
    "    c=c+1\n",
    "    print(\"Found at position:\",pos)\n",
    "    flag=True\n",
    "if flag==False:\n",
    "    print(\"Not found\")\n",
    "print(\"Total number of occurence of\",sub,\"in string\",s,\"is:\",c)  "
   ]
  },
  {
   "cell_type": "code",
   "execution_count": 30,
   "metadata": {},
   "outputs": [
    {
     "name": "stdout",
     "output_type": "stream",
     "text": [
      "Enter string:BDFA5427\n",
      "ABDF2457\n"
     ]
    }
   ],
   "source": [
    "#WAP to sort the characters of the string and first alphabets symbols followed by numerical values\n",
    "st=input(\"Enter string:\")\n",
    "alp=\"\"\n",
    "dig=\"\"\n",
    "newstr=\"\"\n",
    "for i in st:\n",
    "    if i.isalpha():\n",
    "        alp+=i\n",
    "    if i.isdigit():\n",
    "        dig+=i\n",
    "for i in sorted(alp):\n",
    "    newstr+=i\n",
    "for i in sorted(dig):\n",
    "    newstr+=i  \n",
    "print(newstr)    "
   ]
  },
  {
   "cell_type": "code",
   "execution_count": 35,
   "metadata": {},
   "outputs": [
    {
     "name": "stdout",
     "output_type": "stream",
     "text": [
      "Enter string:a4c2\n",
      "ccccccccccccccccccccccccccccccccccccccccccccccccccc\n"
     ]
    }
   ],
   "source": [
    "#input: a4b3c2\n",
    "# output=aaaabbbcc\n",
    "st=input(\"Enter string:\")\n",
    "s=\"\"\n",
    "for i in st:                                     #wrong outPUT.......................\n",
    "    if i.isalpha():\n",
    "        s=i\n",
    "    elif i.isdigit():\n",
    "        s+=(s*ord(i))\n",
    "print(s)        "
   ]
  },
  {
   "cell_type": "code",
   "execution_count": 38,
   "metadata": {},
   "outputs": [
    {
     "name": "stdout",
     "output_type": "stream",
     "text": [
      "count= 3\n"
     ]
    }
   ],
   "source": [
    "#WAP to count no of strings where the strings that the string length is 3 or more and the first and last character are same from a given list of string\n",
    "l=[\"abc\",\"xyz\",\"aba\",\"2112\",\"123451\"]\n",
    "c=0\n",
    "for i in range(len(l)):\n",
    "    s=l[i]\n",
    "    if len(l[i])>=3:\n",
    "        if s[0]==s[-1]:\n",
    "            c+=1\n",
    "print(\"count=\",c)           "
   ]
  },
  {
   "cell_type": "code",
   "execution_count": null,
   "metadata": {},
   "outputs": [],
   "source": []
  }
 ],
 "metadata": {
  "kernelspec": {
   "display_name": "Python 3",
   "language": "python",
   "name": "python3"
  },
  "language_info": {
   "codemirror_mode": {
    "name": "ipython",
    "version": 3
   },
   "file_extension": ".py",
   "mimetype": "text/x-python",
   "name": "python",
   "nbconvert_exporter": "python",
   "pygments_lexer": "ipython3",
   "version": "3.8.5"
  }
 },
 "nbformat": 4,
 "nbformat_minor": 4
}
