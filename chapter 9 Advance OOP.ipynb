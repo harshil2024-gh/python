{
 "cells": [
  {
   "cell_type": "markdown",
   "metadata": {},
   "source": [
    "___T4 syllabus___\n",
    "\n",
    "- __unit-9__\n",
    "      part-1\n",
    "       - Polymorphism\n",
    "       - Inherihence\n",
    "       - Abstract class\n",
    "      part-2\n",
    "        - numpy \n",
    "- __unit 10__ Matplotlib       "
   ]
  },
  {
   "cell_type": "markdown",
   "metadata": {},
   "source": [
    "**Polymorphism\n",
    "- 1)Method overloading\n",
    "- 2)method overriding\n",
    "- 3)operator overloading\n",
    "\n",
    "**method overloading\n",
    "  - compile time polymorphism\n",
    "  - It occurs in same class\n",
    "  - methods must have __same name and different parameter__\n",
    "  - python __does not__ support method overloading\n",
    "  \n",
    "**method overriding\n",
    "  - runtime polymorphism  \n",
    "  - It occcurs in two classes via inheritence\n",
    "  - methods must have __same name and same parameters__\n",
    "  - python supports method overriding"
   ]
  },
  {
   "cell_type": "code",
   "execution_count": 6,
   "metadata": {},
   "outputs": [],
   "source": [
    "#method overloadiing\n",
    "class A:\n",
    "    def add(self,a,b):\n",
    "        print(a+b)\n",
    "    def add(self,a,b,c):\n",
    "        print(a+b+c)"
   ]
  },
  {
   "cell_type": "code",
   "execution_count": 7,
   "metadata": {},
   "outputs": [
    {
     "name": "stdout",
     "output_type": "stream",
     "text": [
      "60\n"
     ]
    }
   ],
   "source": [
    "obj=A()\n",
    "# obj.add(10,20) -->TypeError because python consider last written method only in overloading.\n",
    "# Therefore,overloading is not supported in python\n",
    "obj.add(10,20,30)"
   ]
  },
  {
   "cell_type": "code",
   "execution_count": 17,
   "metadata": {},
   "outputs": [],
   "source": [
    "#method overriding\n",
    "class A: #Parent class\n",
    "    def first(self):\n",
    "        print(\"First function of class A\")\n",
    "    def second(self):\n",
    "        print(\"Second function of class A\")    \n",
    "class B(A): #class B inherits class A or child class\n",
    "    def first(self): #overridden method\n",
    "        print(\"First function of class B\")\n",
    "    def second(self):\n",
    "        print(\"Second function  of class B\")\n",
    "    def display(self):\n",
    "        print(\"display function of class B\")"
   ]
  },
  {
   "cell_type": "code",
   "execution_count": 20,
   "metadata": {},
   "outputs": [
    {
     "name": "stdout",
     "output_type": "stream",
     "text": [
      "First function of class B\n",
      "Second function  of class B\n",
      "display function of class B\n",
      "First function of class A\n",
      "Second function of class A\n"
     ]
    }
   ],
   "source": [
    "obj =B()\n",
    "obj.first()\n",
    "obj.second()\n",
    "obj.display()\n",
    "\n",
    "obj1 =A()\n",
    "obj1.first()\n",
    "obj1.second()\n",
    "# obj1.display()\n",
    "#-->AttributeError because 'A' object has no method 'display' and it cannot access from B because it is parent class"
   ]
  },
  {
   "cell_type": "code",
   "execution_count": 23,
   "metadata": {},
   "outputs": [],
   "source": [
    "#Constructor overriding\n",
    "class Parent:\n",
    "    def __init__(self):\n",
    "        self.attr1=50\n",
    "        self.attr2=60\n",
    "class Child(Parent):\n",
    "    def __init__(self):\n",
    "        self.attr3=70"
   ]
  },
  {
   "cell_type": "code",
   "execution_count": 25,
   "metadata": {},
   "outputs": [],
   "source": [
    "obj=Child()\n",
    "# print(obj.attr1) -->AttributeError"
   ]
  },
  {
   "cell_type": "code",
   "execution_count": 26,
   "metadata": {},
   "outputs": [],
   "source": [
    "#Using super Function\n",
    "class Parent:\n",
    "    def __init__(self):\n",
    "        self.attr1=50\n",
    "        self.attr2=60\n",
    "class Child(Parent):\n",
    "    def __init__(self):\n",
    "        super().__init__() #or Parent.__init__(self)\n",
    "        self.attr3=70"
   ]
  },
  {
   "cell_type": "code",
   "execution_count": 27,
   "metadata": {},
   "outputs": [
    {
     "name": "stdout",
     "output_type": "stream",
     "text": [
      "50\n"
     ]
    }
   ],
   "source": [
    "obj=Child()\n",
    "print(obj.attr1)"
   ]
  },
  {
   "cell_type": "code",
   "execution_count": 41,
   "metadata": {},
   "outputs": [],
   "source": [
    "class Add:\n",
    "    def result(self,a,b):\n",
    "        print(\"Addition:\",a+b)\n",
    "class multi(Add):\n",
    "    def result(self,a,b):\n",
    "        super().result(a,b)\n",
    "        print(\"Multiplication:\",a*b)"
   ]
  },
  {
   "cell_type": "code",
   "execution_count": 42,
   "metadata": {},
   "outputs": [
    {
     "name": "stdout",
     "output_type": "stream",
     "text": [
      "Addition: 35\n",
      "Multiplication: 300\n"
     ]
    }
   ],
   "source": [
    "m=multi()\n",
    "m.result(15,20)"
   ]
  },
  {
   "cell_type": "code",
   "execution_count": 47,
   "metadata": {},
   "outputs": [],
   "source": [
    "#Operator overloading\n",
    "class A:\n",
    "    def __init__(self,a):\n",
    "        self.a=a\n",
    "    def __add__(self,other): #operator overloading\n",
    "        return self.a+other.a"
   ]
  },
  {
   "cell_type": "code",
   "execution_count": 53,
   "metadata": {
    "scrolled": true
   },
   "outputs": [
    {
     "name": "stdout",
     "output_type": "stream",
     "text": [
      "5\n",
      "HiHello\n",
      "5\n",
      "HiHello\n",
      "5\n",
      "HiHello\n"
     ]
    }
   ],
   "source": [
    "obj1=A(2)\n",
    "obj2=A(3)\n",
    "obj3=A(\"Hi\")\n",
    "obj4=A(\"Hello\")\n",
    "print(obj1+obj2) # when we use '+' operator __add__ method will automatically called. \n",
    "print(obj3+obj4)\n",
    "\n",
    "#We can also use:\n",
    "print(A.__add__(obj1,obj2))\n",
    "print(A.__add__(obj3,obj4))\n",
    "print(obj1.__add__(obj2))\n",
    "print(obj3.__add__(obj4))"
   ]
  },
  {
   "cell_type": "markdown",
   "metadata": {},
   "source": [
    "- '+' --> __ add __(self,other)\n",
    "- '-' --> __ sub __(self,other)\n",
    "- '*' --> __ mul __(self,other)\n",
    "- '/' --> __ truediv __(self,other)\n",
    "- '//' --> __ floordiv __(self,other)\n",
    "- '%' --> __ mod __(self,other)\n",
    "- '**' --> __ pow __(self,other)"
   ]
  },
  {
   "cell_type": "code",
   "execution_count": 54,
   "metadata": {},
   "outputs": [],
   "source": [
    "class A:\n",
    "    def __init__(self,a):\n",
    "        self.a=a\n",
    "    def __add__(self,other):\n",
    "        return self.a+other.a\n",
    "    def __sub__(self,other):\n",
    "        return self.a-other.a\n",
    "    def __mul__(self,other):\n",
    "        return self.a*other.a\n",
    "    def __truediv__(self,other):\n",
    "        return self.a/other.a\n",
    "    def __floordiv__(self,other):\n",
    "        return self.a//other.a\n",
    "    def __mod__(self,other):\n",
    "        return self.a%other.a\n",
    "    def __pow__(self,other):\n",
    "        return self.a**other.a"
   ]
  },
  {
   "cell_type": "code",
   "execution_count": 55,
   "metadata": {},
   "outputs": [
    {
     "name": "stdout",
     "output_type": "stream",
     "text": [
      "Using operator\n",
      "5\n",
      "-1\n",
      "6\n",
      "0.6666666666666666\n",
      "0\n",
      "2\n",
      "8\n",
      "\n",
      "Using method\n",
      "5\n",
      "-1\n",
      "6\n",
      "0.6666666666666666\n",
      "0\n",
      "2\n",
      "8\n"
     ]
    }
   ],
   "source": [
    "obj1=A(2)\n",
    "obj2=A(3)\n",
    "print(\"Using operator\")\n",
    "print(obj1+obj2)\n",
    "print(obj1-obj2)\n",
    "print(obj1*obj2)\n",
    "print(obj1/obj2)\n",
    "print(obj1//obj2)\n",
    "print(obj1%obj2)\n",
    "print(obj1**obj2)\n",
    "print()\n",
    "print(\"Using method\")\n",
    "print(obj1.__add__(obj2))\n",
    "print(obj1.__sub__(obj2))\n",
    "print(obj1.__mul__(obj2))\n",
    "print(obj1.__truediv__(obj2))\n",
    "print(obj1.__floordiv__(obj2))\n",
    "print(obj1.__mod__(obj2))\n",
    "print(obj1.__pow__(obj2))"
   ]
  },
  {
   "cell_type": "code",
   "execution_count": 57,
   "metadata": {},
   "outputs": [],
   "source": [
    "#Comparision operator\n",
    "class A:\n",
    "    def __init__(self,a):\n",
    "        self.a=a\n",
    "    def __gt__(self,other): #greater than\n",
    "        if self.a>other.a:\n",
    "            return True\n",
    "        else:\n",
    "            return False"
   ]
  },
  {
   "cell_type": "code",
   "execution_count": 58,
   "metadata": {},
   "outputs": [
    {
     "name": "stdout",
     "output_type": "stream",
     "text": [
      "Obj2 is greater\n"
     ]
    }
   ],
   "source": [
    "obj1=A(15)\n",
    "obj2=A(30)\n",
    "if obj1>obj2:\n",
    "    print(\"obj1 is greater\")\n",
    "else:\n",
    "    print(\"Obj2 is greater\")"
   ]
  },
  {
   "cell_type": "markdown",
   "metadata": {},
   "source": [
    "- '>'  -->    __ gt __(self,other)\n",
    "- '<'  -->    __ lt __(self,other)\n",
    "- '>=' -->    __ ge __(self,other)\n",
    "- '<=' -->    __ le __(self,other)\n",
    "- '==' -->    __ eq __(self,other)\n",
    "- '!=' -->    __ ne __(self,other)"
   ]
  },
  {
   "cell_type": "markdown",
   "metadata": {},
   "source": [
    "## Inheritence"
   ]
  },
  {
   "cell_type": "markdown",
   "metadata": {},
   "source": [
    "- ability  to inherit features or attributes from already written classes into newer class we make.\n",
    "- It promots code reusability\n",
    "- It make codebase modular\n",
    "\n",
    "__Types:__\n",
    "- single inheritence\n",
    "- multiple inheritence\n",
    "- multilevel inheritence"
   ]
  },
  {
   "cell_type": "code",
   "execution_count": 61,
   "metadata": {},
   "outputs": [],
   "source": [
    "# single inheritence\n",
    "class Parent:\n",
    "    def func1(self):\n",
    "        print(\"Hello Parent\")\n",
    "class Child(Parent):\n",
    "    def func2(self):\n",
    "        print(\"Hello child\")"
   ]
  },
  {
   "cell_type": "code",
   "execution_count": 62,
   "metadata": {},
   "outputs": [
    {
     "name": "stdout",
     "output_type": "stream",
     "text": [
      "Hello Parent\n",
      "Hello child\n"
     ]
    }
   ],
   "source": [
    "test=Child()\n",
    "test.func1()\n",
    "test.func2()"
   ]
  },
  {
   "cell_type": "code",
   "execution_count": 63,
   "metadata": {},
   "outputs": [],
   "source": [
    "#Multiple Inheritence\n",
    "class Parent1:\n",
    "    def func1(self):\n",
    "        print(\"hello Parent1\")\n",
    "class Parent2:\n",
    "    def func2(self):\n",
    "        print(\"Hello Parent2\")\n",
    "class Parent3:\n",
    "    def func2(self):\n",
    "        print(\"Hello Parent3\")\n",
    "class Child(Parent1,Parent2,Parent3): #object consider as parameterWise order therefore func2() will consider of Parent2\n",
    "    def func3(self):\n",
    "        print(\"Hello child\")"
   ]
  },
  {
   "cell_type": "code",
   "execution_count": 65,
   "metadata": {},
   "outputs": [
    {
     "name": "stdout",
     "output_type": "stream",
     "text": [
      "hello Parent1\n",
      "Hello Parent2\n",
      "Hello child\n",
      "(<class '__main__.Child'>, <class '__main__.Parent1'>, <class '__main__.Parent2'>, <class '__main__.Parent3'>, <class 'object'>)\n"
     ]
    }
   ],
   "source": [
    "test=Child()\n",
    "test.func1()\n",
    "test.func2()\n",
    "test.func3()\n",
    "print(Child.__mro__) # mro-->Method resolution order"
   ]
  },
  {
   "cell_type": "code",
   "execution_count": 67,
   "metadata": {},
   "outputs": [],
   "source": [
    "#Multi-Level inheritence\n",
    "class A:\n",
    "    def display1(self):\n",
    "        print(\"This is Class A\")\n",
    "class B(A): # A inherits B\n",
    "    def display2(self):\n",
    "        print(\"This is Class B child of class A\")\n",
    "class C(B): #B inherits C\n",
    "    def display3(self):\n",
    "        print(\"This is Class C child of class B\")        "
   ]
  },
  {
   "cell_type": "code",
   "execution_count": 69,
   "metadata": {},
   "outputs": [
    {
     "name": "stdout",
     "output_type": "stream",
     "text": [
      "This is Class A\n",
      "This is Class B child of class A\n",
      "This is Class C child of class B\n",
      "(<class '__main__.C'>, <class '__main__.B'>, <class '__main__.A'>, <class 'object'>)\n"
     ]
    }
   ],
   "source": [
    "obj=C()\n",
    "obj.display1()\n",
    "obj.display2()\n",
    "obj.display3()\n",
    "print(C.__mro__)"
   ]
  },
  {
   "cell_type": "code",
   "execution_count": 76,
   "metadata": {},
   "outputs": [],
   "source": [
    "#Hierarchical Inheritance\n",
    "class Parent:\n",
    "    def display1(self):\n",
    "        print(\"This is Parent class\")\n",
    "class child1(Parent):\n",
    "    def display2(self):\n",
    "        print(\"child1 class inherited by Parent\")\n",
    "class child2(Parent):\n",
    "    def display3(self):\n",
    "         print(\"child2 class inherited by Parent\")"
   ]
  },
  {
   "cell_type": "code",
   "execution_count": 77,
   "metadata": {},
   "outputs": [
    {
     "name": "stdout",
     "output_type": "stream",
     "text": [
      "This is Parent class\n",
      "child1 class inherited by Parent\n",
      "This is Parent class\n",
      "child2 class inherited by Parent\n"
     ]
    }
   ],
   "source": [
    "obj=child1()\n",
    "obj.display1()\n",
    "obj.display2()\n",
    "obj=child2()\n",
    "obj.display1()\n",
    "obj.display3()"
   ]
  },
  {
   "cell_type": "code",
   "execution_count": 13,
   "metadata": {},
   "outputs": [],
   "source": [
    "#hybrid Inheritence\n",
    "class Parent1:\n",
    "    def func1(self):\n",
    "        print(\"Hello Parent 1\")\n",
    "class Parent2:\n",
    "    def func2(self):\n",
    "        print(\"Hello Parent 2\")\n",
    "class Child1(Parent1):\n",
    "    def func3(self):\n",
    "        print(\"Hello child 1\")\n",
    "class Child2(Child1,Parent2):\n",
    "    def func4(self):\n",
    "        print(\"Hello child 2\")        "
   ]
  },
  {
   "cell_type": "code",
   "execution_count": 15,
   "metadata": {},
   "outputs": [
    {
     "name": "stdout",
     "output_type": "stream",
     "text": [
      "Hello Parent 1\n",
      "Hello child 1\n",
      "\n",
      "Hello Parent 1\n",
      "Hello Parent 2\n",
      "Hello child 1\n",
      "Hello child 2\n",
      "[<class '__main__.Child1'>, <class '__main__.Parent1'>, <class 'object'>]\n",
      "[<class '__main__.Child2'>, <class '__main__.Child1'>, <class '__main__.Parent1'>, <class '__main__.Parent2'>, <class 'object'>]\n"
     ]
    }
   ],
   "source": [
    "test1=Child1()\n",
    "test1.func1()\n",
    "test1.func3()\n",
    "print()\n",
    "test2=Child2()\n",
    "test2.func1()\n",
    "test2.func2()\n",
    "test2.func3()\n",
    "test2.func4()\n",
    "print(Child1.mro())\n",
    "print(Child2.mro())"
   ]
  },
  {
   "cell_type": "code",
   "execution_count": 1,
   "metadata": {},
   "outputs": [],
   "source": [
    "#issubclass(child class,Parent class)-->True\n",
    "#isinstance() -->Check wheather the object is of given class or not\n",
    "class Parent:\n",
    "    def func1():\n",
    "        print(\"Hello Parent\")\n",
    "class Child(Parent):\n",
    "    def func2():\n",
    "        print(\"Hello Child\")        "
   ]
  },
  {
   "cell_type": "code",
   "execution_count": 2,
   "metadata": {},
   "outputs": [
    {
     "name": "stdout",
     "output_type": "stream",
     "text": [
      "True\n",
      "False\n"
     ]
    }
   ],
   "source": [
    "print(issubclass(Child,Parent))\n",
    "print(issubclass(Parent,Child))"
   ]
  },
  {
   "cell_type": "code",
   "execution_count": 4,
   "metadata": {},
   "outputs": [
    {
     "name": "stdout",
     "output_type": "stream",
     "text": [
      "True\n",
      "True\n",
      "False\n",
      "True\n"
     ]
    }
   ],
   "source": [
    "A=Child()\n",
    "B=Parent()\n",
    "print(isinstance(A,Child))\n",
    "print(isinstance(A,Parent))\n",
    "print(isinstance(B,Child))\n",
    "print(isinstance(B,Parent))"
   ]
  },
  {
   "cell_type": "markdown",
   "metadata": {},
   "source": [
    "### MRO(Method Resolution Method)"
   ]
  },
  {
   "cell_type": "code",
   "execution_count": 8,
   "metadata": {},
   "outputs": [],
   "source": [
    "class A:\n",
    "    def rk(self):\n",
    "        print(\"In class A\")\n",
    "class B(A):\n",
    "    def rk(self):\n",
    "        print(\"In class B\")\n",
    "class C(A):\n",
    "    def rk(self):\n",
    "        print(\"In class C\")\n",
    "class D(B,C):\n",
    "    pass\n",
    "#Note: if B and C class inherits by same class the sequence will be in this case : D-->B-->C-->A->Object"
   ]
  },
  {
   "cell_type": "code",
   "execution_count": 11,
   "metadata": {},
   "outputs": [
    {
     "name": "stdout",
     "output_type": "stream",
     "text": [
      "In class B\n",
      "[<class '__main__.D'>, <class '__main__.B'>, <class '__main__.C'>, <class '__main__.A'>, <class 'object'>]\n"
     ]
    }
   ],
   "source": [
    "r=D()\n",
    "r.rk()\n",
    "print(D.mro())"
   ]
  },
  {
   "cell_type": "code",
   "execution_count": 16,
   "metadata": {},
   "outputs": [],
   "source": [
    "class P1:\n",
    "    def foo(self):\n",
    "        print(\"foo from P1\")\n",
    "class P2:\n",
    "    def foo(self):\n",
    "        print(\"foo from P1\")\n",
    "    def bar(self):\n",
    "        print(\"bar from P2\")    \n",
    "class C1(P1):\n",
    "    pass\n",
    "class C2(P2):\n",
    "    def bar(self):\n",
    "        print(\"bar from c2\")\n",
    "class GC(C1,C2):\n",
    "    pass        \n",
    "#Note: if B and C class inherits by different class the sequence will be in this case : GC->C1->->P1->C2->P2->Object"
   ]
  },
  {
   "cell_type": "code",
   "execution_count": 17,
   "metadata": {},
   "outputs": [
    {
     "name": "stdout",
     "output_type": "stream",
     "text": [
      "foo from P1\n",
      "bar from c2\n",
      "[<class '__main__.GC'>, <class '__main__.C1'>, <class '__main__.P1'>, <class '__main__.C2'>, <class '__main__.P2'>, <class 'object'>]\n"
     ]
    }
   ],
   "source": [
    "g=GC()\n",
    "g.foo()\n",
    "g.bar()\n",
    "print(GC.mro())"
   ]
  },
  {
   "cell_type": "code",
   "execution_count": 18,
   "metadata": {},
   "outputs": [],
   "source": [
    "class P1:\n",
    "    def foo(self):\n",
    "        print(\"foo from P1\")\n",
    "class P2:\n",
    "    def foo(self):\n",
    "        print(\"foo from P1\")\n",
    "    def bar(self):\n",
    "        print(\"bar from P2\")    \n",
    "class C1(P1,P2):\n",
    "    pass\n",
    "class C2(P1):\n",
    "    def bar(self):\n",
    "        print(\"bar from c2\")\n",
    "class GC(C1,C2):\n",
    "    pass "
   ]
  },
  {
   "cell_type": "code",
   "execution_count": 19,
   "metadata": {},
   "outputs": [
    {
     "name": "stdout",
     "output_type": "stream",
     "text": [
      "foo from P1\n",
      "bar from c2\n",
      "[<class '__main__.GC'>, <class '__main__.C1'>, <class '__main__.C2'>, <class '__main__.P1'>, <class '__main__.P2'>, <class 'object'>]\n"
     ]
    }
   ],
   "source": [
    "g=GC()\n",
    "g.foo()\n",
    "g.bar()\n",
    "print(GC.mro())"
   ]
  },
  {
   "cell_type": "code",
   "execution_count": 20,
   "metadata": {},
   "outputs": [
    {
     "ename": "TypeError",
     "evalue": "Cannot create a consistent method resolution\norder (MRO) for bases P1, P2",
     "output_type": "error",
     "traceback": [
      "\u001b[1;31m---------------------------------------------------------------------------\u001b[0m",
      "\u001b[1;31mTypeError\u001b[0m                                 Traceback (most recent call last)",
      "\u001b[1;32m<ipython-input-20-79258b1c3968>\u001b[0m in \u001b[0;36m<module>\u001b[1;34m\u001b[0m\n\u001b[0;32m     12\u001b[0m     \u001b[1;32mdef\u001b[0m \u001b[0mbar\u001b[0m\u001b[1;33m(\u001b[0m\u001b[0mself\u001b[0m\u001b[1;33m)\u001b[0m\u001b[1;33m:\u001b[0m\u001b[1;33m\u001b[0m\u001b[1;33m\u001b[0m\u001b[0m\n\u001b[0;32m     13\u001b[0m         \u001b[0mprint\u001b[0m\u001b[1;33m(\u001b[0m\u001b[1;34m\"bar from c2\"\u001b[0m\u001b[1;33m)\u001b[0m\u001b[1;33m\u001b[0m\u001b[1;33m\u001b[0m\u001b[0m\n\u001b[1;32m---> 14\u001b[1;33m \u001b[1;32mclass\u001b[0m \u001b[0mGC\u001b[0m\u001b[1;33m(\u001b[0m\u001b[0mC1\u001b[0m\u001b[1;33m,\u001b[0m\u001b[0mC2\u001b[0m\u001b[1;33m)\u001b[0m\u001b[1;33m:\u001b[0m\u001b[1;33m\u001b[0m\u001b[1;33m\u001b[0m\u001b[0m\n\u001b[0m\u001b[0;32m     15\u001b[0m     \u001b[1;32mpass\u001b[0m\u001b[1;33m\u001b[0m\u001b[1;33m\u001b[0m\u001b[0m\n",
      "\u001b[1;31mTypeError\u001b[0m: Cannot create a consistent method resolution\norder (MRO) for bases P1, P2"
     ]
    }
   ],
   "source": [
    "class P1:\n",
    "    def foo(self):\n",
    "        print(\"foo from P1\")\n",
    "class P2:\n",
    "    def foo(self):\n",
    "        print(\"foo from P1\")\n",
    "    def bar(self):\n",
    "        print(\"bar from P2\")    \n",
    "class C1(P1,P2):\n",
    "    pass\n",
    "class C2(P2,P1):\n",
    "    def bar(self):\n",
    "        print(\"bar from c2\")\n",
    "class GC(C1,C2):\n",
    "    pass \n",
    "#Error because It cannot resolve proper order because after C1 P1 and P2 class are call 2 times in any order."
   ]
  },
  {
   "cell_type": "code",
   "execution_count": 25,
   "metadata": {},
   "outputs": [
    {
     "name": "stdout",
     "output_type": "stream",
     "text": [
      "[<class '__main__.Z'>, <class '__main__.k1'>, <class '__main__.C'>, <class '__main__.k3'>, <class '__main__.A'>, <class '__main__.k2'>, <class '__main__.B'>, <class '__main__.D'>, <class '__main__.F'>, <class '__main__.E'>, <class 'object'>]\n"
     ]
    }
   ],
   "source": [
    "class A: pass\n",
    "class B: pass\n",
    "class C: pass\n",
    "class D: pass\n",
    "class E: pass\n",
    "class F: pass\n",
    "class k1 (C,A,B): pass\n",
    "class k3 (A,D,F): pass\n",
    "class k2 (B,D,E): pass\n",
    "class Z(k1,k3,k2): pass\n",
    "print(Z.mro())"
   ]
  },
  {
   "cell_type": "markdown",
   "metadata": {},
   "source": [
    "## Abstract Class"
   ]
  },
  {
   "cell_type": "code",
   "execution_count": 37,
   "metadata": {},
   "outputs": [],
   "source": [
    "from abc import ABC,abstractmethod\n",
    "class shape(ABC):\n",
    "    def __init__(self,shape_name):\n",
    "        self.shape_name=shape_name\n",
    "    @abstractmethod\n",
    "    def draw (self):\n",
    "        pass\n",
    "class circle(shape):\n",
    "    def __init__(self):\n",
    "        super().__init__(\"circle\")\n",
    "    def draw(self):\n",
    "        print(\"Drawing a circle\")"
   ]
  },
  {
   "cell_type": "code",
   "execution_count": 38,
   "metadata": {},
   "outputs": [
    {
     "name": "stdout",
     "output_type": "stream",
     "text": [
      "Drawing a circle\n"
     ]
    }
   ],
   "source": [
    "c=circle()\n",
    "c.draw()"
   ]
  },
  {
   "cell_type": "code",
   "execution_count": 51,
   "metadata": {},
   "outputs": [],
   "source": [
    "class staff:\n",
    "    def __init__(self,name,salary):\n",
    "        self.name=name\n",
    "        self.salary=salary\n",
    "    def display(self):\n",
    "        print(\"Name:\",self.name)\n",
    "        print(\"Salary:\",self.salary)\n",
    "class Teaching(staff):\n",
    "    def __init__(self,name,salary,subject):\n",
    "        self.subject=subject\n",
    "        super().__init__(name,salary)\n",
    "    def display(self):\n",
    "        super().display()\n",
    "        print(\"Subject:\",self.subject)\n",
    "class Non_Teaching(staff):\n",
    "    def __init__(self,name,salary,dept):\n",
    "        self.dept=dept\n",
    "        super().__init__(name,salary)\n",
    "    def display(self):\n",
    "        super().display()\n",
    "        print(\"departmemnt:\",self.dept)        "
   ]
  },
  {
   "cell_type": "code",
   "execution_count": 55,
   "metadata": {},
   "outputs": [
    {
     "name": "stdout",
     "output_type": "stream",
     "text": [
      "Name: Akash\n",
      "Salary: 25000\n"
     ]
    }
   ],
   "source": [
    "s=staff(\"Akash\",25000)\n",
    "t=Teaching(\"jay\",45000,\"Python\")\n",
    "nt=Non_Teaching(\"Aman\",20000,\"Finance\")\n",
    "s.display()"
   ]
  },
  {
   "cell_type": "code",
   "execution_count": 56,
   "metadata": {},
   "outputs": [
    {
     "name": "stdout",
     "output_type": "stream",
     "text": [
      "Name: jay\n",
      "Salary: 45000\n",
      "Subject: Python\n"
     ]
    }
   ],
   "source": [
    "t.display()"
   ]
  },
  {
   "cell_type": "code",
   "execution_count": 57,
   "metadata": {},
   "outputs": [
    {
     "name": "stdout",
     "output_type": "stream",
     "text": [
      "Name: Aman\n",
      "Salary: 20000\n",
      "departmemnt: Finance\n"
     ]
    }
   ],
   "source": [
    "nt.display()"
   ]
  },
  {
   "cell_type": "code",
   "execution_count": 73,
   "metadata": {},
   "outputs": [],
   "source": [
    "'''create a class called student having name and email as its data member. init and putData as bound methods the init function should\n",
    "assign the values pass as parametes to the the variable and the put data function should display the data of function\n",
    "create another class called phdGuide having name email and students as its data member here the student variable is the list of student \n",
    "under the guide the phdGuide class should have 4 bound method in it init,putData add and remove init will initialise the variable,\n",
    "putData Display data of guide including the list of student the add method should add a student to the list of students to a guide\n",
    "and the remove funcyion should remove the student from the list of student.'''\n",
    "class Person:\n",
    "    def __init__(self,name,email):\n",
    "        self.name=name\n",
    "        self.email=email\n",
    "    def putData(self):\n",
    "        print(\"----------------------------------------\")\n",
    "        print(\"Name:\",self.name)\n",
    "        print(\"Email:\",self.email)\n",
    "class student(Person):\n",
    "    def __init__(self,name,email):\n",
    "        super().__init__(name,email)\n",
    "    def putData(self):\n",
    "        super().putData()\n",
    "class PhdGuide(Person):\n",
    "    def __init__(self,name,email):\n",
    "        super().__init__(name,email)\n",
    "        self.stdl=[]\n",
    "    def addData(self):\n",
    "        add=int(input(\"How many student you want to add?(In INTEGER):\"))\n",
    "        for i in range(add):\n",
    "            s=input(f\"Enter {i+1} student name:\")\n",
    "            self.stdl.append(s)\n",
    "        print(\"Student data Added Successfully!!!\")\n",
    "    def putData(self):\n",
    "        super().putData()\n",
    "        print(f\"List of Students Under {self.name} is:\",self.stdl)\n",
    "    def remove(self):\n",
    "        r=input(\"Enter name of student to Remove:\")\n",
    "        if r in self.stdl:\n",
    "            self.stdl.remove(r)\n",
    "            print(f\"{r} sucessfully remove from student list!!\")\n",
    "        else:\n",
    "            print(\"Name No found!!!\")            "
   ]
  },
  {
   "cell_type": "code",
   "execution_count": 74,
   "metadata": {
    "scrolled": true
   },
   "outputs": [
    {
     "name": "stdout",
     "output_type": "stream",
     "text": [
      "----------------------------------------\n",
      "Name: max\n",
      "Email: max123@gmail.com\n",
      "How many student you want to add?(In INTEGER):3\n",
      "Enter 1 student name:abhi\n",
      "Enter 2 student name:maddy\n",
      "Enter 3 student name:het\n",
      "Student data Added Successfully!!!\n",
      "Enter name of student to Remove:abhi\n",
      "abhi sucessfully remove from student list!!\n",
      "----------------------------------------\n",
      "Name: Elen\n",
      "Email: Elen2340@gmail.com\n",
      "List of Students Under Elen is: ['maddy', 'het']\n"
     ]
    }
   ],
   "source": [
    "std=student(\"max\",\"max123@gmail.com\")\n",
    "ph=PhdGuide(\"Elen\",\"Elen2340@gmail.com\")\n",
    "std.putData()\n",
    "ph.addData()\n",
    "ph.remove()\n",
    "ph.putData()"
   ]
  },
  {
   "cell_type": "code",
   "execution_count": 83,
   "metadata": {},
   "outputs": [],
   "source": [
    "#create a class Student withe the following member attributes rollno,name age and total marks create suitable methods\n",
    "# for reading and printing member variable write a program to overload \"==\" operator\n",
    "# to print the details of student having same marks\n",
    "class Student:\n",
    "    def __init__(self,name,rollno,age,total_marks):\n",
    "        self.name=name\n",
    "        self.rollno=rollno\n",
    "        self.age=age\n",
    "        self.total_marks=total_marks\n",
    "    def __eq__(self,other):\n",
    "        if self.total_marks == other.total_marks:\n",
    "            return True\n",
    "        else:\n",
    "            return False"
   ]
  },
  {
   "cell_type": "code",
   "execution_count": 84,
   "metadata": {},
   "outputs": [
    {
     "name": "stdout",
     "output_type": "stream",
     "text": [
      "Both Max and steve has same marks\n"
     ]
    }
   ],
   "source": [
    "std1=Student(\"Max\",12,20,78)\n",
    "std2=Student(\"steve\",15,19,78)\n",
    "if std1 == std2:\n",
    "    print(f\"Both {std1.name} and {std2.name} has same marks\")\n",
    "else:\n",
    "    print(f\"Both {std1.name} and {std2.name} has different marks\")"
   ]
  },
  {
   "cell_type": "markdown",
   "metadata": {},
   "source": [
    "# Task\n",
    "WAP to find the net salary of employee using inheritence.create 3 class Employee,perks and Netsalary make emp class as an abstract class .\n",
    " Employee class has 4 methods \n",
    "- 1)getEmployee It takes user input for id,name and basicSalary\n",
    "- 2)EmployeeDetails: print id,name and basic Salary\n",
    "- 3)getSalary: returns the basic salary\n",
    "- 4)emp_id:Abstract method\n",
    "\n",
    "perks class has 3 methods: \n",
    "-               1)calcPerks:calculate DA,HRA,PF\n",
    "-                               DA-35% of basic salary\n",
    "-                               HRA-17% of basic salary\n",
    "-                               PA-12% of basic salary\n",
    "-                           2)PrintPerks: print DA,HRA,PF\n",
    "-                           3)totalPerks: DA+HRA-PF\n",
    "\n",
    "NetSalary class: \n",
    "- 1)getTotal:calculate Total salary :Bs+totalPerks"
   ]
  },
  {
   "cell_type": "code",
   "execution_count": 11,
   "metadata": {},
   "outputs": [],
   "source": [
    "from abc import ABC,abstractmethod\n",
    "class Employee(ABC):\n",
    "    def getEmployee(self):\n",
    "        id=int(input(\"Enter employee id:\"))\n",
    "        name=input(\"Enter employee name:\")\n",
    "        basicSalary=int(input(\"Enter employee Basic Salary:\"))\n",
    "        self.id=id\n",
    "        self.name=name\n",
    "        self.basicSalary=basicSalary\n",
    "    def EmployeeDetails(self):\n",
    "        print(\"----------Employee Details---------\")\n",
    "        print(\"Employee Id:\",self.id)\n",
    "        print(\"Employee Name:\",self.name)\n",
    "        print(\"Basic Salary:\",self.basicSalary)\n",
    "    def getSalary(self):\n",
    "        return self.basicSalary\n",
    "    @abstractmethod\n",
    "    def emp_id(self):\n",
    "        pass\n",
    "class Perks(Employee):\n",
    "    def calcPerks(self):\n",
    "        self.DA=self.basicSalary*0.35\n",
    "        self.HRA=self.basicSalary*0.17\n",
    "        self.PF=self.basicSalary*0.12\n",
    "    def PrintPerks(self):\n",
    "        print(\"DA:\",self.DA,\"\\nHRA:\",self.HRA,\"\\nPF:\",self.PF)\n",
    "    def totalPerks(self):\n",
    "        self.totalperks=self.DA+self.HRA-self.PF\n",
    "        print(\"Total Perks:\",self.totalperks)\n",
    "    def emp_id(self):\n",
    "        print(\"Employee Id:\",self.id)\n",
    "class NetSalary(Perks): #This class does not need to implement abstractmethod(emp_id) because Perks class in not Abstract class.\n",
    "        def getTotal(self):\n",
    "            super().EmployeeDetails()\n",
    "            self.totalSalary=self.basicSalary+self.totalperks\n",
    "            print(\"Total Salary:\",self.totalSalary)"
   ]
  },
  {
   "cell_type": "code",
   "execution_count": 12,
   "metadata": {
    "scrolled": false
   },
   "outputs": [
    {
     "name": "stdout",
     "output_type": "stream",
     "text": [
      "Enter employee id:101\n",
      "Enter employee name:max\n",
      "Enter employee Basic Salary:30000\n",
      "DA: 10500.0 \n",
      "HRA: 5100.0 \n",
      "PF: 3600.0\n",
      "Total Perks: 12000.0\n",
      "----------Employee Details---------\n",
      "Employee Id: 101\n",
      "Employee Name: max\n",
      "Basic Salary: 30000\n",
      "Total Salary: 42000.0\n"
     ]
    }
   ],
   "source": [
    "nt=NetSalary()\n",
    "nt.getEmployee()\n",
    "nt.calcPerks()\n",
    "nt.PrintPerks()\n",
    "nt.totalPerks()\n",
    "nt.getTotal()"
   ]
  },
  {
   "cell_type": "code",
   "execution_count": null,
   "metadata": {},
   "outputs": [],
   "source": []
  },
  {
   "cell_type": "code",
   "execution_count": 29,
   "metadata": {},
   "outputs": [
    {
     "name": "stdout",
     "output_type": "stream",
     "text": [
      "HDD - 5000\n",
      "Want this item?(Y/N):y\n",
      "Enter the Quantity:2\n",
      "RAM - 2000\n",
      "Want this item?(Y/N):y\n",
      "Enter the Quantity:2\n",
      "Printer - 6000\n",
      "Want this item?(Y/N):n\n",
      "Pendrive - 800\n",
      "Want this item?(Y/N):n\n",
      "{'HDD': 10000, 'RAM': 4000, 'Printer': 0, 'Pendrive': 0}\n",
      "Choose Payment option:\n",
      "Press 1 for cash payment\n",
      "Press 2 for cheque payment\n",
      "Enter choice:1\n",
      "Total Amount: 14000\n",
      "Notes Required:\n",
      "2000 rs notes: 7\n"
     ]
    }
   ],
   "source": [
    "class Bill:\n",
    "    rates={\"HDD\":5000,\"RAM\":2000,\"Printer\":6000,\"Pendrive\":800}\n",
    "    total={\"HDD\":0,\"RAM\":0,\"Printer\":0,\"Pendrive\":0}\n",
    "    totalamt=0\n",
    "    for i,j in rates.items():\n",
    "        print(i,\"-\",j)\n",
    "        ch=input(\"Want this item?(Y/N):\")\n",
    "        ch=ch.upper()\n",
    "        if ch==\"Y\":\n",
    "            qty=int(input(\"Enter the Quantity:\"))\n",
    "            total[i]=(rates[i]*qty)\n",
    "        else:\n",
    "            continue\n",
    "    print(total)\n",
    "    def __init__(self):\n",
    "        print(\"Choose Payment option:\")\n",
    "        print(\"Press 1 for cash payment\")\n",
    "        print(\"Press 2 for cheque payment\")\n",
    "        choice=int(input(\"Enter choice:\"))\n",
    "        if choice==1:\n",
    "            cashPayment()\n",
    "        elif choice==2:\n",
    "            chequePayment()\n",
    "        else:\n",
    "            print(\"Invalid Choice!!!\")\n",
    "class cashPayment(Bill):\n",
    "    def __init__(self):\n",
    "        self.notes={2000:0,500:0,200:0,100:0,50:0,20:0}\n",
    "        totalamt=0\n",
    "        for i in self.total.values():\n",
    "            totalamt+=i\n",
    "        temp=totalamt\n",
    "        for i in self.notes.keys():\n",
    "            if temp<=i:\n",
    "                break\n",
    "            else:\n",
    "                n=temp//i\n",
    "                self.notes[i]=n\n",
    "                temp%=i\n",
    "        print(\"Total Amount:\",totalamt)        \n",
    "        print(\"Notes Required:\")       \n",
    "        for i,j in self.notes.items():\n",
    "            if j==0:\n",
    "                continue\n",
    "            else:\n",
    "                print(i,\"rs notes:\",j)\n",
    "class chequePayment(Bill):\n",
    "    def __init__(self):\n",
    "        cno=int(input(\"Enter check number:\"))\n",
    "        bname=input(\"Enter Bank name:\")\n",
    "        print(\"Total Amount:\",self.totalamt)\n",
    "        print(\"Cheque Number:\",cno)\n",
    "        print(\"Bank Name:\",bname)\n",
    "b=Bill()"
   ]
  },
  {
   "cell_type": "code",
   "execution_count": null,
   "metadata": {},
   "outputs": [],
   "source": []
  },
  {
   "cell_type": "code",
   "execution_count": null,
   "metadata": {},
   "outputs": [],
   "source": []
  }
 ],
 "metadata": {
  "kernelspec": {
   "display_name": "Python 3",
   "language": "python",
   "name": "python3"
  },
  "language_info": {
   "codemirror_mode": {
    "name": "ipython",
    "version": 3
   },
   "file_extension": ".py",
   "mimetype": "text/x-python",
   "name": "python",
   "nbconvert_exporter": "python",
   "pygments_lexer": "ipython3",
   "version": "3.8.5"
  }
 },
 "nbformat": 4,
 "nbformat_minor": 4
}
