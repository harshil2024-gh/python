{
 "cells": [
  {
   "cell_type": "markdown",
   "metadata": {},
   "source": [
    "# CH-8 OOP and Exception Handling"
   ]
  },
  {
   "cell_type": "markdown",
   "metadata": {},
   "source": [
    "Error:\n",
    "   -  Syntax Error\n",
    "   -  Exceptions \n",
    "    \n",
    "- Errors are problems in program due to which program will stop th Execution.\n",
    "\n",
    "- Exception are raised when some internalevents occurs which change the flow of program.\n",
    "\n",
    "- when exception occurs,python will stop and generate error message."
   ]
  },
  {
   "cell_type": "code",
   "execution_count": 5,
   "metadata": {},
   "outputs": [
    {
     "name": "stdout",
     "output_type": "stream",
     "text": [
      "5.0\n",
      "Exception occured!!\n"
     ]
    }
   ],
   "source": [
    "def div(a,b):\n",
    "    return a/b\n",
    "try:\n",
    "    print(div(5,1))\n",
    "    print(div(5,0))\n",
    "except:\n",
    "    print(\"Exception occured!!\")  "
   ]
  },
  {
   "cell_type": "code",
   "execution_count": 10,
   "metadata": {},
   "outputs": [
    {
     "name": "stdout",
     "output_type": "stream",
     "text": [
      "5.0\n",
      "No exception\n"
     ]
    }
   ],
   "source": [
    "def div(a,b):\n",
    "    return a/b\n",
    "try:\n",
    "    print(div(5,1))\n",
    "except:\n",
    "    print(\"Exception occured!!\")\n",
    "else:\n",
    "    print(\"No exception\")"
   ]
  },
  {
   "cell_type": "code",
   "execution_count": 8,
   "metadata": {},
   "outputs": [
    {
     "name": "stdout",
     "output_type": "stream",
     "text": [
      "5.0\n",
      "No exception\n",
      "This always print\n"
     ]
    }
   ],
   "source": [
    "def div(a,b):\n",
    "    return a/b\n",
    "try:\n",
    "    print(div(5,1))\n",
    "except:\n",
    "    print(\"Exception occured!!\")\n",
    "else:\n",
    "    print(\"No exception\")\n",
    "finally:\n",
    "    print(\"This always print\")"
   ]
  },
  {
   "cell_type": "code",
   "execution_count": 15,
   "metadata": {},
   "outputs": [
    {
     "name": "stdout",
     "output_type": "stream",
     "text": [
      "division by zero\n"
     ]
    }
   ],
   "source": [
    "def div(a,b):\n",
    "    return a/b\n",
    "try:\n",
    "    print(div(5,0))\n",
    "except Exception as e:\n",
    "    print(e)"
   ]
  },
  {
   "cell_type": "code",
   "execution_count": 12,
   "metadata": {},
   "outputs": [
    {
     "name": "stdout",
     "output_type": "stream",
     "text": [
      "This is Python 1\n",
      "This is Python 2\n",
      "This is Python 3\n",
      "This is Python 4\n",
      "5\n",
      "2.5\n",
      "list index out of range\n"
     ]
    }
   ],
   "source": [
    "m=5\n",
    "try:\n",
    "    f=open(\"demo.txt\",\"r\")\n",
    "    print(f.read())\n",
    "    print(m)\n",
    "    print(5/2)\n",
    "    l=[1,2,3]\n",
    "    l[100]\n",
    "except FileNotFoundError:\n",
    "    print(\"File Not Found\")\n",
    "except NameError:\n",
    "    print(\"Variable Not defined\")\n",
    "except ZeroDivisionError:\n",
    "    print(\"Can't Divide By Zero Error!!!\")\n",
    "except Exception as e:\n",
    "    print(e)"
   ]
  },
  {
   "cell_type": "code",
   "execution_count": 27,
   "metadata": {},
   "outputs": [
    {
     "name": "stdout",
     "output_type": "stream",
     "text": [
      "name 'g' is not defined\n",
      "<class 'NameError'>\n",
      "True\n",
      "rest of the code\n"
     ]
    }
   ],
   "source": [
    "a=10\n",
    "b=0\n",
    "try:\n",
    "    d=a/g\n",
    "    print(d)\n",
    "except(NameError,ZeroDivisionError) as obj:\n",
    "    print(obj)\n",
    "    print(type(obj))\n",
    "    print(type(obj)==NameError)\n",
    "print(\"rest of the code\")    "
   ]
  },
  {
   "cell_type": "code",
   "execution_count": 29,
   "metadata": {},
   "outputs": [
    {
     "ename": "TypeError",
     "evalue": "a should be integer",
     "output_type": "error",
     "traceback": [
      "\u001b[1;31m---------------------------------------------------------------------------\u001b[0m",
      "\u001b[1;31mTypeError\u001b[0m                                 Traceback (most recent call last)",
      "\u001b[1;32m<ipython-input-29-1bd2f8411964>\u001b[0m in \u001b[0;36m<module>\u001b[1;34m\u001b[0m\n\u001b[0;32m      6\u001b[0m         \u001b[1;32mraise\u001b[0m \u001b[0mTypeError\u001b[0m\u001b[1;33m(\u001b[0m\u001b[1;34m\"b should be integer\"\u001b[0m\u001b[1;33m)\u001b[0m\u001b[1;33m\u001b[0m\u001b[1;33m\u001b[0m\u001b[0m\n\u001b[0;32m      7\u001b[0m     \u001b[1;32mreturn\u001b[0m\u001b[1;33m(\u001b[0m\u001b[0ma\u001b[0m\u001b[1;33m+\u001b[0m\u001b[0mb\u001b[0m\u001b[1;33m)\u001b[0m\u001b[1;33m\u001b[0m\u001b[1;33m\u001b[0m\u001b[0m\n\u001b[1;32m----> 8\u001b[1;33m \u001b[0mprint\u001b[0m\u001b[1;33m(\u001b[0m\u001b[0madd\u001b[0m\u001b[1;33m(\u001b[0m\u001b[1;34m\"xyz\"\u001b[0m\u001b[1;33m,\u001b[0m\u001b[1;34m\"abc\"\u001b[0m\u001b[1;33m)\u001b[0m\u001b[1;33m)\u001b[0m\u001b[1;33m\u001b[0m\u001b[1;33m\u001b[0m\u001b[0m\n\u001b[0m\u001b[0;32m      9\u001b[0m \u001b[0mprint\u001b[0m\u001b[1;33m(\u001b[0m\u001b[0madd\u001b[0m\u001b[1;33m(\u001b[0m\u001b[1;36m10\u001b[0m\u001b[1;33m,\u001b[0m\u001b[1;36m20\u001b[0m\u001b[1;33m)\u001b[0m\u001b[1;33m)\u001b[0m\u001b[1;33m\u001b[0m\u001b[1;33m\u001b[0m\u001b[0m\n",
      "\u001b[1;32m<ipython-input-29-1bd2f8411964>\u001b[0m in \u001b[0;36madd\u001b[1;34m(a, b)\u001b[0m\n\u001b[0;32m      2\u001b[0m \u001b[1;32mdef\u001b[0m \u001b[0madd\u001b[0m\u001b[1;33m(\u001b[0m\u001b[0ma\u001b[0m\u001b[1;33m,\u001b[0m\u001b[0mb\u001b[0m\u001b[1;33m)\u001b[0m\u001b[1;33m:\u001b[0m\u001b[1;33m\u001b[0m\u001b[1;33m\u001b[0m\u001b[0m\n\u001b[0;32m      3\u001b[0m     \u001b[1;32mif\u001b[0m \u001b[0mtype\u001b[0m\u001b[1;33m(\u001b[0m\u001b[0ma\u001b[0m\u001b[1;33m)\u001b[0m\u001b[1;33m==\u001b[0m\u001b[0mstr\u001b[0m\u001b[1;33m:\u001b[0m\u001b[1;33m\u001b[0m\u001b[1;33m\u001b[0m\u001b[0m\n\u001b[1;32m----> 4\u001b[1;33m         \u001b[1;32mraise\u001b[0m \u001b[0mTypeError\u001b[0m\u001b[1;33m(\u001b[0m\u001b[1;34m\"a should be integer\"\u001b[0m\u001b[1;33m)\u001b[0m\u001b[1;33m\u001b[0m\u001b[1;33m\u001b[0m\u001b[0m\n\u001b[0m\u001b[0;32m      5\u001b[0m     \u001b[1;32mif\u001b[0m \u001b[0mtype\u001b[0m\u001b[1;33m(\u001b[0m\u001b[0mb\u001b[0m\u001b[1;33m)\u001b[0m\u001b[1;33m==\u001b[0m\u001b[0mstr\u001b[0m\u001b[1;33m:\u001b[0m\u001b[1;33m\u001b[0m\u001b[1;33m\u001b[0m\u001b[0m\n\u001b[0;32m      6\u001b[0m         \u001b[1;32mraise\u001b[0m \u001b[0mTypeError\u001b[0m\u001b[1;33m(\u001b[0m\u001b[1;34m\"b should be integer\"\u001b[0m\u001b[1;33m)\u001b[0m\u001b[1;33m\u001b[0m\u001b[1;33m\u001b[0m\u001b[0m\n",
      "\u001b[1;31mTypeError\u001b[0m: a should be integer"
     ]
    }
   ],
   "source": [
    "#Raise an Exception\n",
    "def add(a,b):\n",
    "    if type(a)==str:\n",
    "        raise TypeError(\"a should be integer\")\n",
    "    if type(b)==str:\n",
    "        raise TypeError(\"b should be integer\")\n",
    "    return(a+b)\n",
    "print(add(\"xyz\",\"abc\"))"
   ]
  },
  {
   "cell_type": "code",
   "execution_count": 36,
   "metadata": {},
   "outputs": [
    {
     "name": "stdout",
     "output_type": "stream",
     "text": [
      "30\n"
     ]
    }
   ],
   "source": [
    "print(add(10,20))"
   ]
  },
  {
   "cell_type": "code",
   "execution_count": 37,
   "metadata": {},
   "outputs": [],
   "source": [
    "def add(a,b):\n",
    "    return a+b\n",
    "# print(add(\"xyz\",20))  #TypeError: can only concatenate str (not \"int\") to str"
   ]
  },
  {
   "cell_type": "code",
   "execution_count": 8,
   "metadata": {},
   "outputs": [],
   "source": [
    "class myexception(Exception):\n",
    "    def __init__(self,arg):\n",
    "        self.msg=arg"
   ]
  },
  {
   "cell_type": "code",
   "execution_count": 7,
   "metadata": {},
   "outputs": [
    {
     "ename": "myexception",
     "evalue": "Personalized Exception",
     "output_type": "error",
     "traceback": [
      "\u001b[1;31m---------------------------------------------------------------------------\u001b[0m",
      "\u001b[1;31mmyexception\u001b[0m                               Traceback (most recent call last)",
      "\u001b[1;32m<ipython-input-7-aa8c5a398c7e>\u001b[0m in \u001b[0;36m<module>\u001b[1;34m\u001b[0m\n\u001b[0;32m      5\u001b[0m         \u001b[1;32mraise\u001b[0m \u001b[0mTypeError\u001b[0m\u001b[1;33m(\u001b[0m\u001b[1;34m\"b should be integer\"\u001b[0m\u001b[1;33m)\u001b[0m\u001b[1;33m\u001b[0m\u001b[1;33m\u001b[0m\u001b[0m\n\u001b[0;32m      6\u001b[0m     \u001b[1;32mreturn\u001b[0m\u001b[1;33m(\u001b[0m\u001b[0ma\u001b[0m\u001b[1;33m+\u001b[0m\u001b[0mb\u001b[0m\u001b[1;33m)\u001b[0m\u001b[1;33m\u001b[0m\u001b[1;33m\u001b[0m\u001b[0m\n\u001b[1;32m----> 7\u001b[1;33m \u001b[0mprint\u001b[0m\u001b[1;33m(\u001b[0m\u001b[0madd\u001b[0m\u001b[1;33m(\u001b[0m\u001b[1;34m\"10\"\u001b[0m\u001b[1;33m,\u001b[0m\u001b[1;34m\"abc\"\u001b[0m\u001b[1;33m)\u001b[0m\u001b[1;33m)\u001b[0m\u001b[1;33m\u001b[0m\u001b[1;33m\u001b[0m\u001b[0m\n\u001b[0m",
      "\u001b[1;32m<ipython-input-7-aa8c5a398c7e>\u001b[0m in \u001b[0;36madd\u001b[1;34m(a, b)\u001b[0m\n\u001b[0;32m      1\u001b[0m \u001b[1;32mdef\u001b[0m \u001b[0madd\u001b[0m\u001b[1;33m(\u001b[0m\u001b[0ma\u001b[0m\u001b[1;33m,\u001b[0m\u001b[0mb\u001b[0m\u001b[1;33m)\u001b[0m\u001b[1;33m:\u001b[0m\u001b[1;33m\u001b[0m\u001b[1;33m\u001b[0m\u001b[0m\n\u001b[0;32m      2\u001b[0m     \u001b[1;32mif\u001b[0m \u001b[0mtype\u001b[0m\u001b[1;33m(\u001b[0m\u001b[0ma\u001b[0m\u001b[1;33m)\u001b[0m\u001b[1;33m==\u001b[0m\u001b[0mstr\u001b[0m\u001b[1;33m:\u001b[0m\u001b[1;33m\u001b[0m\u001b[1;33m\u001b[0m\u001b[0m\n\u001b[1;32m----> 3\u001b[1;33m         \u001b[1;32mraise\u001b[0m \u001b[0mmyexception\u001b[0m\u001b[1;33m(\u001b[0m\u001b[1;34m\"Personalized Exception\"\u001b[0m\u001b[1;33m)\u001b[0m\u001b[1;33m\u001b[0m\u001b[1;33m\u001b[0m\u001b[0m\n\u001b[0m\u001b[0;32m      4\u001b[0m     \u001b[1;32mif\u001b[0m \u001b[0mtype\u001b[0m\u001b[1;33m(\u001b[0m\u001b[0mb\u001b[0m\u001b[1;33m)\u001b[0m\u001b[1;33m==\u001b[0m\u001b[0mstr\u001b[0m\u001b[1;33m:\u001b[0m\u001b[1;33m\u001b[0m\u001b[1;33m\u001b[0m\u001b[0m\n\u001b[0;32m      5\u001b[0m         \u001b[1;32mraise\u001b[0m \u001b[0mTypeError\u001b[0m\u001b[1;33m(\u001b[0m\u001b[1;34m\"b should be integer\"\u001b[0m\u001b[1;33m)\u001b[0m\u001b[1;33m\u001b[0m\u001b[1;33m\u001b[0m\u001b[0m\n",
      "\u001b[1;31mmyexception\u001b[0m: Personalized Exception"
     ]
    }
   ],
   "source": [
    "def add(a,b):\n",
    "    if type(a)==str:\n",
    "        raise myexception(\"Personalized Exception\")\n",
    "    if type(b)==str:\n",
    "        raise TypeError(\"b should be integer\")\n",
    "    return(a+b)\n",
    "print(add(\"10\",\"abc\"))"
   ]
  },
  {
   "cell_type": "code",
   "execution_count": 9,
   "metadata": {},
   "outputs": [],
   "source": [
    "#create a function which raise an exception if net amount is less the 2000\n",
    "class LowBalanceException(Exception):\n",
    "    def __init__(self,arg):\n",
    "        self.msg=arg"
   ]
  },
  {
   "cell_type": "code",
   "execution_count": 14,
   "metadata": {},
   "outputs": [
    {
     "name": "stdout",
     "output_type": "stream",
     "text": [
      "Remaining amount: 7000\n",
      "Low Balance!!!\n"
     ]
    }
   ],
   "source": [
    "def f(amt,wdr):\n",
    "    try:\n",
    "        if (amt-wdr)<2000:\n",
    "            raise LowBalanceException(\"Low Balance!!!\")\n",
    "        else:\n",
    "            print(\"Remaining amount:\",(amt-wdr))\n",
    "    except Exception as e:\n",
    "        print(e)\n",
    "f(10000,3000)\n",
    "f(10000,9000)"
   ]
  },
  {
   "cell_type": "markdown",
   "metadata": {},
   "source": [
    "## Object Oriented Programming"
   ]
  },
  {
   "cell_type": "markdown",
   "metadata": {},
   "source": [
    "->Everything in python is class/object"
   ]
  },
  {
   "cell_type": "code",
   "execution_count": 15,
   "metadata": {},
   "outputs": [
    {
     "name": "stdout",
     "output_type": "stream",
     "text": [
      "<class 'int'>\n",
      "<class 'str'>\n",
      "<class 'module'>\n",
      "<class 'type'>\n"
     ]
    }
   ],
   "source": [
    "x=42\n",
    "print(type(x))\n",
    "y=\"Hello\"\n",
    "print(type(y))\n",
    "import math\n",
    "print(type(math))\n",
    "print(type(type))"
   ]
  },
  {
   "cell_type": "markdown",
   "metadata": {},
   "source": [
    "Class\n",
    "-  user defined data structure that biinds the data members and methods into a single unit\n",
    "-  class is a blueprint or code template for object creation\n",
    "-  using a class you can create as many object you want\n",
    "\n",
    "Object\n",
    "\n",
    "-  Object is an instance of a class\n",
    "-  it is collection of attributes and methods\n",
    "-  It is used to perform actions"
   ]
  },
  {
   "cell_type": "markdown",
   "metadata": {},
   "source": [
    "Class -->Person \n",
    "\n",
    "     -  states --> Name,gender,profession\n",
    "     -  behaviour--> work(),study() [methods]"
   ]
  },
  {
   "cell_type": "markdown",
   "metadata": {},
   "source": [
    "class classname:\n",
    "\n",
    "    def __init__(self):  -->Constructor\n",
    "          self.value=10\n",
    "          self.name=\"abc\"\n",
    "          \n",
    "    def method_name(self):\n",
    "        - body of method"
   ]
  },
  {
   "cell_type": "code",
   "execution_count": 21,
   "metadata": {},
   "outputs": [],
   "source": [
    "class Employee:\n",
    "    def __init__(self,name,age,salary):\n",
    "        self.name=name\n",
    "        self.age=age\n",
    "        self.salary=salary\n",
    "    def display(self):\n",
    "        print(\"Employee Name:\",self.name)\n",
    "        print(\"Employee Age:\",self.age)\n",
    "        print(\"Employee Salary:\",self.salary)"
   ]
  },
  {
   "cell_type": "code",
   "execution_count": 22,
   "metadata": {},
   "outputs": [
    {
     "name": "stdout",
     "output_type": "stream",
     "text": [
      "Employee Name: abc\n",
      "Employee Age: 34\n",
      "Employee Salary: 50000\n",
      "Employee Name: xyz\n",
      "Employee Age: 36\n",
      "Employee Salary: 60000\n"
     ]
    }
   ],
   "source": [
    "emp1=Employee(\"abc\",34,50000)\n",
    "emp1.display()\n",
    "emp2=Employee(\"xyz\",36,60000)\n",
    "emp2.display()"
   ]
  },
  {
   "cell_type": "markdown",
   "metadata": {},
   "source": [
    "Constructor-->\n",
    "  -  unique function that gets called automatically when a object is created of a class.\n",
    "  -  The main purpose of a constructor is to initialize or assign values to a data members of that class.\n",
    "  -  It cannot return any value other than None"
   ]
  },
  {
   "cell_type": "code",
   "execution_count": 32,
   "metadata": {},
   "outputs": [],
   "source": [
    "class Employee:\n",
    "    x=20\n",
    "    def __init__(self,name,age,salary):\n",
    "        self.name=name\n",
    "        self.age=age\n",
    "        self.salary=salary\n",
    "    @staticmethod\n",
    "    def display():\n",
    "        print(\"Employee Age:\",x)\n",
    "        "
   ]
  },
  {
   "cell_type": "code",
   "execution_count": 34,
   "metadata": {},
   "outputs": [
    {
     "name": "stdout",
     "output_type": "stream",
     "text": [
      "Employee Age: 42\n",
      "Employee Age: 42\n"
     ]
    }
   ],
   "source": [
    "emp1=Employee(\"abc\",34,50000)\n",
    "emp1.display()\n",
    "emp2=Employee(\"xyz\",36,60000)\n",
    "emp2.display()"
   ]
  },
  {
   "cell_type": "code",
   "execution_count": 5,
   "metadata": {},
   "outputs": [],
   "source": [
    "class Employee:\n",
    "    def __init__(self,name,age,salary):\n",
    "        self.name=name\n",
    "        self.age=age\n",
    "        self.salary=salary\n",
    "    def display(self):\n",
    "        print(\"Employee Name:\",self.name)\n",
    "        print(\"Employee Age:\",self.age)\n",
    "        print(\"Employee Salary:\",self.salary)\n",
    "    @staticmethod\n",
    "    def add(a,b):\n",
    "        print(a+b)"
   ]
  },
  {
   "cell_type": "code",
   "execution_count": 6,
   "metadata": {},
   "outputs": [
    {
     "name": "stdout",
     "output_type": "stream",
     "text": [
      "Employee Name: abc\n",
      "Employee Age: 34\n",
      "Employee Salary: 50000\n",
      "Employee Name: xyz\n",
      "Employee Age: 30\n",
      "Employee Salary: 40000\n",
      "50\n",
      "abcxyz\n"
     ]
    }
   ],
   "source": [
    "emp1=Employee(\"abc\",34,50000)\n",
    "emp1.display()\n",
    "emp2=Employee(\"xyz\",30,40000)\n",
    "emp2.display()\n",
    "emp1.add(20,30)\n",
    "emp1.add(\"abc\",\"xyz\")"
   ]
  },
  {
   "cell_type": "code",
   "execution_count": 72,
   "metadata": {},
   "outputs": [],
   "source": [
    "class Employee:\n",
    "    def __init__(self,name,age,salary):\n",
    "        self.name=name\n",
    "        self.age=age\n",
    "        self.salary=salary\n",
    "    @staticmethod\n",
    "    def display(self):\n",
    "        print(\"Employee Name:\",self.name)\n",
    "        print(\"Employee Age:\",self.age)\n",
    "        print(\"Employee Salary:\",self.salary)"
   ]
  },
  {
   "cell_type": "code",
   "execution_count": 73,
   "metadata": {},
   "outputs": [
    {
     "name": "stdout",
     "output_type": "stream",
     "text": [
      "Employee Name: abc\n",
      "Employee Age: 34\n",
      "Employee Salary: 50000\n",
      "Employee Name: xyz\n",
      "Employee Age: 30\n",
      "Employee Salary: 40000\n"
     ]
    }
   ],
   "source": [
    "emp1=Employee(\"abc\",34,50000)\n",
    "emp1.display(emp1)\n",
    "emp2=Employee(\"xyz\",30,40000)\n",
    "emp2.display(emp2)"
   ]
  },
  {
   "cell_type": "code",
   "execution_count": 10,
   "metadata": {},
   "outputs": [],
   "source": [
    "# car:model color year\n",
    "class car:\n",
    "    def __init__(self,model,color,year):\n",
    "        self.model=model\n",
    "        self.color=color\n",
    "        self.year=year\n",
    "    def display(self):\n",
    "        print(\"---------CAR DETAILS--------\")\n",
    "        print(\"Car model:\",self.model)\n",
    "        print(\"Car color:\",self.color)\n",
    "        print(\"Car launched year:\",self.year)        "
   ]
  },
  {
   "cell_type": "code",
   "execution_count": 12,
   "metadata": {},
   "outputs": [
    {
     "name": "stdout",
     "output_type": "stream",
     "text": [
      "---------CAR DETAILS--------\n",
      "Car model: maruti suzuki\n",
      "Car color: white\n",
      "Car launched year: 2012\n",
      "---------CAR DETAILS--------\n",
      "Car model: Thar roxx\n",
      "Car color: black\n",
      "Car launched year: 2018\n"
     ]
    }
   ],
   "source": [
    "c1=car(\"maruti suzuki\",\"white\",2012)\n",
    "c2=car(\"Thar roxx\",\"black\",2018)\n",
    "c1.display()\n",
    "c2.display()"
   ]
  },
  {
   "cell_type": "code",
   "execution_count": 13,
   "metadata": {},
   "outputs": [],
   "source": [
    "#without using constructor\n",
    "class Employee:\n",
    "    no_of_leaves=5 #class variable\n",
    "    def printdetails(self):\n",
    "        print(\"Name:\",self.name) #object/instance vvariable\n",
    "        print(\"Salary:\",self.salary)\n",
    "        print(\"Role:\",self.role)"
   ]
  },
  {
   "cell_type": "code",
   "execution_count": 14,
   "metadata": {},
   "outputs": [
    {
     "name": "stdout",
     "output_type": "stream",
     "text": [
      "Name: Harry\n",
      "Salary: 50000\n",
      "Role: Engineer\n",
      "Name: Rohan\n",
      "Salary: 60000\n",
      "Role: Developer\n"
     ]
    }
   ],
   "source": [
    "#without using constructor\n",
    "harry=Employee()\n",
    "rohan=Employee()\n",
    "harry.name=\"Harry\"\n",
    "harry.salary=50000\n",
    "harry.role=\"Engineer\"\n",
    "rohan.name=\"Rohan\"\n",
    "rohan.salary=60000\n",
    "rohan.role=\"Developer\"\n",
    "harry.printdetails()\n",
    "rohan.printdetails()"
   ]
  },
  {
   "cell_type": "code",
   "execution_count": 15,
   "metadata": {},
   "outputs": [],
   "source": [
    "#with using constructor\n",
    "class Employee:\n",
    "    no_of_leaves=5 #class variable\n",
    "    def __init__(self,name,salary,role):\n",
    "        self.name=name\n",
    "        self.salary=salary\n",
    "        self.role=role\n",
    "    def printdetails(self):\n",
    "        print(\"Name:\",self.name)\n",
    "        print(\"Salary:\",self.salary)\n",
    "        print(\"Role:\",self.role)"
   ]
  },
  {
   "cell_type": "code",
   "execution_count": 17,
   "metadata": {},
   "outputs": [
    {
     "name": "stdout",
     "output_type": "stream",
     "text": [
      "Name: Harry\n",
      "Salary: 50000\n",
      "Role: Engineer\n",
      "Name: Rohan\n",
      "Salary: 60000\n",
      "Role: Developer\n"
     ]
    }
   ],
   "source": [
    "#with using constructor\n",
    "h=Employee(\"Harry\",50000,\"Engineer\")\n",
    "r=Employee(\"Rohan\",60000,\"Developer\")\n",
    "h.printdetails()\n",
    "r.printdetails()"
   ]
  },
  {
   "cell_type": "code",
   "execution_count": 32,
   "metadata": {},
   "outputs": [],
   "source": [
    "class test:\n",
    "    def __init__(self):\n",
    "        self.value=50\n",
    "        self.show()\n",
    "    def show(self):\n",
    "        print(self.value)"
   ]
  },
  {
   "cell_type": "code",
   "execution_count": 34,
   "metadata": {},
   "outputs": [
    {
     "name": "stdout",
     "output_type": "stream",
     "text": [
      "50\n"
     ]
    }
   ],
   "source": [
    "s=test()"
   ]
  },
  {
   "cell_type": "code",
   "execution_count": 37,
   "metadata": {},
   "outputs": [],
   "source": [
    "class check:\n",
    "    def __init__(self,m):\n",
    "        print(\"Address of self:\",id(self))\n",
    "        self.m=m    "
   ]
  },
  {
   "cell_type": "code",
   "execution_count": 41,
   "metadata": {},
   "outputs": [
    {
     "name": "stdout",
     "output_type": "stream",
     "text": [
      "Address of self: 2189404925904\n",
      "Address of onject: 2189404925904\n",
      "5\n",
      "Address of self: 2189405867216\n",
      "Address of onject1: 2189405867216\n",
      "10\n"
     ]
    }
   ],
   "source": [
    "obj=check(5)\n",
    "print(\"Address of onject:\",id(obj))\n",
    "print(obj.m)\n",
    "obj1=check(10)\n",
    "print(\"Address of onject1:\",id(obj1))\n",
    "print(obj1.m)"
   ]
  },
  {
   "cell_type": "code",
   "execution_count": 46,
   "metadata": {},
   "outputs": [],
   "source": [
    "class Account():\n",
    "    rate=5\n",
    "    def some_method(self):\n",
    "        print(self.rate,Account.rate,id(self.rate),id(Account.rate))\n",
    "        self.rate=10\n",
    "        print(self.rate,Account.rate,id(self.rate),id(Account.rate))"
   ]
  },
  {
   "cell_type": "code",
   "execution_count": 47,
   "metadata": {},
   "outputs": [
    {
     "name": "stdout",
     "output_type": "stream",
     "text": [
      "5 5 140728856094624 140728856094624\n",
      "10 5 140728856094784 140728856094624\n"
     ]
    }
   ],
   "source": [
    "a1=Account()\n",
    "a2=Account()\n",
    "a1.some_method()"
   ]
  },
  {
   "cell_type": "markdown",
   "metadata": {},
   "source": [
    "## concept of self and other"
   ]
  },
  {
   "cell_type": "code",
   "execution_count": 49,
   "metadata": {},
   "outputs": [],
   "source": [
    "class Person:\n",
    "    def __init__(self):\n",
    "        self.name=\"john\"\n",
    "        self.age=30\n",
    "    def update(self):\n",
    "        self.age=35\n",
    "    def compare(self,other): #other is reference of another object\n",
    "        print(self.age,other.age)\n",
    "        if self.age==other.age:\n",
    "            print(\"Age is same\")\n",
    "        else:\n",
    "            print(\"Age is Different\")"
   ]
  },
  {
   "cell_type": "code",
   "execution_count": 50,
   "metadata": {},
   "outputs": [
    {
     "name": "stdout",
     "output_type": "stream",
     "text": [
      "30 30\n",
      "35 30\n",
      "35 30\n",
      "Age is Different\n"
     ]
    }
   ],
   "source": [
    "p1=Person()\n",
    "p2=Person()\n",
    "print(p1.age,p2.age)\n",
    "p1.update()\n",
    "print(p1.age,p2.age)\n",
    "p1.compare(p2)"
   ]
  },
  {
   "cell_type": "code",
   "execution_count": 53,
   "metadata": {},
   "outputs": [],
   "source": [
    "class Person:\n",
    "    def __init__(self):\n",
    "        self.name=\"john\"\n",
    "        self.age=30\n",
    "    def update(self):\n",
    "        self.age=35\n",
    "    def compare(self,other,obj):\n",
    "        print(self.age,other.age,obj.age)\n",
    "        if self.age==other.age==obj.age:\n",
    "            print(\"Age is same\")\n",
    "        else:\n",
    "            print(\"Age is Different\")"
   ]
  },
  {
   "cell_type": "code",
   "execution_count": 55,
   "metadata": {},
   "outputs": [
    {
     "name": "stdout",
     "output_type": "stream",
     "text": [
      "35 30 30\n",
      "Age is Different\n",
      "35 35 35\n",
      "Age is same\n"
     ]
    }
   ],
   "source": [
    "p1=Person()\n",
    "p2=Person()\n",
    "p3=Person()\n",
    "p1.update()\n",
    "p1.compare(p2,p3)\n",
    "p2.update()\n",
    "p3.update()\n",
    "p1.compare(p2,p3)"
   ]
  },
  {
   "cell_type": "markdown",
   "metadata": {},
   "source": [
    "## Destructor"
   ]
  },
  {
   "cell_type": "markdown",
   "metadata": {},
   "source": [
    "- use to perform the clean up activity before destroying an object such as closing database connections or file handle\n",
    "- Python has a garbage collection that handles memory management automatically\n",
    "- It cleans up the memory when an object goes out of scope"
   ]
  },
  {
   "cell_type": "code",
   "execution_count": 60,
   "metadata": {},
   "outputs": [],
   "source": [
    "class Employee:\n",
    "    def __init__(self,name,age,salary):\n",
    "        self.name=name\n",
    "        self.age=age\n",
    "        self.salary=salary\n",
    "    def __del__(self):\n",
    "        print(\"Object destroyed!!\")\n",
    "    def display(self):\n",
    "        print(self.name,self.age,self.salary)    "
   ]
  },
  {
   "cell_type": "code",
   "execution_count": 63,
   "metadata": {},
   "outputs": [
    {
     "name": "stdout",
     "output_type": "stream",
     "text": [
      "Object destroyed!!\n",
      "Harry 30 50000\n",
      "Rohan 35 60000\n",
      "Object destroyed!!\n"
     ]
    }
   ],
   "source": [
    "emp1=Employee(\"Harry\",30,50000)\n",
    "emp2=Employee(\"Rohan\",35,60000)\n",
    "emp1.display()\n",
    "emp2.display()\n",
    "del emp2\n",
    "# emp2.display()  --NameError : because object is deleted!!!"
   ]
  },
  {
   "cell_type": "markdown",
   "metadata": {},
   "source": [
    "## class variable vs Instance Variable"
   ]
  },
  {
   "cell_type": "code",
   "execution_count": 66,
   "metadata": {},
   "outputs": [],
   "source": [
    "class Mobile:\n",
    "    fp=\"yes\" # class variable\n",
    "    @classmethod\n",
    "    def show(cls): #class method\n",
    "        print(cls.fp) #Accessing class variable inside class method"
   ]
  },
  {
   "cell_type": "code",
   "execution_count": 67,
   "metadata": {},
   "outputs": [
    {
     "name": "stdout",
     "output_type": "stream",
     "text": [
      "yes\n"
     ]
    }
   ],
   "source": [
    "realme=Mobile()\n",
    "print(Mobile.fp)"
   ]
  },
  {
   "cell_type": "code",
   "execution_count": 68,
   "metadata": {},
   "outputs": [],
   "source": [
    "class mobile:\n",
    "    def __init__(self):\n",
    "        self.model=\"Realme x\" #Instance variable\n",
    "    def show_model(self): #Instance method\n",
    "        print(self.model)  #Accessing instance variable inside Instance method"
   ]
  },
  {
   "cell_type": "code",
   "execution_count": 69,
   "metadata": {},
   "outputs": [
    {
     "name": "stdout",
     "output_type": "stream",
     "text": [
      "Realme x\n"
     ]
    }
   ],
   "source": [
    "realme=mobile()\n",
    "print(realme.model)"
   ]
  },
  {
   "cell_type": "code",
   "execution_count": 1,
   "metadata": {},
   "outputs": [],
   "source": [
    "class Mobile:\n",
    "    fp=\"yes\" # class variable\n",
    "    def __init__(self):\n",
    "        self.model=\"Realme x\" #Instance variable\n",
    "    def show_model(self): #Instance method\n",
    "        print(self.model)  #Accessing instance variable inside Instance method\n",
    "    @classmethod\n",
    "    def show(cls): #class method\n",
    "        print(cls.fp) #Accessing class variable inside class method"
   ]
  },
  {
   "cell_type": "code",
   "execution_count": 3,
   "metadata": {},
   "outputs": [
    {
     "name": "stdout",
     "output_type": "stream",
     "text": [
      "yes\n",
      "Realme x\n",
      "yes\n"
     ]
    }
   ],
   "source": [
    "realme=Mobile()\n",
    "realme.show()\n",
    "realme.show_model()\n",
    "Mobile.show()\n",
    "# Mobile.show_model() -->Error"
   ]
  },
  {
   "cell_type": "code",
   "execution_count": 10,
   "metadata": {},
   "outputs": [],
   "source": [
    "class Fruit:\n",
    "    name=\"orange\"\n",
    "    @classmethod\n",
    "    def printname(cls):\n",
    "        print(\"The name is:\",cls.name)"
   ]
  },
  {
   "cell_type": "code",
   "execution_count": 11,
   "metadata": {},
   "outputs": [
    {
     "name": "stdout",
     "output_type": "stream",
     "text": [
      "The name is: orange\n",
      "The name is: banana\n",
      "The name is: banana\n"
     ]
    }
   ],
   "source": [
    "Fruit.printname()\n",
    "apple=Fruit()\n",
    "Fruit.name=\"banana\"\n",
    "Fruit.printname()\n",
    "apple.name=\"strawberry\"  \n",
    "apple.printname()   #cannot changed class variable using object"
   ]
  },
  {
   "cell_type": "code",
   "execution_count": 12,
   "metadata": {},
   "outputs": [],
   "source": [
    "class car:\n",
    "    wheels=4\n",
    "    def __init__(self):\n",
    "        self.mileage=10\n",
    "        self.model=\"BMW\""
   ]
  },
  {
   "cell_type": "code",
   "execution_count": 13,
   "metadata": {},
   "outputs": [
    {
     "name": "stdout",
     "output_type": "stream",
     "text": [
      "BMW 8 5\n",
      "BMW 10 4\n"
     ]
    }
   ],
   "source": [
    "c1=car()\n",
    "c2=car()\n",
    "c1.mileage=8\n",
    "c1.wheels=5\n",
    "print(c1.model,c1.mileage,c1.wheels)\n",
    "print(c2.model,c2.mileage,c2.wheels)"
   ]
  },
  {
   "cell_type": "markdown",
   "metadata": {},
   "source": [
    "## Encapsulation"
   ]
  },
  {
   "cell_type": "markdown",
   "metadata": {},
   "source": [
    "- Process of binding data and corresponding methods together into a single unit is called encapsulation in python.\n",
    "- Programming techniques that binds the class members (Variables and methods) together and prevents them from being accessed by\n",
    "  other class.\n",
    "- way to ensure security.\n",
    "- It hides the data from the access of outsiders by encapsulating it."
   ]
  },
  {
   "cell_type": "markdown",
   "metadata": {},
   "source": [
    " public                     protected                    private\n",
    " \n",
    "name                       _name                           __name\n",
    "\n",
    "freely use inside         should not be used               inaccessible\n",
    "\n",
    "or outside class           outside the class unless        Inside class defination only.\n",
    "\n",
    "defination.                subclass defination.       "
   ]
  },
  {
   "cell_type": "markdown",
   "metadata": {},
   "source": [
    "## Getters and setters"
   ]
  },
  {
   "cell_type": "code",
   "execution_count": 5,
   "metadata": {},
   "outputs": [],
   "source": [
    "class Library:\n",
    "    def __init__(self,id,name):\n",
    "        self.bookid=id\n",
    "        self.bookname=name\n",
    "    def getbookname(self): #getter\n",
    "        print(\"The book is:\",self.bookname)\n",
    "    def setbookname(self,newbookname): #setter\n",
    "        self.bookname=newbookname"
   ]
  },
  {
   "cell_type": "code",
   "execution_count": 6,
   "metadata": {},
   "outputs": [
    {
     "name": "stdout",
     "output_type": "stream",
     "text": [
      "The book is: The witchers\n",
      "The book is: The witchers returns\n"
     ]
    }
   ],
   "source": [
    "book=Library(1,\"The witchers\")\n",
    "book.getbookname()\n",
    "book.setbookname(\"The witchers returns\")\n",
    "book.getbookname()"
   ]
  },
  {
   "cell_type": "markdown",
   "metadata": {},
   "source": [
    "## Abstraction "
   ]
  },
  {
   "cell_type": "markdown",
   "metadata": {},
   "source": [
    "- Abstraction is a way that shows us the functionality anything holds, hiding all the implementations or inner details.\n",
    "- Main goals of abstraction iss to hide background details or any unnecessary implementation about the data so that users only see the required informaion.\n",
    "- It helps in handling the complexity of the codes"
   ]
  },
  {
   "cell_type": "markdown",
   "metadata": {},
   "source": [
    "## Python generators"
   ]
  },
  {
   "cell_type": "markdown",
   "metadata": {},
   "source": [
    "- use to create iterators\n",
    "- generator can also be an expression in which syntax is similar to the list comprehension.\n",
    "- next() method to keep track of the internal states.\n",
    "- if no value found in iteration it raises stopIteraionError."
   ]
  },
  {
   "cell_type": "code",
   "execution_count": 7,
   "metadata": {},
   "outputs": [],
   "source": [
    "def simple():\n",
    "    for i in range(10):\n",
    "        if i%2==0:\n",
    "            return i"
   ]
  },
  {
   "cell_type": "code",
   "execution_count": 8,
   "metadata": {},
   "outputs": [
    {
     "name": "stdout",
     "output_type": "stream",
     "text": [
      "0\n"
     ]
    }
   ],
   "source": [
    "x=simple()\n",
    "print(x)"
   ]
  },
  {
   "cell_type": "code",
   "execution_count": 14,
   "metadata": {},
   "outputs": [],
   "source": [
    "#using generator function\n",
    "def simple():\n",
    "    for i in range(10):\n",
    "        if i%2==0:\n",
    "            yield i"
   ]
  },
  {
   "cell_type": "code",
   "execution_count": 15,
   "metadata": {},
   "outputs": [
    {
     "name": "stdout",
     "output_type": "stream",
     "text": [
      "[0, 2, 4, 6, 8]\n"
     ]
    }
   ],
   "source": [
    "x=simple()\n",
    "print(list(x))"
   ]
  },
  {
   "cell_type": "code",
   "execution_count": 20,
   "metadata": {},
   "outputs": [],
   "source": [
    "def fun():\n",
    "    yield 10,20,30\n",
    "    yield 20\n",
    "    yield 30\n",
    "    yield 40    "
   ]
  },
  {
   "cell_type": "code",
   "execution_count": 24,
   "metadata": {},
   "outputs": [
    {
     "name": "stdout",
     "output_type": "stream",
     "text": [
      "[(10, 20, 30), 20, 30, 40]\n",
      "\n",
      "(10, 20, 30)\n",
      "20\n",
      "30\n",
      "40\n"
     ]
    }
   ],
   "source": [
    "print(list(fun()))\n",
    "print()\n",
    "for i in fun():\n",
    "    print(i)"
   ]
  },
  {
   "cell_type": "code",
   "execution_count": 25,
   "metadata": {},
   "outputs": [],
   "source": [
    "def city_generator():\n",
    "    yield 'Dehli'\n",
    "    yield 'Mumbai'\n",
    "    yield 'chennai'\n",
    "    yield 'kolkata'\n",
    "    yield 'bangalore'\n",
    "    yield 'Hyderabad'"
   ]
  },
  {
   "cell_type": "code",
   "execution_count": 28,
   "metadata": {
    "scrolled": true
   },
   "outputs": [
    {
     "name": "stdout",
     "output_type": "stream",
     "text": [
      "Dehli\n",
      "Mumbai\n",
      "chennai\n",
      "\n",
      "kolkata\n",
      "bangalore\n",
      "Hyderabad\n"
     ]
    }
   ],
   "source": [
    "city=city_generator()\n",
    "print(next(city))\n",
    "print(next(city))\n",
    "print(next(city))\n",
    "print()\n",
    "for i in city:\n",
    "    print(i)\n",
    "# print(next(city)) -->  StopIteration Error"
   ]
  },
  {
   "cell_type": "code",
   "execution_count": 13,
   "metadata": {},
   "outputs": [],
   "source": [
    "'''\n",
    "WAP to create a class student there will be 3 attribute name,rollno and branch consider branch as a class variable make 3 methods\n",
    "given as below:\n",
    "    1st method is enter marks :-Take 5 sub marks of student\n",
    "    2nd method is display methods:display the details of student and marks if available\n",
    "    3rd method is for calculating the average of all marks\n",
    "'''\n",
    "class student:\n",
    "    branch=\"CEA\"\n",
    "    def __init__(self,name,rollno):\n",
    "        self.name=name\n",
    "        self.rollno=rollno\n",
    "        self.marks=[]\n",
    "        #We can call functions in constructor\n",
    "        #self.enterMarks()\n",
    "        #self.display()\n",
    "        #self.Average()\n",
    "    def enterMarks(self):\n",
    "        for i in range(5):\n",
    "            m=int(input(f\"Enter mark of sub-{i+1}:\"))\n",
    "            self.marks.append(m)\n",
    "    def display(self):\n",
    "        print(\"------------STUDENT DETAILS-------------\")\n",
    "        print(\"Name:\",self.name)\n",
    "        print(\"Rollno:\",self.rollno)\n",
    "        print(\"Branch:\",self.branch)\n",
    "        print(\"Marks of students:\")\n",
    "        if self.marks!=[]:\n",
    "            for i in range(len(self.marks)):\n",
    "                print(f\"marks of subject-{i+1}:\",self.marks[i])\n",
    "        else:\n",
    "            print(\"Marks not entered till yet!!\")\n",
    "        print(\"-----------------------------------------\")    \n",
    "    def Average(self):\n",
    "        if len(self.marks)==0:\n",
    "            print(\"Marks does not enter till yet!!!\")\n",
    "        else:\n",
    "            count=0\n",
    "            total=0\n",
    "            for i in self.marks:\n",
    "                total+=i\n",
    "                count+=1\n",
    "            print(\"Average:\",(total/count))    "
   ]
  },
  {
   "cell_type": "code",
   "execution_count": 14,
   "metadata": {},
   "outputs": [
    {
     "name": "stdout",
     "output_type": "stream",
     "text": [
      "Enter mark of sub-1:50\n",
      "Enter mark of sub-2:40\n",
      "Enter mark of sub-3:75\n",
      "Enter mark of sub-4:63\n",
      "Enter mark of sub-5:85\n",
      "------------STUDENT DETAILS-------------\n",
      "Name: Aman\n",
      "Rollno: 1\n",
      "Branch: CEA\n",
      "Marks of students:\n",
      "marks of subject-1: 50\n",
      "marks of subject-2: 40\n",
      "marks of subject-3: 75\n",
      "marks of subject-4: 63\n",
      "marks of subject-5: 85\n",
      "-----------------------------------------\n",
      "Average: 62.6\n"
     ]
    }
   ],
   "source": [
    "s=student(\"Aman\",1)\n",
    "s.enterMarks()\n",
    "s.display()\n",
    "s.Average()"
   ]
  },
  {
   "cell_type": "code",
   "execution_count": 21,
   "metadata": {},
   "outputs": [],
   "source": [
    "#WAP to create class string and make methods to count uppercase,lowercase,vowels,consonents,digits and spaces in string\n",
    "# Entered by user\n",
    "class String:\n",
    "    def __init__(self):\n",
    "        s=input(\"Enter string:\")\n",
    "        self.s=s\n",
    "        self.uppercount()\n",
    "        self.lowercount()\n",
    "        self.vowelcount()\n",
    "        self.digitcount()\n",
    "        self.spacecount()\n",
    "    def uppercount(self):\n",
    "        up=0\n",
    "        for i in self.s:\n",
    "            if i.isupper():\n",
    "                up+=1\n",
    "        print(\"Total no. of uppercase in given string is:\",up)\n",
    "    def lowercount(self):\n",
    "        lw=0\n",
    "        for i in self.s:\n",
    "            if i.isupper():\n",
    "                lw+=1\n",
    "        print(\"Total no. of lowercase in given string is:\",lw)\n",
    "    def vowelcount(self):\n",
    "        vl=0\n",
    "        co=0\n",
    "        for i in self.s:\n",
    "            if i.lower() in \"aeiou\":\n",
    "                vl+=1\n",
    "            else:\n",
    "                co+=1\n",
    "        print(\"Total no. of vowels in given string is:\",vl)\n",
    "        print(\"Total no. of consonents in given string is:\",co)\n",
    "    def digitcount(self):\n",
    "        di=0\n",
    "        for i in self.s:\n",
    "            if i.isdigit():\n",
    "                di+=1\n",
    "        print(\"Total no. of digits in given string is:\",di)\n",
    "    def spacecount(self):\n",
    "        spcount=0\n",
    "        for i in self.s:\n",
    "            if i==\" \":\n",
    "                spcount+=1\n",
    "        print(\"Total no. of space in given string is:\",spcount)    "
   ]
  },
  {
   "cell_type": "code",
   "execution_count": 22,
   "metadata": {},
   "outputs": [
    {
     "name": "stdout",
     "output_type": "stream",
     "text": [
      "Enter string:abj ASD 13vd JI\n",
      "Total no. of uppercase in given string is: 5\n",
      "Total no. of lowercase in given string is: 5\n",
      "Total no. of vowels in given string is: 3\n",
      "Total no. of consonents in given string is: 12\n",
      "Total no. of digits in given string is: 2\n",
      "Total no. of space in given string is: 3\n"
     ]
    }
   ],
   "source": [
    "s=String()"
   ]
  },
  {
   "cell_type": "code",
   "execution_count": 6,
   "metadata": {},
   "outputs": [],
   "source": [
    "#WAP to create class ATM and make methods to create PIN change PIN, check balance and withdrawal\n",
    "class ATM:\n",
    "    pin=0\n",
    "    def __init__(self,bal):\n",
    "        self.bal=bal\n",
    "        self.pn=[]\n",
    "        self.menu()\n",
    "    def createPIN(self):\n",
    "        self.pin=int(input(\"create new Pin:\"))\n",
    "        while self.pin in self.pn:\n",
    "            print(\"PLEASE ENTER UNIQUE PIN!!!\")\n",
    "            self.pin=int(input(\"RE-enter new Pin:\"))\n",
    "        print(\"PIN created successfully!!\")    \n",
    "    def changePIN(self):\n",
    "        self.pn.append(self.pin)\n",
    "        p=int(input(\"Enter current PIN:\"))\n",
    "        if p==self.pin:\n",
    "            self.createPIN()\n",
    "        else:\n",
    "            while p!=self.pin:\n",
    "                print(\"INCORRECT PIN!!\")\n",
    "                p=int(input(\"RE-EnterPin:\"))\n",
    "            self.createPIN()\n",
    "    def checkBalance(self):\n",
    "        p=int(input(\"Enter pin To check balance:\"))\n",
    "        if p==self.pin:\n",
    "            print(\"Current Balance:\",self.bal)\n",
    "        else:\n",
    "            print(\"PIN not matched!!!\")\n",
    "    def  withdrawal(self):\n",
    "        w=int(input(\"Enter amount to withdrwal:\"))\n",
    "        total=((w*0.05)+w)\n",
    "        if total>self.bal:\n",
    "            print(\"LOW BALANCE!!\")\n",
    "        else:\n",
    "            self.bal-=(total)\n",
    "            print(\"Amout withdrawed:\",w)\n",
    "            print(\"Bank intrest rate: 5%\")\n",
    "            print(\"Total amount:\",total)\n",
    "            print(\"Amount successfully withdraw!!!\")\n",
    "    def menu(self):\n",
    "        while True:\n",
    "            print(\"----------------WELCOME TO ATM--------------\")\n",
    "            print(\"press 1 for Create new Pin\")\n",
    "            print(\"press 2 for Change Pin\")\n",
    "            print(\"press 3 To check balance\")\n",
    "            print(\"press 4 for withdraw amount\")\n",
    "            print(\"Press anything else for 'EXIT'\")\n",
    "            ch=int(input(\"Enter choice:\"))\n",
    "            if ch==1:\n",
    "                self.createPIN()\n",
    "            elif ch==2:\n",
    "                self.changePIN()\n",
    "            elif ch==3:\n",
    "                self.checkBalance()\n",
    "            elif ch==4:\n",
    "                self.withdrawal()\n",
    "            else:\n",
    "                print(\"THANKS FOR USING ATM!!!\")\n",
    "                break\n",
    "                "
   ]
  },
  {
   "cell_type": "code",
   "execution_count": 7,
   "metadata": {},
   "outputs": [
    {
     "name": "stdout",
     "output_type": "stream",
     "text": [
      "----------------WELCOME TO ATM--------------\n",
      "press 1 for Create new Pin\n",
      "press 2 for Change Pin\n",
      "press 3 To check balance\n",
      "press 4 for withdraw amount\n",
      "Press anything else for 'EXIT'\n",
      "Enter choice:1\n",
      "create new Pin:2233\n",
      "PIN created successfully!!\n",
      "----------------WELCOME TO ATM--------------\n",
      "press 1 for Create new Pin\n",
      "press 2 for Change Pin\n",
      "press 3 To check balance\n",
      "press 4 for withdraw amount\n",
      "Press anything else for 'EXIT'\n",
      "Enter choice:4\n",
      "Enter amount to withdrwal:27000\n",
      "Amout withdrawed: 27000\n",
      "Bank intrest rate: 5%\n",
      "Total amount: 28350.0\n",
      "Amount successfully withdraw!!!\n",
      "----------------WELCOME TO ATM--------------\n",
      "press 1 for Create new Pin\n",
      "press 2 for Change Pin\n",
      "press 3 To check balance\n",
      "press 4 for withdraw amount\n",
      "Press anything else for 'EXIT'\n",
      "Enter choice:856\n",
      "THANKS FOR USING ATM!!!\n"
     ]
    }
   ],
   "source": [
    "atm=ATM(50000)"
   ]
  },
  {
   "cell_type": "code",
   "execution_count": null,
   "metadata": {},
   "outputs": [],
   "source": []
  }
 ],
 "metadata": {
  "kernelspec": {
   "display_name": "Python 3",
   "language": "python",
   "name": "python3"
  },
  "language_info": {
   "codemirror_mode": {
    "name": "ipython",
    "version": 3
   },
   "file_extension": ".py",
   "mimetype": "text/x-python",
   "name": "python",
   "nbconvert_exporter": "python",
   "pygments_lexer": "ipython3",
   "version": "3.8.5"
  }
 },
 "nbformat": 4,
 "nbformat_minor": 4
}
