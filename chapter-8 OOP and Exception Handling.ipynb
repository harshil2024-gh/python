{
 "cells": [
  {
   "cell_type": "markdown",
   "metadata": {},
   "source": [
    "# CH-8 OOP and Exception Handling"
   ]
  },
  {
   "cell_type": "markdown",
   "metadata": {},
   "source": [
    "Error:\n",
    "   -  Syntax Error\n",
    "   -  Exceptions \n",
    "    \n",
    "- Errors are problems in program due to which program will stop th Execution.\n",
    "\n",
    "- Exception are raised when some internalevents occurs which change the flow of program.\n",
    "\n",
    "- when exception occurs,python will stop and generate error message."
   ]
  },
  {
   "cell_type": "code",
   "execution_count": 5,
   "metadata": {},
   "outputs": [
    {
     "name": "stdout",
     "output_type": "stream",
     "text": [
      "5.0\n",
      "Exception occured!!\n"
     ]
    }
   ],
   "source": [
    "def div(a,b):\n",
    "    return a/b\n",
    "try:\n",
    "    print(div(5,1))\n",
    "    print(div(5,0))\n",
    "except:\n",
    "    print(\"Exception occured!!\")  "
   ]
  },
  {
   "cell_type": "code",
   "execution_count": 10,
   "metadata": {},
   "outputs": [
    {
     "name": "stdout",
     "output_type": "stream",
     "text": [
      "5.0\n",
      "No exception\n"
     ]
    }
   ],
   "source": [
    "def div(a,b):\n",
    "    return a/b\n",
    "try:\n",
    "    print(div(5,1))\n",
    "except:\n",
    "    print(\"Exception occured!!\")\n",
    "else:\n",
    "    print(\"No exception\")"
   ]
  },
  {
   "cell_type": "code",
   "execution_count": 8,
   "metadata": {},
   "outputs": [
    {
     "name": "stdout",
     "output_type": "stream",
     "text": [
      "5.0\n",
      "No exception\n",
      "This always print\n"
     ]
    }
   ],
   "source": [
    "def div(a,b):\n",
    "    return a/b\n",
    "try:\n",
    "    print(div(5,1))\n",
    "except:\n",
    "    print(\"Exception occured!!\")\n",
    "else:\n",
    "    print(\"No exception\")\n",
    "finally:\n",
    "    print(\"This always print\")"
   ]
  },
  {
   "cell_type": "code",
   "execution_count": 15,
   "metadata": {},
   "outputs": [
    {
     "name": "stdout",
     "output_type": "stream",
     "text": [
      "division by zero\n"
     ]
    }
   ],
   "source": [
    "def div(a,b):\n",
    "    return a/b\n",
    "try:\n",
    "    print(div(5,0))\n",
    "except Exception as e:\n",
    "    print(e)"
   ]
  },
  {
   "cell_type": "code",
   "execution_count": 12,
   "metadata": {},
   "outputs": [
    {
     "name": "stdout",
     "output_type": "stream",
     "text": [
      "This is Python 1\n",
      "This is Python 2\n",
      "This is Python 3\n",
      "This is Python 4\n",
      "5\n",
      "2.5\n",
      "list index out of range\n"
     ]
    }
   ],
   "source": [
    "m=5\n",
    "try:\n",
    "    f=open(\"demo.txt\",\"r\")\n",
    "    print(f.read())\n",
    "    print(m)\n",
    "    print(5/2)\n",
    "    l=[1,2,3]\n",
    "    l[100]\n",
    "except FileNotFoundError:\n",
    "    print(\"File Not Found\")\n",
    "except NameError:\n",
    "    print(\"Variable Not defined\")\n",
    "except ZeroDivisionError:\n",
    "    print(\"Can't Divide By Zero Error!!!\")\n",
    "except Exception as e:\n",
    "    print(e)"
   ]
  },
  {
   "cell_type": "code",
   "execution_count": 27,
   "metadata": {},
   "outputs": [
    {
     "name": "stdout",
     "output_type": "stream",
     "text": [
      "name 'g' is not defined\n",
      "<class 'NameError'>\n",
      "True\n",
      "rest of the code\n"
     ]
    }
   ],
   "source": [
    "a=10\n",
    "b=0\n",
    "try:\n",
    "    d=a/g\n",
    "    print(d)\n",
    "except(NameError,ZeroDivisionError) as obj:\n",
    "    print(obj)\n",
    "    print(type(obj))\n",
    "    print(type(obj)==NameError)\n",
    "print(\"rest of the code\")    "
   ]
  },
  {
   "cell_type": "code",
   "execution_count": 29,
   "metadata": {},
   "outputs": [
    {
     "ename": "TypeError",
     "evalue": "a should be integer",
     "output_type": "error",
     "traceback": [
      "\u001b[1;31m---------------------------------------------------------------------------\u001b[0m",
      "\u001b[1;31mTypeError\u001b[0m                                 Traceback (most recent call last)",
      "\u001b[1;32m<ipython-input-29-1bd2f8411964>\u001b[0m in \u001b[0;36m<module>\u001b[1;34m\u001b[0m\n\u001b[0;32m      6\u001b[0m         \u001b[1;32mraise\u001b[0m \u001b[0mTypeError\u001b[0m\u001b[1;33m(\u001b[0m\u001b[1;34m\"b should be integer\"\u001b[0m\u001b[1;33m)\u001b[0m\u001b[1;33m\u001b[0m\u001b[1;33m\u001b[0m\u001b[0m\n\u001b[0;32m      7\u001b[0m     \u001b[1;32mreturn\u001b[0m\u001b[1;33m(\u001b[0m\u001b[0ma\u001b[0m\u001b[1;33m+\u001b[0m\u001b[0mb\u001b[0m\u001b[1;33m)\u001b[0m\u001b[1;33m\u001b[0m\u001b[1;33m\u001b[0m\u001b[0m\n\u001b[1;32m----> 8\u001b[1;33m \u001b[0mprint\u001b[0m\u001b[1;33m(\u001b[0m\u001b[0madd\u001b[0m\u001b[1;33m(\u001b[0m\u001b[1;34m\"xyz\"\u001b[0m\u001b[1;33m,\u001b[0m\u001b[1;34m\"abc\"\u001b[0m\u001b[1;33m)\u001b[0m\u001b[1;33m)\u001b[0m\u001b[1;33m\u001b[0m\u001b[1;33m\u001b[0m\u001b[0m\n\u001b[0m\u001b[0;32m      9\u001b[0m \u001b[0mprint\u001b[0m\u001b[1;33m(\u001b[0m\u001b[0madd\u001b[0m\u001b[1;33m(\u001b[0m\u001b[1;36m10\u001b[0m\u001b[1;33m,\u001b[0m\u001b[1;36m20\u001b[0m\u001b[1;33m)\u001b[0m\u001b[1;33m)\u001b[0m\u001b[1;33m\u001b[0m\u001b[1;33m\u001b[0m\u001b[0m\n",
      "\u001b[1;32m<ipython-input-29-1bd2f8411964>\u001b[0m in \u001b[0;36madd\u001b[1;34m(a, b)\u001b[0m\n\u001b[0;32m      2\u001b[0m \u001b[1;32mdef\u001b[0m \u001b[0madd\u001b[0m\u001b[1;33m(\u001b[0m\u001b[0ma\u001b[0m\u001b[1;33m,\u001b[0m\u001b[0mb\u001b[0m\u001b[1;33m)\u001b[0m\u001b[1;33m:\u001b[0m\u001b[1;33m\u001b[0m\u001b[1;33m\u001b[0m\u001b[0m\n\u001b[0;32m      3\u001b[0m     \u001b[1;32mif\u001b[0m \u001b[0mtype\u001b[0m\u001b[1;33m(\u001b[0m\u001b[0ma\u001b[0m\u001b[1;33m)\u001b[0m\u001b[1;33m==\u001b[0m\u001b[0mstr\u001b[0m\u001b[1;33m:\u001b[0m\u001b[1;33m\u001b[0m\u001b[1;33m\u001b[0m\u001b[0m\n\u001b[1;32m----> 4\u001b[1;33m         \u001b[1;32mraise\u001b[0m \u001b[0mTypeError\u001b[0m\u001b[1;33m(\u001b[0m\u001b[1;34m\"a should be integer\"\u001b[0m\u001b[1;33m)\u001b[0m\u001b[1;33m\u001b[0m\u001b[1;33m\u001b[0m\u001b[0m\n\u001b[0m\u001b[0;32m      5\u001b[0m     \u001b[1;32mif\u001b[0m \u001b[0mtype\u001b[0m\u001b[1;33m(\u001b[0m\u001b[0mb\u001b[0m\u001b[1;33m)\u001b[0m\u001b[1;33m==\u001b[0m\u001b[0mstr\u001b[0m\u001b[1;33m:\u001b[0m\u001b[1;33m\u001b[0m\u001b[1;33m\u001b[0m\u001b[0m\n\u001b[0;32m      6\u001b[0m         \u001b[1;32mraise\u001b[0m \u001b[0mTypeError\u001b[0m\u001b[1;33m(\u001b[0m\u001b[1;34m\"b should be integer\"\u001b[0m\u001b[1;33m)\u001b[0m\u001b[1;33m\u001b[0m\u001b[1;33m\u001b[0m\u001b[0m\n",
      "\u001b[1;31mTypeError\u001b[0m: a should be integer"
     ]
    }
   ],
   "source": [
    "#Raise an Exception\n",
    "def add(a,b):\n",
    "    if type(a)==str:\n",
    "        raise TypeError(\"a should be integer\")\n",
    "    if type(b)==str:\n",
    "        raise TypeError(\"b should be integer\")\n",
    "    return(a+b)\n",
    "print(add(\"xyz\",\"abc\"))"
   ]
  },
  {
   "cell_type": "code",
   "execution_count": 36,
   "metadata": {},
   "outputs": [
    {
     "name": "stdout",
     "output_type": "stream",
     "text": [
      "30\n"
     ]
    }
   ],
   "source": [
    "print(add(10,20))"
   ]
  },
  {
   "cell_type": "code",
   "execution_count": 37,
   "metadata": {},
   "outputs": [],
   "source": [
    "def add(a,b):\n",
    "    return a+b\n",
    "# print(add(\"xyz\",20))  #TypeError: can only concatenate str (not \"int\") to str"
   ]
  },
  {
   "cell_type": "code",
   "execution_count": 8,
   "metadata": {},
   "outputs": [],
   "source": [
    "class myexception(Exception):\n",
    "    def __init__(self,arg):\n",
    "        self.msg=arg"
   ]
  },
  {
   "cell_type": "code",
   "execution_count": 7,
   "metadata": {},
   "outputs": [
    {
     "ename": "myexception",
     "evalue": "Personalized Exception",
     "output_type": "error",
     "traceback": [
      "\u001b[1;31m---------------------------------------------------------------------------\u001b[0m",
      "\u001b[1;31mmyexception\u001b[0m                               Traceback (most recent call last)",
      "\u001b[1;32m<ipython-input-7-aa8c5a398c7e>\u001b[0m in \u001b[0;36m<module>\u001b[1;34m\u001b[0m\n\u001b[0;32m      5\u001b[0m         \u001b[1;32mraise\u001b[0m \u001b[0mTypeError\u001b[0m\u001b[1;33m(\u001b[0m\u001b[1;34m\"b should be integer\"\u001b[0m\u001b[1;33m)\u001b[0m\u001b[1;33m\u001b[0m\u001b[1;33m\u001b[0m\u001b[0m\n\u001b[0;32m      6\u001b[0m     \u001b[1;32mreturn\u001b[0m\u001b[1;33m(\u001b[0m\u001b[0ma\u001b[0m\u001b[1;33m+\u001b[0m\u001b[0mb\u001b[0m\u001b[1;33m)\u001b[0m\u001b[1;33m\u001b[0m\u001b[1;33m\u001b[0m\u001b[0m\n\u001b[1;32m----> 7\u001b[1;33m \u001b[0mprint\u001b[0m\u001b[1;33m(\u001b[0m\u001b[0madd\u001b[0m\u001b[1;33m(\u001b[0m\u001b[1;34m\"10\"\u001b[0m\u001b[1;33m,\u001b[0m\u001b[1;34m\"abc\"\u001b[0m\u001b[1;33m)\u001b[0m\u001b[1;33m)\u001b[0m\u001b[1;33m\u001b[0m\u001b[1;33m\u001b[0m\u001b[0m\n\u001b[0m",
      "\u001b[1;32m<ipython-input-7-aa8c5a398c7e>\u001b[0m in \u001b[0;36madd\u001b[1;34m(a, b)\u001b[0m\n\u001b[0;32m      1\u001b[0m \u001b[1;32mdef\u001b[0m \u001b[0madd\u001b[0m\u001b[1;33m(\u001b[0m\u001b[0ma\u001b[0m\u001b[1;33m,\u001b[0m\u001b[0mb\u001b[0m\u001b[1;33m)\u001b[0m\u001b[1;33m:\u001b[0m\u001b[1;33m\u001b[0m\u001b[1;33m\u001b[0m\u001b[0m\n\u001b[0;32m      2\u001b[0m     \u001b[1;32mif\u001b[0m \u001b[0mtype\u001b[0m\u001b[1;33m(\u001b[0m\u001b[0ma\u001b[0m\u001b[1;33m)\u001b[0m\u001b[1;33m==\u001b[0m\u001b[0mstr\u001b[0m\u001b[1;33m:\u001b[0m\u001b[1;33m\u001b[0m\u001b[1;33m\u001b[0m\u001b[0m\n\u001b[1;32m----> 3\u001b[1;33m         \u001b[1;32mraise\u001b[0m \u001b[0mmyexception\u001b[0m\u001b[1;33m(\u001b[0m\u001b[1;34m\"Personalized Exception\"\u001b[0m\u001b[1;33m)\u001b[0m\u001b[1;33m\u001b[0m\u001b[1;33m\u001b[0m\u001b[0m\n\u001b[0m\u001b[0;32m      4\u001b[0m     \u001b[1;32mif\u001b[0m \u001b[0mtype\u001b[0m\u001b[1;33m(\u001b[0m\u001b[0mb\u001b[0m\u001b[1;33m)\u001b[0m\u001b[1;33m==\u001b[0m\u001b[0mstr\u001b[0m\u001b[1;33m:\u001b[0m\u001b[1;33m\u001b[0m\u001b[1;33m\u001b[0m\u001b[0m\n\u001b[0;32m      5\u001b[0m         \u001b[1;32mraise\u001b[0m \u001b[0mTypeError\u001b[0m\u001b[1;33m(\u001b[0m\u001b[1;34m\"b should be integer\"\u001b[0m\u001b[1;33m)\u001b[0m\u001b[1;33m\u001b[0m\u001b[1;33m\u001b[0m\u001b[0m\n",
      "\u001b[1;31mmyexception\u001b[0m: Personalized Exception"
     ]
    }
   ],
   "source": [
    "def add(a,b):\n",
    "    if type(a)==str:\n",
    "        raise myexception(\"Personalized Exception\")\n",
    "    if type(b)==str:\n",
    "        raise TypeError(\"b should be integer\")\n",
    "    return(a+b)\n",
    "print(add(\"10\",\"abc\"))"
   ]
  },
  {
   "cell_type": "code",
   "execution_count": 9,
   "metadata": {},
   "outputs": [],
   "source": [
    "#create a function which raise an exception if net amount is less the 2000\n",
    "class LowBalanceException(Exception):\n",
    "    def __init__(self,arg):\n",
    "        self.msg=arg"
   ]
  },
  {
   "cell_type": "code",
   "execution_count": 14,
   "metadata": {},
   "outputs": [
    {
     "name": "stdout",
     "output_type": "stream",
     "text": [
      "Remaining amount: 7000\n",
      "Low Balance!!!\n"
     ]
    }
   ],
   "source": [
    "def f(amt,wdr):\n",
    "    try:\n",
    "        if (amt-wdr)<2000:\n",
    "            raise LowBalanceException(\"Low Balance!!!\")\n",
    "        else:\n",
    "            print(\"Remaining amount:\",(amt-wdr))\n",
    "    except Exception as e:\n",
    "        print(e)\n",
    "f(10000,3000)\n",
    "f(10000,9000)"
   ]
  },
  {
   "cell_type": "markdown",
   "metadata": {},
   "source": [
    "## Object Oriented Programming"
   ]
  },
  {
   "cell_type": "markdown",
   "metadata": {},
   "source": [
    "->Everything in python is class/object"
   ]
  },
  {
   "cell_type": "code",
   "execution_count": 15,
   "metadata": {},
   "outputs": [
    {
     "name": "stdout",
     "output_type": "stream",
     "text": [
      "<class 'int'>\n",
      "<class 'str'>\n",
      "<class 'module'>\n",
      "<class 'type'>\n"
     ]
    }
   ],
   "source": [
    "x=42\n",
    "print(type(x))\n",
    "y=\"Hello\"\n",
    "print(type(y))\n",
    "import math\n",
    "print(type(math))\n",
    "print(type(type))"
   ]
  },
  {
   "cell_type": "markdown",
   "metadata": {},
   "source": [
    "Class\n",
    "-  user defined data structure that biinds the data members and methods into a single unit\n",
    "-  class is a blueprint or code template for object creation\n",
    "-  using a class you can create as many object you want\n",
    "\n",
    "Object\n",
    "\n",
    "-  Object is an instance of a class\n",
    "-  it is collection of attributes and methods\n",
    "-  It is used to perform actions"
   ]
  },
  {
   "cell_type": "markdown",
   "metadata": {},
   "source": [
    "Class -->Person \n",
    "\n",
    "     -  states --> Name,gender,profession\n",
    "     -  behaviour--> work(),study() [methods]"
   ]
  },
  {
   "cell_type": "markdown",
   "metadata": {},
   "source": [
    "class classname:\n",
    "\n",
    "    def __init__(self):  -->Constructor\n",
    "          self.value=10\n",
    "          self.name=\"abc\"\n",
    "          \n",
    "    def method_name(self):\n",
    "        - body of method"
   ]
  },
  {
   "cell_type": "code",
   "execution_count": 21,
   "metadata": {},
   "outputs": [],
   "source": [
    "class Employee:\n",
    "    def __init__(self,name,age,salary):\n",
    "        self.name=name\n",
    "        self.age=age\n",
    "        self.salary=salary\n",
    "    def display(self):\n",
    "        print(\"Employee Name:\",self.name)\n",
    "        print(\"Employee Age:\",self.age)\n",
    "        print(\"Employee Salary:\",self.salary)"
   ]
  },
  {
   "cell_type": "code",
   "execution_count": 22,
   "metadata": {},
   "outputs": [
    {
     "name": "stdout",
     "output_type": "stream",
     "text": [
      "Employee Name: abc\n",
      "Employee Age: 34\n",
      "Employee Salary: 50000\n",
      "Employee Name: xyz\n",
      "Employee Age: 36\n",
      "Employee Salary: 60000\n"
     ]
    }
   ],
   "source": [
    "emp1=Employee(\"abc\",34,50000)\n",
    "emp1.display()\n",
    "emp2=Employee(\"xyz\",36,60000)\n",
    "emp2.display()"
   ]
  },
  {
   "cell_type": "markdown",
   "metadata": {},
   "source": [
    "Constructor-->\n",
    "  -  unique function that gets called automatically when a object is created of a class.\n",
    "  -  The main purpose of a constructor is to initialize or assign values to a data members of that class.\n",
    "  -  It cannot return any value other than None"
   ]
  },
  {
   "cell_type": "code",
   "execution_count": 32,
   "metadata": {},
   "outputs": [],
   "source": [
    "class Employee:\n",
    "    x=20\n",
    "    def __init__(self,name,age,salary):\n",
    "        self.name=name\n",
    "        self.age=age\n",
    "        self.salary=salary\n",
    "    @staticmethod\n",
    "    def display():\n",
    "        print(\"Employee Age:\",x)\n",
    "        "
   ]
  },
  {
   "cell_type": "code",
   "execution_count": 34,
   "metadata": {},
   "outputs": [
    {
     "name": "stdout",
     "output_type": "stream",
     "text": [
      "Employee Age: 42\n",
      "Employee Age: 42\n"
     ]
    }
   ],
   "source": [
    "emp1=Employee(\"abc\",34,50000)\n",
    "emp1.display()\n",
    "emp2=Employee(\"xyz\",36,60000)\n",
    "emp2.display()"
   ]
  },
  {
   "cell_type": "code",
   "execution_count": 5,
   "metadata": {},
   "outputs": [],
   "source": [
    "class Employee:\n",
    "    def __init__(self,name,age,salary):\n",
    "        self.name=name\n",
    "        self.age=age\n",
    "        self.salary=salary\n",
    "    def display(self):\n",
    "        print(\"Employee Name:\",self.name)\n",
    "        print(\"Employee Age:\",self.age)\n",
    "        print(\"Employee Salary:\",self.salary)\n",
    "    @staticmethod\n",
    "    def add(a,b):\n",
    "        print(a+b)"
   ]
  },
  {
   "cell_type": "code",
   "execution_count": 6,
   "metadata": {},
   "outputs": [
    {
     "name": "stdout",
     "output_type": "stream",
     "text": [
      "Employee Name: abc\n",
      "Employee Age: 34\n",
      "Employee Salary: 50000\n",
      "Employee Name: xyz\n",
      "Employee Age: 30\n",
      "Employee Salary: 40000\n",
      "50\n",
      "abcxyz\n"
     ]
    }
   ],
   "source": [
    "emp1=Employee(\"abc\",34,50000)\n",
    "emp1.display()\n",
    "emp2=Employee(\"xyz\",30,40000)\n",
    "emp2.display()\n",
    "emp1.add(20,30)\n",
    "emp1.add(\"abc\",\"xyz\")"
   ]
  },
  {
   "cell_type": "code",
   "execution_count": 72,
   "metadata": {},
   "outputs": [],
   "source": [
    "class Employee:\n",
    "    def __init__(self,name,age,salary):\n",
    "        self.name=name\n",
    "        self.age=age\n",
    "        self.salary=salary\n",
    "    @staticmethod\n",
    "    def display(self):\n",
    "        print(\"Employee Name:\",self.name)\n",
    "        print(\"Employee Age:\",self.age)\n",
    "        print(\"Employee Salary:\",self.salary)"
   ]
  },
  {
   "cell_type": "code",
   "execution_count": 73,
   "metadata": {},
   "outputs": [
    {
     "name": "stdout",
     "output_type": "stream",
     "text": [
      "Employee Name: abc\n",
      "Employee Age: 34\n",
      "Employee Salary: 50000\n",
      "Employee Name: xyz\n",
      "Employee Age: 30\n",
      "Employee Salary: 40000\n"
     ]
    }
   ],
   "source": [
    "emp1=Employee(\"abc\",34,50000)\n",
    "emp1.display(emp1)\n",
    "emp2=Employee(\"xyz\",30,40000)\n",
    "emp2.display(emp2)"
   ]
  },
  {
   "cell_type": "code",
   "execution_count": 10,
   "metadata": {},
   "outputs": [],
   "source": [
    "# car:model color year\n",
    "class car:\n",
    "    def __init__(self,model,color,year):\n",
    "        self.model=model\n",
    "        self.color=color\n",
    "        self.year=year\n",
    "    def display(self):\n",
    "        print(\"---------CAR DETAILS--------\")\n",
    "        print(\"Car model:\",self.model)\n",
    "        print(\"Car color:\",self.color)\n",
    "        print(\"Car launched year:\",self.year)        "
   ]
  },
  {
   "cell_type": "code",
   "execution_count": 12,
   "metadata": {},
   "outputs": [
    {
     "name": "stdout",
     "output_type": "stream",
     "text": [
      "---------CAR DETAILS--------\n",
      "Car model: maruti suzuki\n",
      "Car color: white\n",
      "Car launched year: 2012\n",
      "---------CAR DETAILS--------\n",
      "Car model: Thar roxx\n",
      "Car color: black\n",
      "Car launched year: 2018\n"
     ]
    }
   ],
   "source": [
    "c1=car(\"maruti suzuki\",\"white\",2012)\n",
    "c2=car(\"Thar roxx\",\"black\",2018)\n",
    "c1.display()\n",
    "c2.display()"
   ]
  },
  {
   "cell_type": "code",
   "execution_count": 13,
   "metadata": {},
   "outputs": [],
   "source": [
    "#without using constructor\n",
    "class Employee:\n",
    "    no_of_leaves=5 #class variable\n",
    "    def printdetails(self):\n",
    "        print(\"Name:\",self.name) #object/instance vvariable\n",
    "        print(\"Salary:\",self.salary)\n",
    "        print(\"Role:\",self.role)"
   ]
  },
  {
   "cell_type": "code",
   "execution_count": 14,
   "metadata": {},
   "outputs": [
    {
     "name": "stdout",
     "output_type": "stream",
     "text": [
      "Name: Harry\n",
      "Salary: 50000\n",
      "Role: Engineer\n",
      "Name: Rohan\n",
      "Salary: 60000\n",
      "Role: Developer\n"
     ]
    }
   ],
   "source": [
    "#without using constructor\n",
    "harry=Employee()\n",
    "rohan=Employee()\n",
    "harry.name=\"Harry\"\n",
    "harry.salary=50000\n",
    "harry.role=\"Engineer\"\n",
    "rohan.name=\"Rohan\"\n",
    "rohan.salary=60000\n",
    "rohan.role=\"Developer\"\n",
    "harry.printdetails()\n",
    "rohan.printdetails()"
   ]
  },
  {
   "cell_type": "code",
   "execution_count": 15,
   "metadata": {},
   "outputs": [],
   "source": [
    "#with using constructor\n",
    "class Employee:\n",
    "    no_of_leaves=5 #class variable\n",
    "    def __init__(self,name,salary,role):\n",
    "        self.name=name\n",
    "        self.salary=salary\n",
    "        self.role=role\n",
    "    def printdetails(self):\n",
    "        print(\"Name:\",self.name)\n",
    "        print(\"Salary:\",self.salary)\n",
    "        print(\"Role:\",self.role)"
   ]
  },
  {
   "cell_type": "code",
   "execution_count": 17,
   "metadata": {},
   "outputs": [
    {
     "name": "stdout",
     "output_type": "stream",
     "text": [
      "Name: Harry\n",
      "Salary: 50000\n",
      "Role: Engineer\n",
      "Name: Rohan\n",
      "Salary: 60000\n",
      "Role: Developer\n"
     ]
    }
   ],
   "source": [
    "#with using constructor\n",
    "h=Employee(\"Harry\",50000,\"Engineer\")\n",
    "r=Employee(\"Rohan\",60000,\"Developer\")\n",
    "h.printdetails()\n",
    "r.printdetails()"
   ]
  },
  {
   "cell_type": "code",
   "execution_count": 32,
   "metadata": {},
   "outputs": [],
   "source": [
    "class test:\n",
    "    def __init__(self):\n",
    "        self.value=50\n",
    "        self.show()\n",
    "    def show(self):\n",
    "        print(self.value)"
   ]
  },
  {
   "cell_type": "code",
   "execution_count": 34,
   "metadata": {},
   "outputs": [
    {
     "name": "stdout",
     "output_type": "stream",
     "text": [
      "50\n"
     ]
    }
   ],
   "source": [
    "s=test()"
   ]
  },
  {
   "cell_type": "code",
   "execution_count": 37,
   "metadata": {},
   "outputs": [],
   "source": [
    "class check:\n",
    "    def __init__(self,m):\n",
    "        print(\"Address of self:\",id(self))\n",
    "        self.m=m    "
   ]
  },
  {
   "cell_type": "code",
   "execution_count": 41,
   "metadata": {},
   "outputs": [
    {
     "name": "stdout",
     "output_type": "stream",
     "text": [
      "Address of self: 2189404925904\n",
      "Address of onject: 2189404925904\n",
      "5\n",
      "Address of self: 2189405867216\n",
      "Address of onject1: 2189405867216\n",
      "10\n"
     ]
    }
   ],
   "source": [
    "obj=check(5)\n",
    "print(\"Address of onject:\",id(obj))\n",
    "print(obj.m)\n",
    "obj1=check(10)\n",
    "print(\"Address of onject1:\",id(obj1))\n",
    "print(obj1.m)"
   ]
  },
  {
   "cell_type": "code",
   "execution_count": 46,
   "metadata": {},
   "outputs": [],
   "source": [
    "class Account():\n",
    "    rate=5\n",
    "    def some_method(self):\n",
    "        print(self.rate,Account.rate,id(self.rate),id(Account.rate))\n",
    "        self.rate=10\n",
    "        print(self.rate,Account.rate,id(self.rate),id(Account.rate))"
   ]
  },
  {
   "cell_type": "code",
   "execution_count": 47,
   "metadata": {},
   "outputs": [
    {
     "name": "stdout",
     "output_type": "stream",
     "text": [
      "5 5 140728856094624 140728856094624\n",
      "10 5 140728856094784 140728856094624\n"
     ]
    }
   ],
   "source": [
    "a1=Account()\n",
    "a2=Account()\n",
    "a1.some_method()"
   ]
  },
  {
   "cell_type": "markdown",
   "metadata": {},
   "source": [
    "## concept of self and other"
   ]
  },
  {
   "cell_type": "code",
   "execution_count": 49,
   "metadata": {},
   "outputs": [],
   "source": [
    "class Person:\n",
    "    def __init__(self):\n",
    "        self.name=\"john\"\n",
    "        self.age=30\n",
    "    def update(self):\n",
    "        self.age=35\n",
    "    def compare(self,other): #other is reference of another object\n",
    "        print(self.age,other.age)\n",
    "        if self.age==other.age:\n",
    "            print(\"Age is same\")\n",
    "        else:\n",
    "            print(\"Age is Different\")"
   ]
  },
  {
   "cell_type": "code",
   "execution_count": 50,
   "metadata": {},
   "outputs": [
    {
     "name": "stdout",
     "output_type": "stream",
     "text": [
      "30 30\n",
      "35 30\n",
      "35 30\n",
      "Age is Different\n"
     ]
    }
   ],
   "source": [
    "p1=Person()\n",
    "p2=Person()\n",
    "print(p1.age,p2.age)\n",
    "p1.update()\n",
    "print(p1.age,p2.age)\n",
    "p1.compare(p2)"
   ]
  },
  {
   "cell_type": "code",
   "execution_count": 53,
   "metadata": {},
   "outputs": [],
   "source": [
    "class Person:\n",
    "    def __init__(self):\n",
    "        self.name=\"john\"\n",
    "        self.age=30\n",
    "    def update(self):\n",
    "        self.age=35\n",
    "    def compare(self,other,obj):\n",
    "        print(self.age,other.age,obj.age)\n",
    "        if self.age==other.age==obj.age:\n",
    "            print(\"Age is same\")\n",
    "        else:\n",
    "            print(\"Age is Different\")"
   ]
  },
  {
   "cell_type": "code",
   "execution_count": 55,
   "metadata": {},
   "outputs": [
    {
     "name": "stdout",
     "output_type": "stream",
     "text": [
      "35 30 30\n",
      "Age is Different\n",
      "35 35 35\n",
      "Age is same\n"
     ]
    }
   ],
   "source": [
    "p1=Person()\n",
    "p2=Person()\n",
    "p3=Person()\n",
    "p1.update()\n",
    "p1.compare(p2,p3)\n",
    "p2.update()\n",
    "p3.update()\n",
    "p1.compare(p2,p3)"
   ]
  },
  {
   "cell_type": "markdown",
   "metadata": {},
   "source": [
    "## Destructor"
   ]
  },
  {
   "cell_type": "markdown",
   "metadata": {},
   "source": [
    "- use to perform the clean up activity before destroying an object such as closing database connections or file handle\n",
    "- Python has a garbage collection that handles memory management automatically\n",
    "- It cleans up the memory when an object goes out of scope"
   ]
  },
  {
   "cell_type": "code",
   "execution_count": 60,
   "metadata": {},
   "outputs": [],
   "source": [
    "class Employee:\n",
    "    def __init__(self,name,age,salary):\n",
    "        self.name=name\n",
    "        self.age=age\n",
    "        self.salary=salary\n",
    "    def __del__(self):\n",
    "        print(\"Object destroyed!!\")\n",
    "    def display(self):\n",
    "        print(self.name,self.age,self.salary)    "
   ]
  },
  {
   "cell_type": "code",
   "execution_count": 63,
   "metadata": {},
   "outputs": [
    {
     "name": "stdout",
     "output_type": "stream",
     "text": [
      "Object destroyed!!\n",
      "Harry 30 50000\n",
      "Rohan 35 60000\n",
      "Object destroyed!!\n"
     ]
    }
   ],
   "source": [
    "emp1=Employee(\"Harry\",30,50000)\n",
    "emp2=Employee(\"Rohan\",35,60000)\n",
    "emp1.display()\n",
    "emp2.display()\n",
    "del emp2\n",
    "# emp2.display()  --NameError : because object is deleted!!!"
   ]
  },
  {
   "cell_type": "markdown",
   "metadata": {},
   "source": [
    "## class variable vs Instance Variable"
   ]
  },
  {
   "cell_type": "code",
   "execution_count": 66,
   "metadata": {},
   "outputs": [],
   "source": [
    "class Mobile:\n",
    "    fp=\"yes\" # class variable\n",
    "    @classmethod\n",
    "    def show(cls): #class method\n",
    "        print(cls.fp) #Accessing class variable inside class method"
   ]
  },
  {
   "cell_type": "code",
   "execution_count": 67,
   "metadata": {},
   "outputs": [
    {
     "name": "stdout",
     "output_type": "stream",
     "text": [
      "yes\n"
     ]
    }
   ],
   "source": [
    "realme=Mobile()\n",
    "print(Mobile.fp)"
   ]
  },
  {
   "cell_type": "code",
   "execution_count": 68,
   "metadata": {},
   "outputs": [],
   "source": [
    "class mobile:\n",
    "    def __init__(self):\n",
    "        self.model=\"Realme x\" #Instance variable\n",
    "    def show_model(self): #Instance method\n",
    "        print(self.model)  #Accessing instance variable inside Instance method"
   ]
  },
  {
   "cell_type": "code",
   "execution_count": 69,
   "metadata": {},
   "outputs": [
    {
     "name": "stdout",
     "output_type": "stream",
     "text": [
      "Realme x\n"
     ]
    }
   ],
   "source": [
    "realme=mobile()\n",
    "print(realme.model)"
   ]
  },
  {
   "cell_type": "code",
   "execution_count": 1,
   "metadata": {},
   "outputs": [],
   "source": [
    "class Mobile:\n",
    "    fp=\"yes\" # class variable\n",
    "    def __init__(self):\n",
    "        self.model=\"Realme x\" #Instance variable\n",
    "    def show_model(self): #Instance method\n",
    "        print(self.model)  #Accessing instance variable inside Instance method\n",
    "    @classmethod\n",
    "    def show(cls): #class method\n",
    "        print(cls.fp) #Accessing class variable inside class method"
   ]
  },
  {
   "cell_type": "code",
   "execution_count": 3,
   "metadata": {},
   "outputs": [
    {
     "name": "stdout",
     "output_type": "stream",
     "text": [
      "yes\n",
      "Realme x\n",
      "yes\n"
     ]
    }
   ],
   "source": [
    "realme=Mobile()\n",
    "realme.show()\n",
    "realme.show_model()\n",
    "Mobile.show()\n",
    "# Mobile.show_model() -->Error"
   ]
  },
  {
   "cell_type": "code",
   "execution_count": 10,
   "metadata": {},
   "outputs": [],
   "source": [
    "class Fruit:\n",
    "    name=\"orange\"\n",
    "    @classmethod\n",
    "    def printname(cls):\n",
    "        print(\"The name is:\",cls.name)"
   ]
  },
  {
   "cell_type": "code",
   "execution_count": 11,
   "metadata": {},
   "outputs": [
    {
     "name": "stdout",
     "output_type": "stream",
     "text": [
      "The name is: orange\n",
      "The name is: banana\n",
      "The name is: banana\n"
     ]
    }
   ],
   "source": [
    "Fruit.printname()\n",
    "apple=Fruit()\n",
    "Fruit.name=\"banana\"\n",
    "Fruit.printname()\n",
    "apple.name=\"strawberry\"  \n",
    "apple.printname()   #cannot changed class variable using object"
   ]
  },
  {
   "cell_type": "code",
   "execution_count": 12,
   "metadata": {},
   "outputs": [],
   "source": [
    "class car:\n",
    "    wheels=4\n",
    "    def __init__(self):\n",
    "        self.mileage=10\n",
    "        self.model=\"BMW\""
   ]
  },
  {
   "cell_type": "code",
   "execution_count": 13,
   "metadata": {},
   "outputs": [
    {
     "name": "stdout",
     "output_type": "stream",
     "text": [
      "BMW 8 5\n",
      "BMW 10 4\n"
     ]
    }
   ],
   "source": [
    "c1=car()\n",
    "c2=car()\n",
    "c1.mileage=8\n",
    "c1.wheels=5\n",
    "print(c1.model,c1.mileage,c1.wheels)\n",
    "print(c2.model,c2.mileage,c2.wheels)"
   ]
  },
  {
   "cell_type": "code",
   "execution_count": null,
   "metadata": {},
   "outputs": [],
   "source": []
  }
 ],
 "metadata": {
  "kernelspec": {
   "display_name": "Python 3",
   "language": "python",
   "name": "python3"
  },
  "language_info": {
   "codemirror_mode": {
    "name": "ipython",
    "version": 3
   },
   "file_extension": ".py",
   "mimetype": "text/x-python",
   "name": "python",
   "nbconvert_exporter": "python",
   "pygments_lexer": "ipython3",
   "version": "3.8.5"
  }
 },
 "nbformat": 4,
 "nbformat_minor": 4
}
